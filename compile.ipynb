{
 "cells": [
  {
   "cell_type": "code",
   "execution_count": 19,
   "metadata": {},
   "outputs": [],
   "source": [
    "\n",
    "import os\n",
    "import pandas as pd\n"
   ]
  },
  {
   "cell_type": "code",
   "execution_count": 20,
   "metadata": {},
   "outputs": [],
   "source": [
    "\n",
    "os.chdir(\"C:/Users/HP/Work/Python/Budget Prediction/Data\")\n",
    "# os.listdir()\n",
    "all = os.listdir()\n"
   ]
  },
  {
   "cell_type": "code",
   "execution_count": 21,
   "metadata": {},
   "outputs": [],
   "source": [
    "df = pd.DataFrame()\n",
    "# Apple. And Water mellon. \n"
   ]
  },
  {
   "cell_type": "code",
   "execution_count": 22,
   "metadata": {},
   "outputs": [],
   "source": [
    "\n",
    "for file in all:\n",
    "    # file = f\"Data/{file}\"\n",
    "    df1 = pd.read_csv(file)\n",
    "    df = pd.concat([df,  df1])"
   ]
  },
  {
   "cell_type": "code",
   "execution_count": 23,
   "metadata": {},
   "outputs": [
    {
     "data": {
      "text/html": [
       "<div>\n",
       "<style scoped>\n",
       "    .dataframe tbody tr th:only-of-type {\n",
       "        vertical-align: middle;\n",
       "    }\n",
       "\n",
       "    .dataframe tbody tr th {\n",
       "        vertical-align: top;\n",
       "    }\n",
       "\n",
       "    .dataframe thead th {\n",
       "        text-align: right;\n",
       "    }\n",
       "</style>\n",
       "<table border=\"1\" class=\"dataframe\">\n",
       "  <thead>\n",
       "    <tr style=\"text-align: right;\">\n",
       "      <th></th>\n",
       "      <th>Unnamed: 0</th>\n",
       "      <th>BUDGETYEAR</th>\n",
       "      <th>BUDGET CATEGORY</th>\n",
       "      <th>TYPE OF EXPENDITURE</th>\n",
       "      <th>GOVERNMENT AGENCY</th>\n",
       "      <th>ESTIMATED BUDGET</th>\n",
       "    </tr>\n",
       "  </thead>\n",
       "  <tbody>\n",
       "    <tr>\n",
       "      <th>0</th>\n",
       "      <td>0.0</td>\n",
       "      <td>2010.0</td>\n",
       "      <td>STATUTORY</td>\n",
       "      <td>NON RECURRENT  EXPENDITURE</td>\n",
       "      <td>NATIONAL JUDICIAL COUNCIL</td>\n",
       "      <td>91000000000.0</td>\n",
       "    </tr>\n",
       "    <tr>\n",
       "      <th>1</th>\n",
       "      <td>1.0</td>\n",
       "      <td>2010.0</td>\n",
       "      <td>STATUTORY</td>\n",
       "      <td>NON RECURRENT  EXPENDITURE</td>\n",
       "      <td>NIGER-DELTA DEVELOPMENT COMMISSION</td>\n",
       "      <td>35624771198.0</td>\n",
       "    </tr>\n",
       "    <tr>\n",
       "      <th>2</th>\n",
       "      <td>2.0</td>\n",
       "      <td>2010.0</td>\n",
       "      <td>STATUTORY</td>\n",
       "      <td>NON RECURRENT  EXPENDITURE</td>\n",
       "      <td>NDDC ARREARS OF SHARE OF EXCESS CRUDE DISTRIBU...</td>\n",
       "      <td>9312986292.0</td>\n",
       "    </tr>\n",
       "    <tr>\n",
       "      <th>3</th>\n",
       "      <td>3.0</td>\n",
       "      <td>2010.0</td>\n",
       "      <td>STATUTORY</td>\n",
       "      <td>NON RECURRENT  EXPENDITURE</td>\n",
       "      <td>UNIVERSAL BASIC EDUCATION</td>\n",
       "      <td>44341401504.0</td>\n",
       "    </tr>\n",
       "    <tr>\n",
       "      <th>4</th>\n",
       "      <td>4.0</td>\n",
       "      <td>2010.0</td>\n",
       "      <td>DEBT SERVICE</td>\n",
       "      <td>NON RECURRENT  EXPENDITURE</td>\n",
       "      <td>DOMESTIC DEBTS</td>\n",
       "      <td>478155330805.0</td>\n",
       "    </tr>\n",
       "  </tbody>\n",
       "</table>\n",
       "</div>"
      ],
      "text/plain": [
       "   Unnamed: 0  BUDGETYEAR BUDGET CATEGORY         TYPE OF EXPENDITURE  \\\n",
       "0         0.0      2010.0       STATUTORY  NON RECURRENT  EXPENDITURE   \n",
       "1         1.0      2010.0       STATUTORY  NON RECURRENT  EXPENDITURE   \n",
       "2         2.0      2010.0       STATUTORY  NON RECURRENT  EXPENDITURE   \n",
       "3         3.0      2010.0       STATUTORY  NON RECURRENT  EXPENDITURE   \n",
       "4         4.0      2010.0    DEBT SERVICE  NON RECURRENT  EXPENDITURE   \n",
       "\n",
       "                                   GOVERNMENT AGENCY ESTIMATED BUDGET  \n",
       "0                          NATIONAL JUDICIAL COUNCIL    91000000000.0  \n",
       "1                 NIGER-DELTA DEVELOPMENT COMMISSION    35624771198.0  \n",
       "2  NDDC ARREARS OF SHARE OF EXCESS CRUDE DISTRIBU...     9312986292.0  \n",
       "3                          UNIVERSAL BASIC EDUCATION    44341401504.0  \n",
       "4                                     DOMESTIC DEBTS   478155330805.0  "
      ]
     },
     "execution_count": 23,
     "metadata": {},
     "output_type": "execute_result"
    }
   ],
   "source": [
    "df.head()"
   ]
  },
  {
   "cell_type": "code",
   "execution_count": 24,
   "metadata": {},
   "outputs": [
    {
     "data": {
      "text/plain": [
       "2689"
      ]
     },
     "execution_count": 24,
     "metadata": {},
     "output_type": "execute_result"
    }
   ],
   "source": [
    "len(df)"
   ]
  },
  {
   "cell_type": "code",
   "execution_count": 25,
   "metadata": {},
   "outputs": [],
   "source": [
    "os.chdir(\"C:/Users/HP/Work/Python/Budget Prediction/\")"
   ]
  },
  {
   "cell_type": "code",
   "execution_count": 26,
   "metadata": {},
   "outputs": [],
   "source": [
    "df.to_csv(\"data.csv\")"
   ]
  }
 ],
 "metadata": {
  "kernelspec": {
   "display_name": "Python 3.10.5 64-bit",
   "language": "python",
   "name": "python3"
  },
  "language_info": {
   "codemirror_mode": {
    "name": "ipython",
    "version": 3
   },
   "file_extension": ".py",
   "mimetype": "text/x-python",
   "name": "python",
   "nbconvert_exporter": "python",
   "pygments_lexer": "ipython3",
   "version": "3.10.5"
  },
  "orig_nbformat": 4,
  "vscode": {
   "interpreter": {
    "hash": "a9cff5a362bc38ef45d817ae74b1af54d6a076e3d773891282bce078b815ba34"
   }
  }
 },
 "nbformat": 4,
 "nbformat_minor": 2
}
