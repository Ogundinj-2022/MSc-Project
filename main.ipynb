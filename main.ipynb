{
 "cells": [
  {
   "cell_type": "code",
   "execution_count": 109,
   "metadata": {},
   "outputs": [],
   "source": [
    "import pandas as pd\n",
    "import matplotlib.pyplot as plt\n",
    "#import matplotlib.colors as colors\n",
    "import numpy as np\n",
    "%matplotlib inline"
   ]
  },
  {
   "cell_type": "code",
   "execution_count": 110,
   "metadata": {},
   "outputs": [],
   "source": [
    "import os\n",
    "files = os.listdir(\"Data\")"
   ]
  },
  {
   "cell_type": "code",
   "execution_count": 111,
   "metadata": {},
   "outputs": [],
   "source": [
    "df_main = pd.DataFrame()\n"
   ]
  },
  {
   "cell_type": "code",
   "execution_count": 112,
   "metadata": {},
   "outputs": [],
   "source": [
    "def Cleaned (clean: str):\n",
    "    try:\n",
    "        clean = clean.replace(\",\", \"\")\n",
    "        clean = clean.replace(\" \", \"\")    \n",
    "    except AttributeError:\n",
    "        pass\n",
    "    return clean"
   ]
  },
  {
   "cell_type": "code",
   "execution_count": 113,
   "metadata": {},
   "outputs": [
    {
     "name": "stdout",
     "output_type": "stream",
     "text": [
      "False\n",
      "False\n",
      "False\n",
      "False\n",
      "True\n",
      "False\n",
      "False\n",
      "False\n",
      "False\n"
     ]
    },
    {
     "name": "stderr",
     "output_type": "stream",
     "text": [
      "C:\\Users\\joogu\\AppData\\Local\\Temp\\ipykernel_2652\\2289976599.py:4: FutureWarning: The frame.append method is deprecated and will be removed from pandas in a future version. Use pandas.concat instead.\n",
      "  df_main =  df_main.append(df, ignore_index=True)\n",
      "C:\\Users\\joogu\\AppData\\Local\\Temp\\ipykernel_2652\\2289976599.py:4: FutureWarning: The frame.append method is deprecated and will be removed from pandas in a future version. Use pandas.concat instead.\n",
      "  df_main =  df_main.append(df, ignore_index=True)\n",
      "C:\\Users\\joogu\\AppData\\Local\\Temp\\ipykernel_2652\\2289976599.py:4: FutureWarning: The frame.append method is deprecated and will be removed from pandas in a future version. Use pandas.concat instead.\n",
      "  df_main =  df_main.append(df, ignore_index=True)\n",
      "C:\\Users\\joogu\\AppData\\Local\\Temp\\ipykernel_2652\\2289976599.py:4: FutureWarning: The frame.append method is deprecated and will be removed from pandas in a future version. Use pandas.concat instead.\n",
      "  df_main =  df_main.append(df, ignore_index=True)\n",
      "C:\\Users\\joogu\\AppData\\Local\\Temp\\ipykernel_2652\\2289976599.py:4: FutureWarning: The frame.append method is deprecated and will be removed from pandas in a future version. Use pandas.concat instead.\n",
      "  df_main =  df_main.append(df, ignore_index=True)\n",
      "C:\\Users\\joogu\\AppData\\Local\\Temp\\ipykernel_2652\\2289976599.py:4: FutureWarning: The frame.append method is deprecated and will be removed from pandas in a future version. Use pandas.concat instead.\n",
      "  df_main =  df_main.append(df, ignore_index=True)\n",
      "C:\\Users\\joogu\\AppData\\Local\\Temp\\ipykernel_2652\\2289976599.py:4: FutureWarning: The frame.append method is deprecated and will be removed from pandas in a future version. Use pandas.concat instead.\n",
      "  df_main =  df_main.append(df, ignore_index=True)\n",
      "C:\\Users\\joogu\\AppData\\Local\\Temp\\ipykernel_2652\\2289976599.py:4: FutureWarning: The frame.append method is deprecated and will be removed from pandas in a future version. Use pandas.concat instead.\n",
      "  df_main =  df_main.append(df, ignore_index=True)\n",
      "C:\\Users\\joogu\\AppData\\Local\\Temp\\ipykernel_2652\\2289976599.py:4: FutureWarning: The frame.append method is deprecated and will be removed from pandas in a future version. Use pandas.concat instead.\n",
      "  df_main =  df_main.append(df, ignore_index=True)\n"
     ]
    },
    {
     "name": "stdout",
     "output_type": "stream",
     "text": [
      "False\n",
      "False\n",
      "False\n",
      "False\n",
      "False\n"
     ]
    },
    {
     "name": "stderr",
     "output_type": "stream",
     "text": [
      "C:\\Users\\joogu\\AppData\\Local\\Temp\\ipykernel_2652\\2289976599.py:4: FutureWarning: The frame.append method is deprecated and will be removed from pandas in a future version. Use pandas.concat instead.\n",
      "  df_main =  df_main.append(df, ignore_index=True)\n",
      "C:\\Users\\joogu\\AppData\\Local\\Temp\\ipykernel_2652\\2289976599.py:4: FutureWarning: The frame.append method is deprecated and will be removed from pandas in a future version. Use pandas.concat instead.\n",
      "  df_main =  df_main.append(df, ignore_index=True)\n",
      "C:\\Users\\joogu\\AppData\\Local\\Temp\\ipykernel_2652\\2289976599.py:4: FutureWarning: The frame.append method is deprecated and will be removed from pandas in a future version. Use pandas.concat instead.\n",
      "  df_main =  df_main.append(df, ignore_index=True)\n",
      "C:\\Users\\joogu\\AppData\\Local\\Temp\\ipykernel_2652\\2289976599.py:4: FutureWarning: The frame.append method is deprecated and will be removed from pandas in a future version. Use pandas.concat instead.\n",
      "  df_main =  df_main.append(df, ignore_index=True)\n",
      "C:\\Users\\joogu\\AppData\\Local\\Temp\\ipykernel_2652\\2289976599.py:4: FutureWarning: The frame.append method is deprecated and will be removed from pandas in a future version. Use pandas.concat instead.\n",
      "  df_main =  df_main.append(df, ignore_index=True)\n"
     ]
    }
   ],
   "source": [
    "for file in files:\n",
    "    df = pd.read_csv(f\"Data/{file}\")\n",
    "    print(df.isnull().values.any())\n",
    "    df_main =  df_main.append(df, ignore_index=True)"
   ]
  },
  {
   "cell_type": "code",
   "execution_count": 114,
   "metadata": {},
   "outputs": [
    {
     "data": {
      "text/plain": [
       "0         0.0\n",
       "1         1.0\n",
       "2         2.0\n",
       "3         3.0\n",
       "4         4.0\n",
       "        ...  \n",
       "2684    216.0\n",
       "2685    217.0\n",
       "2686    218.0\n",
       "2687    219.0\n",
       "2688    220.0\n",
       "Name: Unnamed: 0, Length: 2689, dtype: float64"
      ]
     },
     "execution_count": 114,
     "metadata": {},
     "output_type": "execute_result"
    }
   ],
   "source": [
    "df_main.pop(\"Unnamed: 0\")"
   ]
  },
  {
   "cell_type": "code",
   "execution_count": 115,
   "metadata": {},
   "outputs": [
    {
     "data": {
      "text/html": [
       "<div>\n",
       "<style scoped>\n",
       "    .dataframe tbody tr th:only-of-type {\n",
       "        vertical-align: middle;\n",
       "    }\n",
       "\n",
       "    .dataframe tbody tr th {\n",
       "        vertical-align: top;\n",
       "    }\n",
       "\n",
       "    .dataframe thead th {\n",
       "        text-align: right;\n",
       "    }\n",
       "</style>\n",
       "<table border=\"1\" class=\"dataframe\">\n",
       "  <thead>\n",
       "    <tr style=\"text-align: right;\">\n",
       "      <th></th>\n",
       "      <th>BUDGETYEAR</th>\n",
       "      <th>BUDGET CATEGORY</th>\n",
       "      <th>TYPE OF EXPENDITURE</th>\n",
       "      <th>GOVERNMENT AGENCY</th>\n",
       "      <th>ESTIMATED BUDGET</th>\n",
       "    </tr>\n",
       "  </thead>\n",
       "  <tbody>\n",
       "    <tr>\n",
       "      <th>0</th>\n",
       "      <td>2010.0</td>\n",
       "      <td>STATUTORY</td>\n",
       "      <td>NON RECURRENT  EXPENDITURE</td>\n",
       "      <td>NATIONAL JUDICIAL COUNCIL</td>\n",
       "      <td>91000000000.0</td>\n",
       "    </tr>\n",
       "    <tr>\n",
       "      <th>1</th>\n",
       "      <td>2010.0</td>\n",
       "      <td>STATUTORY</td>\n",
       "      <td>NON RECURRENT  EXPENDITURE</td>\n",
       "      <td>NIGER-DELTA DEVELOPMENT COMMISSION</td>\n",
       "      <td>35624771198.0</td>\n",
       "    </tr>\n",
       "    <tr>\n",
       "      <th>2</th>\n",
       "      <td>2010.0</td>\n",
       "      <td>STATUTORY</td>\n",
       "      <td>NON RECURRENT  EXPENDITURE</td>\n",
       "      <td>NDDC ARREARS OF SHARE OF EXCESS CRUDE DISTRIBU...</td>\n",
       "      <td>9312986292.0</td>\n",
       "    </tr>\n",
       "    <tr>\n",
       "      <th>3</th>\n",
       "      <td>2010.0</td>\n",
       "      <td>STATUTORY</td>\n",
       "      <td>NON RECURRENT  EXPENDITURE</td>\n",
       "      <td>UNIVERSAL BASIC EDUCATION</td>\n",
       "      <td>44341401504.0</td>\n",
       "    </tr>\n",
       "    <tr>\n",
       "      <th>4</th>\n",
       "      <td>2010.0</td>\n",
       "      <td>DEBT SERVICE</td>\n",
       "      <td>NON RECURRENT  EXPENDITURE</td>\n",
       "      <td>DOMESTIC DEBTS</td>\n",
       "      <td>478155330805.0</td>\n",
       "    </tr>\n",
       "  </tbody>\n",
       "</table>\n",
       "</div>"
      ],
      "text/plain": [
       "   BUDGETYEAR BUDGET CATEGORY         TYPE OF EXPENDITURE  \\\n",
       "0      2010.0       STATUTORY  NON RECURRENT  EXPENDITURE   \n",
       "1      2010.0       STATUTORY  NON RECURRENT  EXPENDITURE   \n",
       "2      2010.0       STATUTORY  NON RECURRENT  EXPENDITURE   \n",
       "3      2010.0       STATUTORY  NON RECURRENT  EXPENDITURE   \n",
       "4      2010.0    DEBT SERVICE  NON RECURRENT  EXPENDITURE   \n",
       "\n",
       "                                   GOVERNMENT AGENCY ESTIMATED BUDGET  \n",
       "0                          NATIONAL JUDICIAL COUNCIL    91000000000.0  \n",
       "1                 NIGER-DELTA DEVELOPMENT COMMISSION    35624771198.0  \n",
       "2  NDDC ARREARS OF SHARE OF EXCESS CRUDE DISTRIBU...     9312986292.0  \n",
       "3                          UNIVERSAL BASIC EDUCATION    44341401504.0  \n",
       "4                                     DOMESTIC DEBTS   478155330805.0  "
      ]
     },
     "execution_count": 115,
     "metadata": {},
     "output_type": "execute_result"
    }
   ],
   "source": [
    "df_main.head()"
   ]
  },
  {
   "cell_type": "code",
   "execution_count": 116,
   "metadata": {},
   "outputs": [
    {
     "data": {
      "text/html": [
       "<div>\n",
       "<style scoped>\n",
       "    .dataframe tbody tr th:only-of-type {\n",
       "        vertical-align: middle;\n",
       "    }\n",
       "\n",
       "    .dataframe tbody tr th {\n",
       "        vertical-align: top;\n",
       "    }\n",
       "\n",
       "    .dataframe thead th {\n",
       "        text-align: right;\n",
       "    }\n",
       "</style>\n",
       "<table border=\"1\" class=\"dataframe\">\n",
       "  <thead>\n",
       "    <tr style=\"text-align: right;\">\n",
       "      <th></th>\n",
       "      <th>BUDGETYEAR</th>\n",
       "      <th>BUDGET CATEGORY</th>\n",
       "      <th>TYPE OF EXPENDITURE</th>\n",
       "      <th>GOVERNMENT AGENCY</th>\n",
       "      <th>ESTIMATED BUDGET</th>\n",
       "    </tr>\n",
       "  </thead>\n",
       "  <tbody>\n",
       "    <tr>\n",
       "      <th>0</th>\n",
       "      <td>2010</td>\n",
       "      <td>STATUTORY</td>\n",
       "      <td>NON RECURRENT  EXPENDITURE</td>\n",
       "      <td>NATIONAL JUDICIAL COUNCIL</td>\n",
       "      <td>91000000000.0</td>\n",
       "    </tr>\n",
       "    <tr>\n",
       "      <th>1</th>\n",
       "      <td>2010</td>\n",
       "      <td>STATUTORY</td>\n",
       "      <td>NON RECURRENT  EXPENDITURE</td>\n",
       "      <td>NIGER-DELTA DEVELOPMENT COMMISSION</td>\n",
       "      <td>35624771198.0</td>\n",
       "    </tr>\n",
       "    <tr>\n",
       "      <th>2</th>\n",
       "      <td>2010</td>\n",
       "      <td>STATUTORY</td>\n",
       "      <td>NON RECURRENT  EXPENDITURE</td>\n",
       "      <td>NDDC ARREARS OF SHARE OF EXCESS CRUDE DISTRIBU...</td>\n",
       "      <td>9312986292.0</td>\n",
       "    </tr>\n",
       "    <tr>\n",
       "      <th>3</th>\n",
       "      <td>2010</td>\n",
       "      <td>STATUTORY</td>\n",
       "      <td>NON RECURRENT  EXPENDITURE</td>\n",
       "      <td>UNIVERSAL BASIC EDUCATION</td>\n",
       "      <td>44341401504.0</td>\n",
       "    </tr>\n",
       "    <tr>\n",
       "      <th>4</th>\n",
       "      <td>2010</td>\n",
       "      <td>DEBT SERVICE</td>\n",
       "      <td>NON RECURRENT  EXPENDITURE</td>\n",
       "      <td>DOMESTIC DEBTS</td>\n",
       "      <td>478155330805.0</td>\n",
       "    </tr>\n",
       "  </tbody>\n",
       "</table>\n",
       "</div>"
      ],
      "text/plain": [
       "   BUDGETYEAR BUDGET CATEGORY         TYPE OF EXPENDITURE  \\\n",
       "0        2010       STATUTORY  NON RECURRENT  EXPENDITURE   \n",
       "1        2010       STATUTORY  NON RECURRENT  EXPENDITURE   \n",
       "2        2010       STATUTORY  NON RECURRENT  EXPENDITURE   \n",
       "3        2010       STATUTORY  NON RECURRENT  EXPENDITURE   \n",
       "4        2010    DEBT SERVICE  NON RECURRENT  EXPENDITURE   \n",
       "\n",
       "                                   GOVERNMENT AGENCY ESTIMATED BUDGET  \n",
       "0                          NATIONAL JUDICIAL COUNCIL    91000000000.0  \n",
       "1                 NIGER-DELTA DEVELOPMENT COMMISSION    35624771198.0  \n",
       "2  NDDC ARREARS OF SHARE OF EXCESS CRUDE DISTRIBU...     9312986292.0  \n",
       "3                          UNIVERSAL BASIC EDUCATION    44341401504.0  \n",
       "4                                     DOMESTIC DEBTS   478155330805.0  "
      ]
     },
     "execution_count": 116,
     "metadata": {},
     "output_type": "execute_result"
    }
   ],
   "source": [
    "df_main['BUDGETYEAR'] = df_main['BUDGETYEAR'].astype(int)\n",
    "df_main.head()"
   ]
  },
  {
   "cell_type": "code",
   "execution_count": 117,
   "metadata": {},
   "outputs": [
    {
     "name": "stdout",
     "output_type": "stream",
     "text": [
      "BUDGETYEAR\n",
      "BUDGET CATEGORY\n",
      "TYPE OF EXPENDITURE\n",
      "GOVERNMENT AGENCY\n",
      "ESTIMATED BUDGET\n"
     ]
    }
   ],
   "source": [
    "df_main.tail()\n",
    "for coll in df_main.columns:\n",
    "    print(coll)\n",
    "df_main.rename(columns = {'ESTIMATED BUDGET':'TOTAL BUDGET'}, inplace=True)"
   ]
  },
  {
   "cell_type": "code",
   "execution_count": 118,
   "metadata": {},
   "outputs": [
    {
     "data": {
      "text/plain": [
       "BUDGETYEAR             0\n",
       "BUDGET CATEGORY        1\n",
       "TYPE OF EXPENDITURE    0\n",
       "GOVERNMENT AGENCY      0\n",
       "TOTAL BUDGET           0\n",
       "dtype: int64"
      ]
     },
     "execution_count": 118,
     "metadata": {},
     "output_type": "execute_result"
    }
   ],
   "source": [
    "df_main.isnull().sum()"
   ]
  },
  {
   "cell_type": "code",
   "execution_count": 119,
   "metadata": {},
   "outputs": [],
   "source": [
    "df_main = df_main.fillna(0)\n"
   ]
  },
  {
   "cell_type": "code",
   "execution_count": 120,
   "metadata": {},
   "outputs": [
    {
     "data": {
      "text/plain": [
       "BUDGETYEAR             0\n",
       "BUDGET CATEGORY        0\n",
       "TYPE OF EXPENDITURE    0\n",
       "GOVERNMENT AGENCY      0\n",
       "TOTAL BUDGET           0\n",
       "dtype: int64"
      ]
     },
     "execution_count": 120,
     "metadata": {},
     "output_type": "execute_result"
    }
   ],
   "source": [
    "df_main.isnull().sum()"
   ]
  },
  {
   "cell_type": "code",
   "execution_count": 121,
   "metadata": {},
   "outputs": [],
   "source": [
    "df_main[\"TOTAL BUDGET\"] = df_main[\"TOTAL BUDGET\"].apply(Cleaned)"
   ]
  },
  {
   "cell_type": "code",
   "execution_count": 122,
   "metadata": {},
   "outputs": [
    {
     "data": {
      "text/html": [
       "<div>\n",
       "<style scoped>\n",
       "    .dataframe tbody tr th:only-of-type {\n",
       "        vertical-align: middle;\n",
       "    }\n",
       "\n",
       "    .dataframe tbody tr th {\n",
       "        vertical-align: top;\n",
       "    }\n",
       "\n",
       "    .dataframe thead th {\n",
       "        text-align: right;\n",
       "    }\n",
       "</style>\n",
       "<table border=\"1\" class=\"dataframe\">\n",
       "  <thead>\n",
       "    <tr style=\"text-align: right;\">\n",
       "      <th></th>\n",
       "      <th>BUDGETYEAR</th>\n",
       "      <th>BUDGET CATEGORY</th>\n",
       "      <th>TYPE OF EXPENDITURE</th>\n",
       "      <th>GOVERNMENT AGENCY</th>\n",
       "      <th>TOTAL BUDGET</th>\n",
       "    </tr>\n",
       "  </thead>\n",
       "  <tbody>\n",
       "    <tr>\n",
       "      <th>0</th>\n",
       "      <td>2010</td>\n",
       "      <td>STATUTORY</td>\n",
       "      <td>NON RECURRENT  EXPENDITURE</td>\n",
       "      <td>NATIONAL JUDICIAL COUNCIL</td>\n",
       "      <td>91000000000.0</td>\n",
       "    </tr>\n",
       "    <tr>\n",
       "      <th>1</th>\n",
       "      <td>2010</td>\n",
       "      <td>STATUTORY</td>\n",
       "      <td>NON RECURRENT  EXPENDITURE</td>\n",
       "      <td>NIGER-DELTA DEVELOPMENT COMMISSION</td>\n",
       "      <td>35624771198.0</td>\n",
       "    </tr>\n",
       "    <tr>\n",
       "      <th>2</th>\n",
       "      <td>2010</td>\n",
       "      <td>STATUTORY</td>\n",
       "      <td>NON RECURRENT  EXPENDITURE</td>\n",
       "      <td>NDDC ARREARS OF SHARE OF EXCESS CRUDE DISTRIBU...</td>\n",
       "      <td>9312986292.0</td>\n",
       "    </tr>\n",
       "    <tr>\n",
       "      <th>3</th>\n",
       "      <td>2010</td>\n",
       "      <td>STATUTORY</td>\n",
       "      <td>NON RECURRENT  EXPENDITURE</td>\n",
       "      <td>UNIVERSAL BASIC EDUCATION</td>\n",
       "      <td>44341401504.0</td>\n",
       "    </tr>\n",
       "    <tr>\n",
       "      <th>4</th>\n",
       "      <td>2010</td>\n",
       "      <td>DEBT SERVICE</td>\n",
       "      <td>NON RECURRENT  EXPENDITURE</td>\n",
       "      <td>DOMESTIC DEBTS</td>\n",
       "      <td>478155330805.0</td>\n",
       "    </tr>\n",
       "  </tbody>\n",
       "</table>\n",
       "</div>"
      ],
      "text/plain": [
       "   BUDGETYEAR BUDGET CATEGORY         TYPE OF EXPENDITURE  \\\n",
       "0        2010       STATUTORY  NON RECURRENT  EXPENDITURE   \n",
       "1        2010       STATUTORY  NON RECURRENT  EXPENDITURE   \n",
       "2        2010       STATUTORY  NON RECURRENT  EXPENDITURE   \n",
       "3        2010       STATUTORY  NON RECURRENT  EXPENDITURE   \n",
       "4        2010    DEBT SERVICE  NON RECURRENT  EXPENDITURE   \n",
       "\n",
       "                                   GOVERNMENT AGENCY    TOTAL BUDGET  \n",
       "0                          NATIONAL JUDICIAL COUNCIL   91000000000.0  \n",
       "1                 NIGER-DELTA DEVELOPMENT COMMISSION   35624771198.0  \n",
       "2  NDDC ARREARS OF SHARE OF EXCESS CRUDE DISTRIBU...    9312986292.0  \n",
       "3                          UNIVERSAL BASIC EDUCATION   44341401504.0  \n",
       "4                                     DOMESTIC DEBTS  478155330805.0  "
      ]
     },
     "execution_count": 122,
     "metadata": {},
     "output_type": "execute_result"
    }
   ],
   "source": [
    "df_main.head()"
   ]
  },
  {
   "cell_type": "code",
   "execution_count": 123,
   "metadata": {},
   "outputs": [],
   "source": [
    "col = ['Unnamed: 0', 'BUDGETYEAR', 'BUDGET CATEGORY', 'TYPE OF EXPENDITURE',\n",
    "       'GOVERNMENT AGENCY', 'TOTAL BUDGET']\n",
    "government_agency = col[4]\n",
    "expenditure_type = col[3]\n",
    "budget_category = col[2]\n",
    "budget_year = col[1]\n",
    "budget_amount = col[5]\n"
   ]
  },
  {
   "cell_type": "code",
   "execution_count": 124,
   "metadata": {},
   "outputs": [
    {
     "data": {
      "text/plain": [
       "array([2010, 2011, 2012, 2013, 2014, 2015, 2016, 2017, 2018, 2019, 2020,\n",
       "       2021, 2022])"
      ]
     },
     "execution_count": 124,
     "metadata": {},
     "output_type": "execute_result"
    }
   ],
   "source": [
    "df_main[budget_year].unique()"
   ]
  },
  {
   "cell_type": "code",
   "execution_count": 125,
   "metadata": {},
   "outputs": [
    {
     "name": "stdout",
     "output_type": "stream",
     "text": [
      "<class 'pandas.core.frame.DataFrame'>\n",
      "RangeIndex: 2689 entries, 0 to 2688\n",
      "Data columns (total 2 columns):\n",
      " #   Column        Non-Null Count  Dtype \n",
      "---  ------        --------------  ----- \n",
      " 0   BUDGETYEAR    2689 non-null   int32 \n",
      " 1   TOTAL BUDGET  2689 non-null   object\n",
      "dtypes: int32(1), object(1)\n",
      "memory usage: 31.6+ KB\n"
     ]
    }
   ],
   "source": [
    "df_temp  = df_main[[budget_year, budget_amount]]\n",
    "# df_main.groupby([year]).sum()\n",
    "df_temp.info()"
   ]
  },
  {
   "cell_type": "code",
   "execution_count": 126,
   "metadata": {},
   "outputs": [
    {
     "name": "stderr",
     "output_type": "stream",
     "text": [
      "C:\\Users\\joogu\\AppData\\Local\\Temp\\ipykernel_2652\\269803411.py:1: SettingWithCopyWarning: \n",
      "A value is trying to be set on a copy of a slice from a DataFrame.\n",
      "Try using .loc[row_indexer,col_indexer] = value instead\n",
      "\n",
      "See the caveats in the documentation: https://pandas.pydata.org/pandas-docs/stable/user_guide/indexing.html#returning-a-view-versus-a-copy\n",
      "  df_temp[budget_year] = df_temp[budget_year].astype(int)\n"
     ]
    }
   ],
   "source": [
    "df_temp[budget_year] = df_temp[budget_year].astype(int)"
   ]
  },
  {
   "cell_type": "code",
   "execution_count": 127,
   "metadata": {},
   "outputs": [],
   "source": [
    "from math import floor\n",
    "\n",
    "def divide(val):\n",
    "    # val = float(val)\n",
    "    # print(val)\n",
    "    # divisor = 10000000000\n",
    "    # d = floor(val / divisor)\n",
    "    # return int(d)\n",
    "    return float(val)"
   ]
  },
  {
   "cell_type": "code",
   "execution_count": 128,
   "metadata": {},
   "outputs": [
    {
     "name": "stderr",
     "output_type": "stream",
     "text": [
      "C:\\Users\\joogu\\AppData\\Local\\Temp\\ipykernel_2652\\3575314723.py:1: SettingWithCopyWarning: \n",
      "A value is trying to be set on a copy of a slice from a DataFrame.\n",
      "Try using .loc[row_indexer,col_indexer] = value instead\n",
      "\n",
      "See the caveats in the documentation: https://pandas.pydata.org/pandas-docs/stable/user_guide/indexing.html#returning-a-view-versus-a-copy\n",
      "  df_temp[budget_amount] = df_temp[budget_amount].apply(divide)\n"
     ]
    }
   ],
   "source": [
    "df_temp[budget_amount] = df_temp[budget_amount].apply(divide)\n"
   ]
  },
  {
   "cell_type": "code",
   "execution_count": 129,
   "metadata": {},
   "outputs": [
    {
     "name": "stdout",
     "output_type": "stream",
     "text": [
      "<class 'pandas.core.frame.DataFrame'>\n",
      "RangeIndex: 2689 entries, 0 to 2688\n",
      "Data columns (total 2 columns):\n",
      " #   Column        Non-Null Count  Dtype  \n",
      "---  ------        --------------  -----  \n",
      " 0   BUDGETYEAR    2689 non-null   int32  \n",
      " 1   TOTAL BUDGET  2689 non-null   float64\n",
      "dtypes: float64(1), int32(1)\n",
      "memory usage: 31.6 KB\n"
     ]
    }
   ],
   "source": [
    "df_temp.info()"
   ]
  },
  {
   "cell_type": "code",
   "execution_count": 130,
   "metadata": {},
   "outputs": [
    {
     "data": {
      "text/html": [
       "<div>\n",
       "<style scoped>\n",
       "    .dataframe tbody tr th:only-of-type {\n",
       "        vertical-align: middle;\n",
       "    }\n",
       "\n",
       "    .dataframe tbody tr th {\n",
       "        vertical-align: top;\n",
       "    }\n",
       "\n",
       "    .dataframe thead th {\n",
       "        text-align: right;\n",
       "    }\n",
       "</style>\n",
       "<table border=\"1\" class=\"dataframe\">\n",
       "  <thead>\n",
       "    <tr style=\"text-align: right;\">\n",
       "      <th></th>\n",
       "      <th>TOTAL BUDGET</th>\n",
       "    </tr>\n",
       "    <tr>\n",
       "      <th>BUDGETYEAR</th>\n",
       "      <th></th>\n",
       "    </tr>\n",
       "  </thead>\n",
       "  <tbody>\n",
       "    <tr>\n",
       "      <th>2010</th>\n",
       "      <td>4.250801e+12</td>\n",
       "    </tr>\n",
       "    <tr>\n",
       "      <th>2011</th>\n",
       "      <td>7.948285e+12</td>\n",
       "    </tr>\n",
       "    <tr>\n",
       "      <th>2012</th>\n",
       "      <td>4.869293e+12</td>\n",
       "    </tr>\n",
       "    <tr>\n",
       "      <th>2013</th>\n",
       "      <td>5.150311e+12</td>\n",
       "    </tr>\n",
       "    <tr>\n",
       "      <th>2014</th>\n",
       "      <td>5.214118e+12</td>\n",
       "    </tr>\n",
       "    <tr>\n",
       "      <th>2015</th>\n",
       "      <td>5.161699e+12</td>\n",
       "    </tr>\n",
       "    <tr>\n",
       "      <th>2016</th>\n",
       "      <td>6.171679e+12</td>\n",
       "    </tr>\n",
       "    <tr>\n",
       "      <th>2017</th>\n",
       "      <td>8.439269e+12</td>\n",
       "    </tr>\n",
       "    <tr>\n",
       "      <th>2018</th>\n",
       "      <td>8.653561e+12</td>\n",
       "    </tr>\n",
       "    <tr>\n",
       "      <th>2019</th>\n",
       "      <td>9.250242e+12</td>\n",
       "    </tr>\n",
       "    <tr>\n",
       "      <th>2020</th>\n",
       "      <td>2.209607e+13</td>\n",
       "    </tr>\n",
       "    <tr>\n",
       "      <th>2021</th>\n",
       "      <td>1.388555e+13</td>\n",
       "    </tr>\n",
       "    <tr>\n",
       "      <th>2022</th>\n",
       "      <td>1.937012e+13</td>\n",
       "    </tr>\n",
       "  </tbody>\n",
       "</table>\n",
       "</div>"
      ],
      "text/plain": [
       "            TOTAL BUDGET\n",
       "BUDGETYEAR              \n",
       "2010        4.250801e+12\n",
       "2011        7.948285e+12\n",
       "2012        4.869293e+12\n",
       "2013        5.150311e+12\n",
       "2014        5.214118e+12\n",
       "2015        5.161699e+12\n",
       "2016        6.171679e+12\n",
       "2017        8.439269e+12\n",
       "2018        8.653561e+12\n",
       "2019        9.250242e+12\n",
       "2020        2.209607e+13\n",
       "2021        1.388555e+13\n",
       "2022        1.937012e+13"
      ]
     },
     "execution_count": 130,
     "metadata": {},
     "output_type": "execute_result"
    }
   ],
   "source": [
    "df_grouped = df_temp.groupby([budget_year]).sum()\n",
    "df_grouped\n"
   ]
  },
  {
   "cell_type": "code",
   "execution_count": 131,
   "metadata": {},
   "outputs": [],
   "source": [
    "df_grouped = pd.read_csv(\"allbudget.csv\")\n",
    "df_grouped.rename(columns = {'ESTIMATED BUDGET':'TOTAL BUDGET'}, inplace=True)"
   ]
  },
  {
   "cell_type": "code",
   "execution_count": 132,
   "metadata": {},
   "outputs": [
    {
     "data": {
      "text/plain": [
       "<AxesSubplot:title={'center':'Line Chart'}, xlabel='BUDGETYEAR'>"
      ]
     },
     "execution_count": 132,
     "metadata": {},
     "output_type": "execute_result"
    },
    {
     "data": {
      "image/png": "[encoded data removed]",
      "text/plain": [
       "<Figure size 432x288 with 1 Axes>"
      ]
     },
     "metadata": {
      "needs_background": "light"
     },
     "output_type": "display_data"
    }
   ],
   "source": [
    "from turtle import title\n",
    "\n",
    "\n",
    "df_grouped.head()\n",
    "df_grouped.plot(budget_year, budget_amount, color=\"red\", title = 'Line Chart')"
   ]
  },
  {
   "cell_type": "code",
   "execution_count": 133,
   "metadata": {},
   "outputs": [
    {
     "data": {
      "image/png": "[encoded data removed]",
      "text/plain": [
       "<Figure size 432x288 with 1 Axes>"
      ]
     },
     "metadata": {
      "needs_background": "light"
     },
     "output_type": "display_data"
    }
   ],
   "source": [
    "axes = df_grouped.plot.bar(budget_year, budget_amount, color=\"green\", title = 'Total Budget')"
   ]
  },
  {
   "cell_type": "code",
   "execution_count": 134,
   "metadata": {},
   "outputs": [
    {
     "data": {
      "image/png": "[encoded data removed]",
      "text/plain": [
       "<Figure size 432x288 with 1 Axes>"
      ]
     },
     "metadata": {
      "needs_background": "light"
     },
     "output_type": "display_data"
    }
   ],
   "source": [
    "from turtle import title\n",
    "\n",
    "\n",
    "df_grouped.plot(budget_year, budget_amount, kind = 'scatter', title = 'Scatter Graph')\n",
    "plt.show()"
   ]
  },
  {
   "cell_type": "code",
   "execution_count": 135,
   "metadata": {},
   "outputs": [
    {
     "data": {
      "image/png": "[encoded data removed]",
      "text/plain": [
       "<Figure size 432x288 with 1 Axes>"
      ]
     },
     "metadata": {},
     "output_type": "display_data"
    }
   ],
   "source": [
    "from turtle import color, title\n",
    "from matplotlib import colors\n",
    "df_grouped.plot(budget_year, budget_amount, kind = 'pie', autopct='%1.0f%%', startangle=100, title = 'Pie Chart')\n",
    "plt.show()"
   ]
  },
  {
   "cell_type": "code",
   "execution_count": 136,
   "metadata": {},
   "outputs": [
    {
     "data": {
      "text/plain": [
       "Index(['BUDGETYEAR', 'TOTAL BUDGET'], dtype='object')"
      ]
     },
     "execution_count": 136,
     "metadata": {},
     "output_type": "execute_result"
    }
   ],
   "source": [
    "df_grouped.columns"
   ]
  },
  {
   "cell_type": "code",
   "execution_count": 137,
   "metadata": {},
   "outputs": [
    {
     "data": {
      "text/plain": [
       "[<matplotlib.lines.Line2D at 0x29518d9aca0>]"
      ]
     },
     "execution_count": 137,
     "metadata": {},
     "output_type": "execute_result"
    },
    {
     "data": {
      "image/png": "[encoded data removed]",
      "text/plain": [
       "<Figure size 432x288 with 1 Axes>"
      ]
     },
     "metadata": {
      "needs_background": "light"
     },
     "output_type": "display_data"
    }
   ],
   "source": [
    "plt.plot(df_grouped[budget_year], df_grouped[budget_amount])"
   ]
  },
  {
   "cell_type": "code",
   "execution_count": 138,
   "metadata": {},
   "outputs": [
    {
     "data": {
      "text/plain": [
       "<AxesSubplot:>"
      ]
     },
     "execution_count": 138,
     "metadata": {},
     "output_type": "execute_result"
    },
    {
     "data": {
      "image/png": "[encoded data removed]",
      "text/plain": [
       "<Figure size 432x288 with 1 Axes>"
      ]
     },
     "metadata": {
      "needs_background": "light"
     },
     "output_type": "display_data"
    }
   ],
   "source": [
    "# yt = yt - y(t-1)\n",
    "df = df_grouped\n",
    "df['TOTAL BUDGET'] =  df['TOTAL BUDGET'] - df['TOTAL BUDGET'].shift(1)\n",
    "df.plot()"
   ]
  },
  {
   "cell_type": "code",
   "execution_count": 139,
   "metadata": {},
   "outputs": [],
   "source": [
    "from prophet import Prophet "
   ]
  },
  {
   "cell_type": "code",
   "execution_count": 140,
   "metadata": {},
   "outputs": [],
   "source": [
    "m = Prophet()\n",
    "# 2010-01-01"
   ]
  },
  {
   "cell_type": "code",
   "execution_count": 141,
   "metadata": {},
   "outputs": [],
   "source": [
    "def change_year_to_format(year):\n",
    "    year = str(year)\n",
    "    return year + \"-01-01\""
   ]
  },
  {
   "cell_type": "code",
   "execution_count": 142,
   "metadata": {},
   "outputs": [],
   "source": [
    "df_grouped[budget_year] = df_grouped[budget_year].apply(change_year_to_format)"
   ]
  },
  {
   "cell_type": "code",
   "execution_count": 143,
   "metadata": {},
   "outputs": [
    {
     "data": {
      "text/html": [
       "<div>\n",
       "<style scoped>\n",
       "    .dataframe tbody tr th:only-of-type {\n",
       "        vertical-align: middle;\n",
       "    }\n",
       "\n",
       "    .dataframe tbody tr th {\n",
       "        vertical-align: top;\n",
       "    }\n",
       "\n",
       "    .dataframe thead th {\n",
       "        text-align: right;\n",
       "    }\n",
       "</style>\n",
       "<table border=\"1\" class=\"dataframe\">\n",
       "  <thead>\n",
       "    <tr style=\"text-align: right;\">\n",
       "      <th></th>\n",
       "      <th>BUDGETYEAR</th>\n",
       "      <th>TOTAL BUDGET</th>\n",
       "    </tr>\n",
       "  </thead>\n",
       "  <tbody>\n",
       "    <tr>\n",
       "      <th>0</th>\n",
       "      <td>2010-01-01</td>\n",
       "      <td>NaN</td>\n",
       "    </tr>\n",
       "    <tr>\n",
       "      <th>1</th>\n",
       "      <td>2011-01-01</td>\n",
       "      <td>3.697484e+12</td>\n",
       "    </tr>\n",
       "    <tr>\n",
       "      <th>2</th>\n",
       "      <td>2012-01-01</td>\n",
       "      <td>-3.078991e+12</td>\n",
       "    </tr>\n",
       "    <tr>\n",
       "      <th>3</th>\n",
       "      <td>2013-01-01</td>\n",
       "      <td>2.810174e+11</td>\n",
       "    </tr>\n",
       "    <tr>\n",
       "      <th>4</th>\n",
       "      <td>2014-01-01</td>\n",
       "      <td>6.380703e+10</td>\n",
       "    </tr>\n",
       "  </tbody>\n",
       "</table>\n",
       "</div>"
      ],
      "text/plain": [
       "   BUDGETYEAR  TOTAL BUDGET\n",
       "0  2010-01-01           NaN\n",
       "1  2011-01-01  3.697484e+12\n",
       "2  2012-01-01 -3.078991e+12\n",
       "3  2013-01-01  2.810174e+11\n",
       "4  2014-01-01  6.380703e+10"
      ]
     },
     "execution_count": 143,
     "metadata": {},
     "output_type": "execute_result"
    }
   ],
   "source": [
    "df_grouped.head()"
   ]
  },
  {
   "cell_type": "code",
   "execution_count": 144,
   "metadata": {},
   "outputs": [],
   "source": [
    "df_grouped[budget_year] = pd.to_datetime(df_grouped[budget_year])"
   ]
  },
  {
   "cell_type": "code",
   "execution_count": 145,
   "metadata": {},
   "outputs": [
    {
     "data": {
      "text/html": [
       "<div>\n",
       "<style scoped>\n",
       "    .dataframe tbody tr th:only-of-type {\n",
       "        vertical-align: middle;\n",
       "    }\n",
       "\n",
       "    .dataframe tbody tr th {\n",
       "        vertical-align: top;\n",
       "    }\n",
       "\n",
       "    .dataframe thead th {\n",
       "        text-align: right;\n",
       "    }\n",
       "</style>\n",
       "<table border=\"1\" class=\"dataframe\">\n",
       "  <thead>\n",
       "    <tr style=\"text-align: right;\">\n",
       "      <th></th>\n",
       "      <th>BUDGETYEAR</th>\n",
       "      <th>TOTAL BUDGET</th>\n",
       "    </tr>\n",
       "  </thead>\n",
       "  <tbody>\n",
       "    <tr>\n",
       "      <th>0</th>\n",
       "      <td>2010-01-01</td>\n",
       "      <td>NaN</td>\n",
       "    </tr>\n",
       "    <tr>\n",
       "      <th>1</th>\n",
       "      <td>2011-01-01</td>\n",
       "      <td>3.697484e+12</td>\n",
       "    </tr>\n",
       "    <tr>\n",
       "      <th>2</th>\n",
       "      <td>2012-01-01</td>\n",
       "      <td>-3.078991e+12</td>\n",
       "    </tr>\n",
       "    <tr>\n",
       "      <th>3</th>\n",
       "      <td>2013-01-01</td>\n",
       "      <td>2.810174e+11</td>\n",
       "    </tr>\n",
       "    <tr>\n",
       "      <th>4</th>\n",
       "      <td>2014-01-01</td>\n",
       "      <td>6.380703e+10</td>\n",
       "    </tr>\n",
       "  </tbody>\n",
       "</table>\n",
       "</div>"
      ],
      "text/plain": [
       "  BUDGETYEAR  TOTAL BUDGET\n",
       "0 2010-01-01           NaN\n",
       "1 2011-01-01  3.697484e+12\n",
       "2 2012-01-01 -3.078991e+12\n",
       "3 2013-01-01  2.810174e+11\n",
       "4 2014-01-01  6.380703e+10"
      ]
     },
     "execution_count": 145,
     "metadata": {},
     "output_type": "execute_result"
    }
   ],
   "source": [
    "df_grouped.head()"
   ]
  },
  {
   "cell_type": "code",
   "execution_count": 146,
   "metadata": {},
   "outputs": [
    {
     "name": "stdout",
     "output_type": "stream",
     "text": [
      "<class 'pandas.core.frame.DataFrame'>\n",
      "RangeIndex: 13 entries, 0 to 12\n",
      "Data columns (total 2 columns):\n",
      " #   Column        Non-Null Count  Dtype         \n",
      "---  ------        --------------  -----         \n",
      " 0   BUDGETYEAR    13 non-null     datetime64[ns]\n",
      " 1   TOTAL BUDGET  12 non-null     float64       \n",
      "dtypes: datetime64[ns](1), float64(1)\n",
      "memory usage: 336.0 bytes\n"
     ]
    }
   ],
   "source": [
    "df_grouped.info()"
   ]
  },
  {
   "cell_type": "code",
   "execution_count": 147,
   "metadata": {},
   "outputs": [],
   "source": [
    "df_grouped.rename(columns = {budget_year:'ds', budget_amount:'y'}, inplace = True)"
   ]
  },
  {
   "cell_type": "code",
   "execution_count": 148,
   "metadata": {},
   "outputs": [],
   "source": [
    "df_grouped.fillna(0, inplace=True)"
   ]
  },
  {
   "cell_type": "code",
   "execution_count": 149,
   "metadata": {},
   "outputs": [],
   "source": [
    "df_ = df_grouped\n",
    "df = df_grouped"
   ]
  },
  {
   "cell_type": "code",
   "execution_count": 150,
   "metadata": {},
   "outputs": [
    {
     "data": {
      "text/html": [
       "<div>\n",
       "<style scoped>\n",
       "    .dataframe tbody tr th:only-of-type {\n",
       "        vertical-align: middle;\n",
       "    }\n",
       "\n",
       "    .dataframe tbody tr th {\n",
       "        vertical-align: top;\n",
       "    }\n",
       "\n",
       "    .dataframe thead th {\n",
       "        text-align: right;\n",
       "    }\n",
       "</style>\n",
       "<table border=\"1\" class=\"dataframe\">\n",
       "  <thead>\n",
       "    <tr style=\"text-align: right;\">\n",
       "      <th></th>\n",
       "      <th>ds</th>\n",
       "      <th>y</th>\n",
       "    </tr>\n",
       "  </thead>\n",
       "  <tbody>\n",
       "    <tr>\n",
       "      <th>0</th>\n",
       "      <td>2010-01-01</td>\n",
       "      <td>0.000000e+00</td>\n",
       "    </tr>\n",
       "    <tr>\n",
       "      <th>1</th>\n",
       "      <td>2011-01-01</td>\n",
       "      <td>3.697484e+12</td>\n",
       "    </tr>\n",
       "    <tr>\n",
       "      <th>2</th>\n",
       "      <td>2012-01-01</td>\n",
       "      <td>-3.078991e+12</td>\n",
       "    </tr>\n",
       "    <tr>\n",
       "      <th>3</th>\n",
       "      <td>2013-01-01</td>\n",
       "      <td>2.810174e+11</td>\n",
       "    </tr>\n",
       "    <tr>\n",
       "      <th>4</th>\n",
       "      <td>2014-01-01</td>\n",
       "      <td>6.380703e+10</td>\n",
       "    </tr>\n",
       "  </tbody>\n",
       "</table>\n",
       "</div>"
      ],
      "text/plain": [
       "          ds             y\n",
       "0 2010-01-01  0.000000e+00\n",
       "1 2011-01-01  3.697484e+12\n",
       "2 2012-01-01 -3.078991e+12\n",
       "3 2013-01-01  2.810174e+11\n",
       "4 2014-01-01  6.380703e+10"
      ]
     },
     "execution_count": 150,
     "metadata": {},
     "output_type": "execute_result"
    }
   ],
   "source": [
    "df.head()"
   ]
  },
  {
   "cell_type": "code",
   "execution_count": 151,
   "metadata": {},
   "outputs": [
    {
     "name": "stderr",
     "output_type": "stream",
     "text": [
      "14:13:45 - cmdstanpy - INFO - Chain [1] start processing\n",
      "14:13:45 - cmdstanpy - INFO - Chain [1] done processing\n"
     ]
    },
    {
     "data": {
      "text/plain": [
       "<prophet.forecaster.Prophet at 0x29518fcf460>"
      ]
     },
     "execution_count": 151,
     "metadata": {},
     "output_type": "execute_result"
    }
   ],
   "source": [
    "m.fit(df)"
   ]
  },
  {
   "cell_type": "code",
   "execution_count": 152,
   "metadata": {},
   "outputs": [
    {
     "data": {
      "text/html": [
       "<div>\n",
       "<style scoped>\n",
       "    .dataframe tbody tr th:only-of-type {\n",
       "        vertical-align: middle;\n",
       "    }\n",
       "\n",
       "    .dataframe tbody tr th {\n",
       "        vertical-align: top;\n",
       "    }\n",
       "\n",
       "    .dataframe thead th {\n",
       "        text-align: right;\n",
       "    }\n",
       "</style>\n",
       "<table border=\"1\" class=\"dataframe\">\n",
       "  <thead>\n",
       "    <tr style=\"text-align: right;\">\n",
       "      <th></th>\n",
       "      <th>ds</th>\n",
       "    </tr>\n",
       "  </thead>\n",
       "  <tbody>\n",
       "    <tr>\n",
       "      <th>11</th>\n",
       "      <td>2021-01-01</td>\n",
       "    </tr>\n",
       "    <tr>\n",
       "      <th>12</th>\n",
       "      <td>2022-01-01</td>\n",
       "    </tr>\n",
       "    <tr>\n",
       "      <th>13</th>\n",
       "      <td>2022-12-31</td>\n",
       "    </tr>\n",
       "    <tr>\n",
       "      <th>14</th>\n",
       "      <td>2023-12-31</td>\n",
       "    </tr>\n",
       "    <tr>\n",
       "      <th>15</th>\n",
       "      <td>2024-12-31</td>\n",
       "    </tr>\n",
       "  </tbody>\n",
       "</table>\n",
       "</div>"
      ],
      "text/plain": [
       "           ds\n",
       "11 2021-01-01\n",
       "12 2022-01-01\n",
       "13 2022-12-31\n",
       "14 2023-12-31\n",
       "15 2024-12-31"
      ]
     },
     "execution_count": 152,
     "metadata": {},
     "output_type": "execute_result"
    }
   ],
   "source": [
    "future = m.make_future_dataframe(periods=3, freq=\"Y\")\n",
    "# future.head()\n",
    "future.tail()"
   ]
  },
  {
   "cell_type": "code",
   "execution_count": 153,
   "metadata": {},
   "outputs": [
    {
     "data": {
      "text/html": [
       "<div>\n",
       "<style scoped>\n",
       "    .dataframe tbody tr th:only-of-type {\n",
       "        vertical-align: middle;\n",
       "    }\n",
       "\n",
       "    .dataframe tbody tr th {\n",
       "        vertical-align: top;\n",
       "    }\n",
       "\n",
       "    .dataframe thead th {\n",
       "        text-align: right;\n",
       "    }\n",
       "</style>\n",
       "<table border=\"1\" class=\"dataframe\">\n",
       "  <thead>\n",
       "    <tr style=\"text-align: right;\">\n",
       "      <th></th>\n",
       "      <th>ds</th>\n",
       "      <th>trend</th>\n",
       "      <th>yhat_lower</th>\n",
       "      <th>yhat_upper</th>\n",
       "      <th>trend_lower</th>\n",
       "      <th>trend_upper</th>\n",
       "      <th>additive_terms</th>\n",
       "      <th>additive_terms_lower</th>\n",
       "      <th>additive_terms_upper</th>\n",
       "      <th>yearly</th>\n",
       "      <th>yearly_lower</th>\n",
       "      <th>yearly_upper</th>\n",
       "      <th>multiplicative_terms</th>\n",
       "      <th>multiplicative_terms_lower</th>\n",
       "      <th>multiplicative_terms_upper</th>\n",
       "      <th>yhat</th>\n",
       "    </tr>\n",
       "  </thead>\n",
       "  <tbody>\n",
       "    <tr>\n",
       "      <th>11</th>\n",
       "      <td>2021-01-01</td>\n",
       "      <td>2.504930e+12</td>\n",
       "      <td>-5.374618e+12</td>\n",
       "      <td>5.084155e+12</td>\n",
       "      <td>2.504930e+12</td>\n",
       "      <td>2.504930e+12</td>\n",
       "      <td>-2.468942e+12</td>\n",
       "      <td>-2.468942e+12</td>\n",
       "      <td>-2.468942e+12</td>\n",
       "      <td>-2.468942e+12</td>\n",
       "      <td>-2.468942e+12</td>\n",
       "      <td>-2.468942e+12</td>\n",
       "      <td>0.0</td>\n",
       "      <td>0.0</td>\n",
       "      <td>0.0</td>\n",
       "      <td>3.598815e+10</td>\n",
       "    </tr>\n",
       "    <tr>\n",
       "      <th>12</th>\n",
       "      <td>2022-01-01</td>\n",
       "      <td>2.782011e+12</td>\n",
       "      <td>-3.341650e+12</td>\n",
       "      <td>7.077975e+12</td>\n",
       "      <td>2.782011e+12</td>\n",
       "      <td>2.782011e+12</td>\n",
       "      <td>-7.488877e+11</td>\n",
       "      <td>-7.488877e+11</td>\n",
       "      <td>-7.488877e+11</td>\n",
       "      <td>-7.488877e+11</td>\n",
       "      <td>-7.488877e+11</td>\n",
       "      <td>-7.488877e+11</td>\n",
       "      <td>0.0</td>\n",
       "      <td>0.0</td>\n",
       "      <td>0.0</td>\n",
       "      <td>2.033123e+12</td>\n",
       "    </tr>\n",
       "    <tr>\n",
       "      <th>13</th>\n",
       "      <td>2022-12-31</td>\n",
       "      <td>3.058331e+12</td>\n",
       "      <td>5.805073e+12</td>\n",
       "      <td>1.587253e+13</td>\n",
       "      <td>3.058331e+12</td>\n",
       "      <td>3.058331e+12</td>\n",
       "      <td>7.658670e+12</td>\n",
       "      <td>7.658670e+12</td>\n",
       "      <td>7.658670e+12</td>\n",
       "      <td>7.658670e+12</td>\n",
       "      <td>7.658670e+12</td>\n",
       "      <td>7.658670e+12</td>\n",
       "      <td>0.0</td>\n",
       "      <td>0.0</td>\n",
       "      <td>0.0</td>\n",
       "      <td>1.071700e+13</td>\n",
       "    </tr>\n",
       "    <tr>\n",
       "      <th>14</th>\n",
       "      <td>2023-12-31</td>\n",
       "      <td>3.335411e+12</td>\n",
       "      <td>6.960399e+12</td>\n",
       "      <td>1.778661e+13</td>\n",
       "      <td>3.335411e+12</td>\n",
       "      <td>3.335411e+12</td>\n",
       "      <td>9.287419e+12</td>\n",
       "      <td>9.287419e+12</td>\n",
       "      <td>9.287419e+12</td>\n",
       "      <td>9.287419e+12</td>\n",
       "      <td>9.287419e+12</td>\n",
       "      <td>9.287419e+12</td>\n",
       "      <td>0.0</td>\n",
       "      <td>0.0</td>\n",
       "      <td>0.0</td>\n",
       "      <td>1.262283e+13</td>\n",
       "    </tr>\n",
       "    <tr>\n",
       "      <th>15</th>\n",
       "      <td>2024-12-31</td>\n",
       "      <td>3.613251e+12</td>\n",
       "      <td>2.671378e+12</td>\n",
       "      <td>1.329674e+13</td>\n",
       "      <td>3.613251e+12</td>\n",
       "      <td>3.613251e+12</td>\n",
       "      <td>4.342392e+12</td>\n",
       "      <td>4.342392e+12</td>\n",
       "      <td>4.342392e+12</td>\n",
       "      <td>4.342392e+12</td>\n",
       "      <td>4.342392e+12</td>\n",
       "      <td>4.342392e+12</td>\n",
       "      <td>0.0</td>\n",
       "      <td>0.0</td>\n",
       "      <td>0.0</td>\n",
       "      <td>7.955643e+12</td>\n",
       "    </tr>\n",
       "  </tbody>\n",
       "</table>\n",
       "</div>"
      ],
      "text/plain": [
       "           ds         trend    yhat_lower    yhat_upper   trend_lower  \\\n",
       "11 2021-01-01  2.504930e+12 -5.374618e+12  5.084155e+12  2.504930e+12   \n",
       "12 2022-01-01  2.782011e+12 -3.341650e+12  7.077975e+12  2.782011e+12   \n",
       "13 2022-12-31  3.058331e+12  5.805073e+12  1.587253e+13  3.058331e+12   \n",
       "14 2023-12-31  3.335411e+12  6.960399e+12  1.778661e+13  3.335411e+12   \n",
       "15 2024-12-31  3.613251e+12  2.671378e+12  1.329674e+13  3.613251e+12   \n",
       "\n",
       "     trend_upper  additive_terms  additive_terms_lower  additive_terms_upper  \\\n",
       "11  2.504930e+12   -2.468942e+12         -2.468942e+12         -2.468942e+12   \n",
       "12  2.782011e+12   -7.488877e+11         -7.488877e+11         -7.488877e+11   \n",
       "13  3.058331e+12    7.658670e+12          7.658670e+12          7.658670e+12   \n",
       "14  3.335411e+12    9.287419e+12          9.287419e+12          9.287419e+12   \n",
       "15  3.613251e+12    4.342392e+12          4.342392e+12          4.342392e+12   \n",
       "\n",
       "          yearly  yearly_lower  yearly_upper  multiplicative_terms  \\\n",
       "11 -2.468942e+12 -2.468942e+12 -2.468942e+12                   0.0   \n",
       "12 -7.488877e+11 -7.488877e+11 -7.488877e+11                   0.0   \n",
       "13  7.658670e+12  7.658670e+12  7.658670e+12                   0.0   \n",
       "14  9.287419e+12  9.287419e+12  9.287419e+12                   0.0   \n",
       "15  4.342392e+12  4.342392e+12  4.342392e+12                   0.0   \n",
       "\n",
       "    multiplicative_terms_lower  multiplicative_terms_upper          yhat  \n",
       "11                         0.0                         0.0  3.598815e+10  \n",
       "12                         0.0                         0.0  2.033123e+12  \n",
       "13                         0.0                         0.0  1.071700e+13  \n",
       "14                         0.0                         0.0  1.262283e+13  \n",
       "15                         0.0                         0.0  7.955643e+12  "
      ]
     },
     "execution_count": 153,
     "metadata": {},
     "output_type": "execute_result"
    }
   ],
   "source": [
    "forecast = m.predict(future)\n",
    "forecast.tail()\n"
   ]
  },
  {
   "cell_type": "code",
   "execution_count": 154,
   "metadata": {},
   "outputs": [
    {
     "data": {
      "text/html": [
       "<div>\n",
       "<style scoped>\n",
       "    .dataframe tbody tr th:only-of-type {\n",
       "        vertical-align: middle;\n",
       "    }\n",
       "\n",
       "    .dataframe tbody tr th {\n",
       "        vertical-align: top;\n",
       "    }\n",
       "\n",
       "    .dataframe thead th {\n",
       "        text-align: right;\n",
       "    }\n",
       "</style>\n",
       "<table border=\"1\" class=\"dataframe\">\n",
       "  <thead>\n",
       "    <tr style=\"text-align: right;\">\n",
       "      <th></th>\n",
       "      <th>ds</th>\n",
       "      <th>trend</th>\n",
       "      <th>yhat_lower</th>\n",
       "      <th>yhat_upper</th>\n",
       "      <th>trend_lower</th>\n",
       "      <th>trend_upper</th>\n",
       "      <th>additive_terms</th>\n",
       "      <th>additive_terms_lower</th>\n",
       "      <th>additive_terms_upper</th>\n",
       "      <th>yearly</th>\n",
       "      <th>yearly_lower</th>\n",
       "      <th>yearly_upper</th>\n",
       "      <th>multiplicative_terms</th>\n",
       "      <th>multiplicative_terms_lower</th>\n",
       "      <th>multiplicative_terms_upper</th>\n",
       "      <th>yhat</th>\n",
       "    </tr>\n",
       "  </thead>\n",
       "  <tbody>\n",
       "    <tr>\n",
       "      <th>0</th>\n",
       "      <td>2010-01-01</td>\n",
       "      <td>-5.452273e+11</td>\n",
       "      <td>-6.367149e+12</td>\n",
       "      <td>3.938230e+12</td>\n",
       "      <td>-5.452273e+11</td>\n",
       "      <td>-5.452273e+11</td>\n",
       "      <td>-7.488877e+11</td>\n",
       "      <td>-7.488877e+11</td>\n",
       "      <td>-7.488877e+11</td>\n",
       "      <td>-7.488877e+11</td>\n",
       "      <td>-7.488877e+11</td>\n",
       "      <td>-7.488877e+11</td>\n",
       "      <td>0.0</td>\n",
       "      <td>0.0</td>\n",
       "      <td>0.0</td>\n",
       "      <td>-1.294115e+12</td>\n",
       "    </tr>\n",
       "    <tr>\n",
       "      <th>1</th>\n",
       "      <td>2011-01-01</td>\n",
       "      <td>-2.681472e+11</td>\n",
       "      <td>-4.526003e+12</td>\n",
       "      <td>5.804516e+12</td>\n",
       "      <td>-2.681472e+11</td>\n",
       "      <td>-2.681472e+11</td>\n",
       "      <td>9.610687e+11</td>\n",
       "      <td>9.610687e+11</td>\n",
       "      <td>9.610687e+11</td>\n",
       "      <td>9.610687e+11</td>\n",
       "      <td>9.610687e+11</td>\n",
       "      <td>9.610687e+11</td>\n",
       "      <td>0.0</td>\n",
       "      <td>0.0</td>\n",
       "      <td>0.0</td>\n",
       "      <td>6.929214e+11</td>\n",
       "    </tr>\n",
       "    <tr>\n",
       "      <th>2</th>\n",
       "      <td>2012-01-01</td>\n",
       "      <td>8.932811e+09</td>\n",
       "      <td>-2.720974e+12</td>\n",
       "      <td>7.719471e+12</td>\n",
       "      <td>8.932811e+09</td>\n",
       "      <td>8.932811e+09</td>\n",
       "      <td>2.658848e+12</td>\n",
       "      <td>2.658848e+12</td>\n",
       "      <td>2.658848e+12</td>\n",
       "      <td>2.658848e+12</td>\n",
       "      <td>2.658848e+12</td>\n",
       "      <td>2.658848e+12</td>\n",
       "      <td>0.0</td>\n",
       "      <td>0.0</td>\n",
       "      <td>0.0</td>\n",
       "      <td>2.667781e+12</td>\n",
       "    </tr>\n",
       "    <tr>\n",
       "      <th>3</th>\n",
       "      <td>2013-01-01</td>\n",
       "      <td>2.867720e+11</td>\n",
       "      <td>-7.179155e+12</td>\n",
       "      <td>2.843412e+12</td>\n",
       "      <td>2.867720e+11</td>\n",
       "      <td>2.867720e+11</td>\n",
       "      <td>-2.468942e+12</td>\n",
       "      <td>-2.468942e+12</td>\n",
       "      <td>-2.468942e+12</td>\n",
       "      <td>-2.468942e+12</td>\n",
       "      <td>-2.468942e+12</td>\n",
       "      <td>-2.468942e+12</td>\n",
       "      <td>0.0</td>\n",
       "      <td>0.0</td>\n",
       "      <td>0.0</td>\n",
       "      <td>-2.182170e+12</td>\n",
       "    </tr>\n",
       "    <tr>\n",
       "      <th>4</th>\n",
       "      <td>2014-01-01</td>\n",
       "      <td>5.638520e+11</td>\n",
       "      <td>-5.702782e+12</td>\n",
       "      <td>4.625549e+12</td>\n",
       "      <td>5.638520e+11</td>\n",
       "      <td>5.638520e+11</td>\n",
       "      <td>-7.488877e+11</td>\n",
       "      <td>-7.488877e+11</td>\n",
       "      <td>-7.488877e+11</td>\n",
       "      <td>-7.488877e+11</td>\n",
       "      <td>-7.488877e+11</td>\n",
       "      <td>-7.488877e+11</td>\n",
       "      <td>0.0</td>\n",
       "      <td>0.0</td>\n",
       "      <td>0.0</td>\n",
       "      <td>-1.850357e+11</td>\n",
       "    </tr>\n",
       "  </tbody>\n",
       "</table>\n",
       "</div>"
      ],
      "text/plain": [
       "          ds         trend    yhat_lower    yhat_upper   trend_lower  \\\n",
       "0 2010-01-01 -5.452273e+11 -6.367149e+12  3.938230e+12 -5.452273e+11   \n",
       "1 2011-01-01 -2.681472e+11 -4.526003e+12  5.804516e+12 -2.681472e+11   \n",
       "2 2012-01-01  8.932811e+09 -2.720974e+12  7.719471e+12  8.932811e+09   \n",
       "3 2013-01-01  2.867720e+11 -7.179155e+12  2.843412e+12  2.867720e+11   \n",
       "4 2014-01-01  5.638520e+11 -5.702782e+12  4.625549e+12  5.638520e+11   \n",
       "\n",
       "    trend_upper  additive_terms  additive_terms_lower  additive_terms_upper  \\\n",
       "0 -5.452273e+11   -7.488877e+11         -7.488877e+11         -7.488877e+11   \n",
       "1 -2.681472e+11    9.610687e+11          9.610687e+11          9.610687e+11   \n",
       "2  8.932811e+09    2.658848e+12          2.658848e+12          2.658848e+12   \n",
       "3  2.867720e+11   -2.468942e+12         -2.468942e+12         -2.468942e+12   \n",
       "4  5.638520e+11   -7.488877e+11         -7.488877e+11         -7.488877e+11   \n",
       "\n",
       "         yearly  yearly_lower  yearly_upper  multiplicative_terms  \\\n",
       "0 -7.488877e+11 -7.488877e+11 -7.488877e+11                   0.0   \n",
       "1  9.610687e+11  9.610687e+11  9.610687e+11                   0.0   \n",
       "2  2.658848e+12  2.658848e+12  2.658848e+12                   0.0   \n",
       "3 -2.468942e+12 -2.468942e+12 -2.468942e+12                   0.0   \n",
       "4 -7.488877e+11 -7.488877e+11 -7.488877e+11                   0.0   \n",
       "\n",
       "   multiplicative_terms_lower  multiplicative_terms_upper          yhat  \n",
       "0                         0.0                         0.0 -1.294115e+12  \n",
       "1                         0.0                         0.0  6.929214e+11  \n",
       "2                         0.0                         0.0  2.667781e+12  \n",
       "3                         0.0                         0.0 -2.182170e+12  \n",
       "4                         0.0                         0.0 -1.850357e+11  "
      ]
     },
     "execution_count": 154,
     "metadata": {},
     "output_type": "execute_result"
    }
   ],
   "source": [
    "forecast.head()"
   ]
  },
  {
   "cell_type": "code",
   "execution_count": 155,
   "metadata": {},
   "outputs": [
    {
     "data": {
      "image/png": "[encoded data removed]",
      "text/plain": [
       "<Figure size 720x432 with 1 Axes>"
      ]
     },
     "metadata": {},
     "output_type": "display_data"
    }
   ],
   "source": [
    "fig1 = m.plot(forecast)"
   ]
  },
  {
   "cell_type": "code",
   "execution_count": 156,
   "metadata": {},
   "outputs": [
    {
     "data": {
      "image/png": "[encoded data removed]",
      "text/plain": [
       "<Figure size 648x432 with 2 Axes>"
      ]
     },
     "metadata": {},
     "output_type": "display_data"
    }
   ],
   "source": [
    "fig2 = m.plot_components(forecast)"
   ]
  },
  {
   "cell_type": "code",
   "execution_count": 157,
   "metadata": {},
   "outputs": [],
   "source": [
    "from prophet.diagnostics import cross_validation"
   ]
  },
  {
   "cell_type": "code",
   "execution_count": 195,
   "metadata": {},
   "outputs": [
    {
     "name": "stderr",
     "output_type": "stream",
     "text": [
      "Seasonality has period of 365.25 days which is larger than initial window. Consider increasing initial.\n"
     ]
    },
    {
     "data": {
      "application/vnd.jupyter.widget-view+json": {
       "model_id": "d6e3f0b278da4d4b9057f781eddf5872",
       "version_major": 2,
       "version_minor": 0
      },
      "text/plain": [
       "  0%|          | 0/21 [00:00<?, ?it/s]"
      ]
     },
     "metadata": {},
     "output_type": "display_data"
    },
    {
     "name": "stderr",
     "output_type": "stream",
     "text": [
      "14:52:58 - cmdstanpy - INFO - Chain [1] start processing\n",
      "14:52:58 - cmdstanpy - INFO - Chain [1] done processing\n",
      "14:53:01 - cmdstanpy - INFO - Chain [1] start processing\n",
      "14:53:01 - cmdstanpy - INFO - Chain [1] done processing\n",
      "14:53:02 - cmdstanpy - INFO - Chain [1] start processing\n",
      "14:53:02 - cmdstanpy - INFO - Chain [1] done processing\n",
      "14:53:04 - cmdstanpy - INFO - Chain [1] start processing\n",
      "14:53:04 - cmdstanpy - INFO - Chain [1] done processing\n",
      "14:53:05 - cmdstanpy - INFO - Chain [1] start processing\n",
      "14:53:05 - cmdstanpy - INFO - Chain [1] done processing\n",
      "14:53:06 - cmdstanpy - INFO - Chain [1] start processing\n",
      "14:53:06 - cmdstanpy - INFO - Chain [1] done processing\n",
      "14:53:08 - cmdstanpy - INFO - Chain [1] start processing\n",
      "14:53:08 - cmdstanpy - INFO - Chain [1] done processing\n",
      "14:53:09 - cmdstanpy - INFO - Chain [1] start processing\n",
      "14:53:09 - cmdstanpy - INFO - Chain [1] done processing\n",
      "14:53:10 - cmdstanpy - INFO - Chain [1] start processing\n",
      "14:53:11 - cmdstanpy - INFO - Chain [1] done processing\n",
      "14:53:12 - cmdstanpy - INFO - Chain [1] start processing\n",
      "14:53:12 - cmdstanpy - INFO - Chain [1] done processing\n",
      "14:53:14 - cmdstanpy - INFO - Chain [1] start processing\n",
      "14:53:14 - cmdstanpy - INFO - Chain [1] done processing\n",
      "14:53:15 - cmdstanpy - INFO - Chain [1] start processing\n",
      "14:53:16 - cmdstanpy - INFO - Chain [1] done processing\n",
      "14:53:17 - cmdstanpy - INFO - Chain [1] start processing\n",
      "14:53:17 - cmdstanpy - INFO - Chain [1] done processing\n",
      "14:53:18 - cmdstanpy - INFO - Chain [1] start processing\n",
      "14:53:18 - cmdstanpy - INFO - Chain [1] done processing\n",
      "14:53:20 - cmdstanpy - INFO - Chain [1] start processing\n",
      "14:53:20 - cmdstanpy - INFO - Chain [1] done processing\n",
      "14:53:21 - cmdstanpy - INFO - Chain [1] start processing\n",
      "14:53:21 - cmdstanpy - INFO - Chain [1] done processing\n",
      "14:53:22 - cmdstanpy - INFO - Chain [1] start processing\n",
      "14:53:22 - cmdstanpy - INFO - Chain [1] done processing\n",
      "14:53:24 - cmdstanpy - INFO - Chain [1] start processing\n",
      "14:53:24 - cmdstanpy - INFO - Chain [1] done processing\n",
      "14:53:25 - cmdstanpy - INFO - Chain [1] start processing\n",
      "14:53:25 - cmdstanpy - INFO - Chain [1] done processing\n",
      "14:53:27 - cmdstanpy - INFO - Chain [1] start processing\n",
      "14:53:27 - cmdstanpy - INFO - Chain [1] done processing\n",
      "14:53:29 - cmdstanpy - INFO - Chain [1] start processing\n",
      "14:53:29 - cmdstanpy - INFO - Chain [1] done processing\n"
     ]
    }
   ],
   "source": [
    "cv = cross_validation(m, initial= '250 days', period='180 days', horizon='365 days')"
   ]
  },
  {
   "cell_type": "code",
   "execution_count": 196,
   "metadata": {},
   "outputs": [
    {
     "data": {
      "text/html": [
       "<div>\n",
       "<style scoped>\n",
       "    .dataframe tbody tr th:only-of-type {\n",
       "        vertical-align: middle;\n",
       "    }\n",
       "\n",
       "    .dataframe tbody tr th {\n",
       "        vertical-align: top;\n",
       "    }\n",
       "\n",
       "    .dataframe thead th {\n",
       "        text-align: right;\n",
       "    }\n",
       "</style>\n",
       "<table border=\"1\" class=\"dataframe\">\n",
       "  <thead>\n",
       "    <tr style=\"text-align: right;\">\n",
       "      <th></th>\n",
       "      <th>ds</th>\n",
       "      <th>yhat</th>\n",
       "      <th>yhat_lower</th>\n",
       "      <th>yhat_upper</th>\n",
       "      <th>y</th>\n",
       "      <th>cutoff</th>\n",
       "    </tr>\n",
       "  </thead>\n",
       "  <tbody>\n",
       "    <tr>\n",
       "      <th>0</th>\n",
       "      <td>2012-01-01</td>\n",
       "      <td>7.399360e+12</td>\n",
       "      <td>7.399360e+12</td>\n",
       "      <td>7.399360e+12</td>\n",
       "      <td>-3.078991e+12</td>\n",
       "      <td>2011-02-23</td>\n",
       "    </tr>\n",
       "    <tr>\n",
       "      <th>1</th>\n",
       "      <td>2012-01-01</td>\n",
       "      <td>7.399360e+12</td>\n",
       "      <td>7.399360e+12</td>\n",
       "      <td>7.399360e+12</td>\n",
       "      <td>-3.078991e+12</td>\n",
       "      <td>2011-08-22</td>\n",
       "    </tr>\n",
       "    <tr>\n",
       "      <th>2</th>\n",
       "      <td>2013-01-01</td>\n",
       "      <td>-2.203808e+12</td>\n",
       "      <td>-5.048500e+12</td>\n",
       "      <td>3.571420e+11</td>\n",
       "      <td>2.810174e+11</td>\n",
       "      <td>2012-02-18</td>\n",
       "    </tr>\n",
       "    <tr>\n",
       "      <th>3</th>\n",
       "      <td>2013-01-01</td>\n",
       "      <td>-2.203808e+12</td>\n",
       "      <td>-4.744729e+12</td>\n",
       "      <td>5.535580e+11</td>\n",
       "      <td>2.810174e+11</td>\n",
       "      <td>2012-08-16</td>\n",
       "    </tr>\n",
       "    <tr>\n",
       "      <th>4</th>\n",
       "      <td>2014-01-01</td>\n",
       "      <td>-1.203123e+12</td>\n",
       "      <td>-3.409573e+12</td>\n",
       "      <td>1.231111e+12</td>\n",
       "      <td>6.380703e+10</td>\n",
       "      <td>2013-02-12</td>\n",
       "    </tr>\n",
       "    <tr>\n",
       "      <th>5</th>\n",
       "      <td>2014-01-01</td>\n",
       "      <td>-1.203123e+12</td>\n",
       "      <td>-3.487063e+12</td>\n",
       "      <td>1.296928e+12</td>\n",
       "      <td>6.380703e+10</td>\n",
       "      <td>2013-08-11</td>\n",
       "    </tr>\n",
       "    <tr>\n",
       "      <th>6</th>\n",
       "      <td>2015-01-01</td>\n",
       "      <td>-1.634602e+12</td>\n",
       "      <td>-3.883753e+12</td>\n",
       "      <td>6.812785e+11</td>\n",
       "      <td>-5.241844e+10</td>\n",
       "      <td>2014-02-07</td>\n",
       "    </tr>\n",
       "    <tr>\n",
       "      <th>7</th>\n",
       "      <td>2015-01-01</td>\n",
       "      <td>-1.634602e+12</td>\n",
       "      <td>-4.013133e+12</td>\n",
       "      <td>7.831282e+11</td>\n",
       "      <td>-5.241844e+10</td>\n",
       "      <td>2014-08-06</td>\n",
       "    </tr>\n",
       "    <tr>\n",
       "      <th>8</th>\n",
       "      <td>2016-01-01</td>\n",
       "      <td>-1.540824e+12</td>\n",
       "      <td>-3.894903e+12</td>\n",
       "      <td>7.631339e+11</td>\n",
       "      <td>1.009980e+12</td>\n",
       "      <td>2015-02-02</td>\n",
       "    </tr>\n",
       "    <tr>\n",
       "      <th>9</th>\n",
       "      <td>2016-01-01</td>\n",
       "      <td>-1.540824e+12</td>\n",
       "      <td>-3.753711e+12</td>\n",
       "      <td>7.884012e+11</td>\n",
       "      <td>1.009980e+12</td>\n",
       "      <td>2015-08-01</td>\n",
       "    </tr>\n",
       "    <tr>\n",
       "      <th>10</th>\n",
       "      <td>2017-01-01</td>\n",
       "      <td>7.101705e+11</td>\n",
       "      <td>-1.608261e+12</td>\n",
       "      <td>2.891907e+12</td>\n",
       "      <td>2.267590e+12</td>\n",
       "      <td>2016-01-28</td>\n",
       "    </tr>\n",
       "    <tr>\n",
       "      <th>11</th>\n",
       "      <td>2017-01-01</td>\n",
       "      <td>7.101705e+11</td>\n",
       "      <td>-1.484733e+12</td>\n",
       "      <td>2.719057e+12</td>\n",
       "      <td>2.267590e+12</td>\n",
       "      <td>2016-07-26</td>\n",
       "    </tr>\n",
       "    <tr>\n",
       "      <th>12</th>\n",
       "      <td>2018-01-01</td>\n",
       "      <td>1.276769e+12</td>\n",
       "      <td>-7.905217e+11</td>\n",
       "      <td>3.423427e+12</td>\n",
       "      <td>2.142922e+11</td>\n",
       "      <td>2017-01-22</td>\n",
       "    </tr>\n",
       "    <tr>\n",
       "      <th>13</th>\n",
       "      <td>2018-01-01</td>\n",
       "      <td>1.276769e+12</td>\n",
       "      <td>-8.198758e+11</td>\n",
       "      <td>3.408445e+12</td>\n",
       "      <td>2.142922e+11</td>\n",
       "      <td>2017-07-21</td>\n",
       "    </tr>\n",
       "    <tr>\n",
       "      <th>14</th>\n",
       "      <td>2019-01-01</td>\n",
       "      <td>4.455443e+11</td>\n",
       "      <td>-1.513015e+12</td>\n",
       "      <td>2.552930e+12</td>\n",
       "      <td>5.966806e+11</td>\n",
       "      <td>2018-01-17</td>\n",
       "    </tr>\n",
       "    <tr>\n",
       "      <th>15</th>\n",
       "      <td>2019-01-01</td>\n",
       "      <td>4.455443e+11</td>\n",
       "      <td>-1.520642e+12</td>\n",
       "      <td>2.401616e+12</td>\n",
       "      <td>5.966806e+11</td>\n",
       "      <td>2018-07-16</td>\n",
       "    </tr>\n",
       "    <tr>\n",
       "      <th>16</th>\n",
       "      <td>2020-01-01</td>\n",
       "      <td>9.768750e+10</td>\n",
       "      <td>-1.915938e+12</td>\n",
       "      <td>2.000122e+12</td>\n",
       "      <td>1.284583e+13</td>\n",
       "      <td>2019-01-12</td>\n",
       "    </tr>\n",
       "    <tr>\n",
       "      <th>17</th>\n",
       "      <td>2020-01-01</td>\n",
       "      <td>9.768750e+10</td>\n",
       "      <td>-1.808402e+12</td>\n",
       "      <td>2.074766e+12</td>\n",
       "      <td>1.284583e+13</td>\n",
       "      <td>2019-07-11</td>\n",
       "    </tr>\n",
       "    <tr>\n",
       "      <th>18</th>\n",
       "      <td>2021-01-01</td>\n",
       "      <td>3.938087e+12</td>\n",
       "      <td>-1.089090e+11</td>\n",
       "      <td>8.134591e+12</td>\n",
       "      <td>-8.210527e+12</td>\n",
       "      <td>2020-01-07</td>\n",
       "    </tr>\n",
       "    <tr>\n",
       "      <th>19</th>\n",
       "      <td>2021-01-01</td>\n",
       "      <td>3.938087e+12</td>\n",
       "      <td>-2.134866e+11</td>\n",
       "      <td>8.139973e+12</td>\n",
       "      <td>-8.210527e+12</td>\n",
       "      <td>2020-07-05</td>\n",
       "    </tr>\n",
       "    <tr>\n",
       "      <th>20</th>\n",
       "      <td>2022-01-01</td>\n",
       "      <td>7.227907e+11</td>\n",
       "      <td>-4.594745e+12</td>\n",
       "      <td>6.244196e+12</td>\n",
       "      <td>5.484574e+12</td>\n",
       "      <td>2021-01-01</td>\n",
       "    </tr>\n",
       "  </tbody>\n",
       "</table>\n",
       "</div>"
      ],
      "text/plain": [
       "           ds          yhat    yhat_lower    yhat_upper             y  \\\n",
       "0  2012-01-01  7.399360e+12  7.399360e+12  7.399360e+12 -3.078991e+12   \n",
       "1  2012-01-01  7.399360e+12  7.399360e+12  7.399360e+12 -3.078991e+12   \n",
       "2  2013-01-01 -2.203808e+12 -5.048500e+12  3.571420e+11  2.810174e+11   \n",
       "3  2013-01-01 -2.203808e+12 -4.744729e+12  5.535580e+11  2.810174e+11   \n",
       "4  2014-01-01 -1.203123e+12 -3.409573e+12  1.231111e+12  6.380703e+10   \n",
       "5  2014-01-01 -1.203123e+12 -3.487063e+12  1.296928e+12  6.380703e+10   \n",
       "6  2015-01-01 -1.634602e+12 -3.883753e+12  6.812785e+11 -5.241844e+10   \n",
       "7  2015-01-01 -1.634602e+12 -4.013133e+12  7.831282e+11 -5.241844e+10   \n",
       "8  2016-01-01 -1.540824e+12 -3.894903e+12  7.631339e+11  1.009980e+12   \n",
       "9  2016-01-01 -1.540824e+12 -3.753711e+12  7.884012e+11  1.009980e+12   \n",
       "10 2017-01-01  7.101705e+11 -1.608261e+12  2.891907e+12  2.267590e+12   \n",
       "11 2017-01-01  7.101705e+11 -1.484733e+12  2.719057e+12  2.267590e+12   \n",
       "12 2018-01-01  1.276769e+12 -7.905217e+11  3.423427e+12  2.142922e+11   \n",
       "13 2018-01-01  1.276769e+12 -8.198758e+11  3.408445e+12  2.142922e+11   \n",
       "14 2019-01-01  4.455443e+11 -1.513015e+12  2.552930e+12  5.966806e+11   \n",
       "15 2019-01-01  4.455443e+11 -1.520642e+12  2.401616e+12  5.966806e+11   \n",
       "16 2020-01-01  9.768750e+10 -1.915938e+12  2.000122e+12  1.284583e+13   \n",
       "17 2020-01-01  9.768750e+10 -1.808402e+12  2.074766e+12  1.284583e+13   \n",
       "18 2021-01-01  3.938087e+12 -1.089090e+11  8.134591e+12 -8.210527e+12   \n",
       "19 2021-01-01  3.938087e+12 -2.134866e+11  8.139973e+12 -8.210527e+12   \n",
       "20 2022-01-01  7.227907e+11 -4.594745e+12  6.244196e+12  5.484574e+12   \n",
       "\n",
       "       cutoff  \n",
       "0  2011-02-23  \n",
       "1  2011-08-22  \n",
       "2  2012-02-18  \n",
       "3  2012-08-16  \n",
       "4  2013-02-12  \n",
       "5  2013-08-11  \n",
       "6  2014-02-07  \n",
       "7  2014-08-06  \n",
       "8  2015-02-02  \n",
       "9  2015-08-01  \n",
       "10 2016-01-28  \n",
       "11 2016-07-26  \n",
       "12 2017-01-22  \n",
       "13 2017-07-21  \n",
       "14 2018-01-17  \n",
       "15 2018-07-16  \n",
       "16 2019-01-12  \n",
       "17 2019-07-11  \n",
       "18 2020-01-07  \n",
       "19 2020-07-05  \n",
       "20 2021-01-01  "
      ]
     },
     "execution_count": 196,
     "metadata": {},
     "output_type": "execute_result"
    }
   ],
   "source": [
    "cv.tail(50)\n",
    "#df.shape"
   ]
  },
  {
   "cell_type": "code",
   "execution_count": 179,
   "metadata": {},
   "outputs": [],
   "source": [
    "from prophet.diagnostics import performance_metrics"
   ]
  },
  {
   "cell_type": "code",
   "execution_count": 180,
   "metadata": {},
   "outputs": [],
   "source": [
    "df_pm = performance_metrics(cv)\n"
   ]
  },
  {
   "cell_type": "code",
   "execution_count": 183,
   "metadata": {},
   "outputs": [
    {
     "data": {
      "text/html": [
       "<div>\n",
       "<style scoped>\n",
       "    .dataframe tbody tr th:only-of-type {\n",
       "        vertical-align: middle;\n",
       "    }\n",
       "\n",
       "    .dataframe tbody tr th {\n",
       "        vertical-align: top;\n",
       "    }\n",
       "\n",
       "    .dataframe thead th {\n",
       "        text-align: right;\n",
       "    }\n",
       "</style>\n",
       "<table border=\"1\" class=\"dataframe\">\n",
       "  <thead>\n",
       "    <tr style=\"text-align: right;\">\n",
       "      <th></th>\n",
       "      <th>horizon</th>\n",
       "      <th>mse</th>\n",
       "      <th>rmse</th>\n",
       "      <th>mae</th>\n",
       "      <th>mape</th>\n",
       "      <th>mdape</th>\n",
       "      <th>smape</th>\n",
       "      <th>coverage</th>\n",
       "    </tr>\n",
       "  </thead>\n",
       "  <tbody>\n",
       "    <tr>\n",
       "      <th>0</th>\n",
       "      <td>138 days</td>\n",
       "      <td>5.798510e+25</td>\n",
       "      <td>7.614795e+12</td>\n",
       "      <td>6.481588e+12</td>\n",
       "      <td>6.122713</td>\n",
       "      <td>6.122713</td>\n",
       "      <td>2.000000</td>\n",
       "      <td>0.0</td>\n",
       "    </tr>\n",
       "    <tr>\n",
       "      <th>1</th>\n",
       "      <td>143 days</td>\n",
       "      <td>3.889736e+24</td>\n",
       "      <td>1.972241e+12</td>\n",
       "      <td>1.875878e+12</td>\n",
       "      <td>14.348951</td>\n",
       "      <td>14.348951</td>\n",
       "      <td>2.000000</td>\n",
       "      <td>0.5</td>\n",
       "    </tr>\n",
       "    <tr>\n",
       "      <th>2</th>\n",
       "      <td>148 days</td>\n",
       "      <td>2.054209e+24</td>\n",
       "      <td>1.433251e+12</td>\n",
       "      <td>1.424557e+12</td>\n",
       "      <td>25.019690</td>\n",
       "      <td>25.019690</td>\n",
       "      <td>1.937857</td>\n",
       "      <td>1.0</td>\n",
       "    </tr>\n",
       "    <tr>\n",
       "      <th>3</th>\n",
       "      <td>153 days</td>\n",
       "      <td>4.504952e+24</td>\n",
       "      <td>2.122487e+12</td>\n",
       "      <td>2.066494e+12</td>\n",
       "      <td>16.354662</td>\n",
       "      <td>16.354662</td>\n",
       "      <td>1.937857</td>\n",
       "      <td>0.5</td>\n",
       "    </tr>\n",
       "    <tr>\n",
       "      <th>4</th>\n",
       "      <td>159 days</td>\n",
       "      <td>4.466077e+24</td>\n",
       "      <td>2.113309e+12</td>\n",
       "      <td>2.054111e+12</td>\n",
       "      <td>1.606208</td>\n",
       "      <td>1.606208</td>\n",
       "      <td>1.523017</td>\n",
       "      <td>0.5</td>\n",
       "    </tr>\n",
       "    <tr>\n",
       "      <th>5</th>\n",
       "      <td>164 days</td>\n",
       "      <td>1.777206e+24</td>\n",
       "      <td>1.333119e+12</td>\n",
       "      <td>1.309948e+12</td>\n",
       "      <td>2.822447</td>\n",
       "      <td>2.822447</td>\n",
       "      <td>1.235581</td>\n",
       "      <td>1.0</td>\n",
       "    </tr>\n",
       "    <tr>\n",
       "      <th>6</th>\n",
       "      <td>169 days</td>\n",
       "      <td>5.758499e+23</td>\n",
       "      <td>7.588477e+11</td>\n",
       "      <td>6.068067e+11</td>\n",
       "      <td>2.605686</td>\n",
       "      <td>2.605686</td>\n",
       "      <td>0.857577</td>\n",
       "      <td>1.0</td>\n",
       "    </tr>\n",
       "    <tr>\n",
       "      <th>7</th>\n",
       "      <td>174 days</td>\n",
       "      <td>8.126903e+25</td>\n",
       "      <td>9.014934e+12</td>\n",
       "      <td>6.449641e+12</td>\n",
       "      <td>0.622845</td>\n",
       "      <td>0.622845</td>\n",
       "      <td>1.129919</td>\n",
       "      <td>0.5</td>\n",
       "    </tr>\n",
       "    <tr>\n",
       "      <th>8</th>\n",
       "      <td>180 days</td>\n",
       "      <td>1.550520e+26</td>\n",
       "      <td>1.245199e+13</td>\n",
       "      <td>1.244838e+13</td>\n",
       "      <td>1.236017</td>\n",
       "      <td>1.236017</td>\n",
       "      <td>1.984906</td>\n",
       "      <td>0.0</td>\n",
       "    </tr>\n",
       "    <tr>\n",
       "      <th>9</th>\n",
       "      <td>312 days</td>\n",
       "      <td>1.286923e+26</td>\n",
       "      <td>1.134426e+13</td>\n",
       "      <td>1.131348e+13</td>\n",
       "      <td>2.441408</td>\n",
       "      <td>2.441408</td>\n",
       "      <td>2.000000</td>\n",
       "      <td>0.0</td>\n",
       "    </tr>\n",
       "    <tr>\n",
       "      <th>10</th>\n",
       "      <td>318 days</td>\n",
       "      <td>5.798510e+25</td>\n",
       "      <td>7.614795e+12</td>\n",
       "      <td>6.481588e+12</td>\n",
       "      <td>6.122713</td>\n",
       "      <td>6.122713</td>\n",
       "      <td>2.000000</td>\n",
       "      <td>0.5</td>\n",
       "    </tr>\n",
       "    <tr>\n",
       "      <th>11</th>\n",
       "      <td>323 days</td>\n",
       "      <td>3.889736e+24</td>\n",
       "      <td>1.972241e+12</td>\n",
       "      <td>1.875878e+12</td>\n",
       "      <td>14.348951</td>\n",
       "      <td>14.348951</td>\n",
       "      <td>2.000000</td>\n",
       "      <td>1.0</td>\n",
       "    </tr>\n",
       "    <tr>\n",
       "      <th>12</th>\n",
       "      <td>328 days</td>\n",
       "      <td>2.054209e+24</td>\n",
       "      <td>1.433251e+12</td>\n",
       "      <td>1.424557e+12</td>\n",
       "      <td>25.019690</td>\n",
       "      <td>25.019690</td>\n",
       "      <td>1.937857</td>\n",
       "      <td>1.0</td>\n",
       "    </tr>\n",
       "    <tr>\n",
       "      <th>13</th>\n",
       "      <td>333 days</td>\n",
       "      <td>4.504952e+24</td>\n",
       "      <td>2.122487e+12</td>\n",
       "      <td>2.066494e+12</td>\n",
       "      <td>16.354662</td>\n",
       "      <td>16.354662</td>\n",
       "      <td>1.937857</td>\n",
       "      <td>0.5</td>\n",
       "    </tr>\n",
       "    <tr>\n",
       "      <th>14</th>\n",
       "      <td>339 days</td>\n",
       "      <td>4.466077e+24</td>\n",
       "      <td>2.113309e+12</td>\n",
       "      <td>2.054111e+12</td>\n",
       "      <td>1.606208</td>\n",
       "      <td>1.606208</td>\n",
       "      <td>1.523017</td>\n",
       "      <td>0.5</td>\n",
       "    </tr>\n",
       "    <tr>\n",
       "      <th>15</th>\n",
       "      <td>344 days</td>\n",
       "      <td>1.777206e+24</td>\n",
       "      <td>1.333119e+12</td>\n",
       "      <td>1.309948e+12</td>\n",
       "      <td>2.822447</td>\n",
       "      <td>2.822447</td>\n",
       "      <td>1.235581</td>\n",
       "      <td>1.0</td>\n",
       "    </tr>\n",
       "    <tr>\n",
       "      <th>16</th>\n",
       "      <td>349 days</td>\n",
       "      <td>5.758499e+23</td>\n",
       "      <td>7.588477e+11</td>\n",
       "      <td>6.068067e+11</td>\n",
       "      <td>2.605686</td>\n",
       "      <td>2.605686</td>\n",
       "      <td>0.857577</td>\n",
       "      <td>1.0</td>\n",
       "    </tr>\n",
       "    <tr>\n",
       "      <th>17</th>\n",
       "      <td>354 days</td>\n",
       "      <td>8.126903e+25</td>\n",
       "      <td>9.014934e+12</td>\n",
       "      <td>6.449641e+12</td>\n",
       "      <td>0.622845</td>\n",
       "      <td>0.622845</td>\n",
       "      <td>1.129919</td>\n",
       "      <td>0.5</td>\n",
       "    </tr>\n",
       "    <tr>\n",
       "      <th>18</th>\n",
       "      <td>360 days</td>\n",
       "      <td>1.550520e+26</td>\n",
       "      <td>1.245199e+13</td>\n",
       "      <td>1.244838e+13</td>\n",
       "      <td>1.236017</td>\n",
       "      <td>1.236017</td>\n",
       "      <td>1.984906</td>\n",
       "      <td>0.0</td>\n",
       "    </tr>\n",
       "    <tr>\n",
       "      <th>19</th>\n",
       "      <td>365 days</td>\n",
       "      <td>8.513170e+25</td>\n",
       "      <td>9.226684e+12</td>\n",
       "      <td>8.455198e+12</td>\n",
       "      <td>1.173926</td>\n",
       "      <td>1.173926</td>\n",
       "      <td>1.767118</td>\n",
       "      <td>0.5</td>\n",
       "    </tr>\n",
       "  </tbody>\n",
       "</table>\n",
       "</div>"
      ],
      "text/plain": [
       "    horizon           mse          rmse           mae       mape      mdape  \\\n",
       "0  138 days  5.798510e+25  7.614795e+12  6.481588e+12   6.122713   6.122713   \n",
       "1  143 days  3.889736e+24  1.972241e+12  1.875878e+12  14.348951  14.348951   \n",
       "2  148 days  2.054209e+24  1.433251e+12  1.424557e+12  25.019690  25.019690   \n",
       "3  153 days  4.504952e+24  2.122487e+12  2.066494e+12  16.354662  16.354662   \n",
       "4  159 days  4.466077e+24  2.113309e+12  2.054111e+12   1.606208   1.606208   \n",
       "5  164 days  1.777206e+24  1.333119e+12  1.309948e+12   2.822447   2.822447   \n",
       "6  169 days  5.758499e+23  7.588477e+11  6.068067e+11   2.605686   2.605686   \n",
       "7  174 days  8.126903e+25  9.014934e+12  6.449641e+12   0.622845   0.622845   \n",
       "8  180 days  1.550520e+26  1.245199e+13  1.244838e+13   1.236017   1.236017   \n",
       "9  312 days  1.286923e+26  1.134426e+13  1.131348e+13   2.441408   2.441408   \n",
       "10 318 days  5.798510e+25  7.614795e+12  6.481588e+12   6.122713   6.122713   \n",
       "11 323 days  3.889736e+24  1.972241e+12  1.875878e+12  14.348951  14.348951   \n",
       "12 328 days  2.054209e+24  1.433251e+12  1.424557e+12  25.019690  25.019690   \n",
       "13 333 days  4.504952e+24  2.122487e+12  2.066494e+12  16.354662  16.354662   \n",
       "14 339 days  4.466077e+24  2.113309e+12  2.054111e+12   1.606208   1.606208   \n",
       "15 344 days  1.777206e+24  1.333119e+12  1.309948e+12   2.822447   2.822447   \n",
       "16 349 days  5.758499e+23  7.588477e+11  6.068067e+11   2.605686   2.605686   \n",
       "17 354 days  8.126903e+25  9.014934e+12  6.449641e+12   0.622845   0.622845   \n",
       "18 360 days  1.550520e+26  1.245199e+13  1.244838e+13   1.236017   1.236017   \n",
       "19 365 days  8.513170e+25  9.226684e+12  8.455198e+12   1.173926   1.173926   \n",
       "\n",
       "       smape  coverage  \n",
       "0   2.000000       0.0  \n",
       "1   2.000000       0.5  \n",
       "2   1.937857       1.0  \n",
       "3   1.937857       0.5  \n",
       "4   1.523017       0.5  \n",
       "5   1.235581       1.0  \n",
       "6   0.857577       1.0  \n",
       "7   1.129919       0.5  \n",
       "8   1.984906       0.0  \n",
       "9   2.000000       0.0  \n",
       "10  2.000000       0.5  \n",
       "11  2.000000       1.0  \n",
       "12  1.937857       1.0  \n",
       "13  1.937857       0.5  \n",
       "14  1.523017       0.5  \n",
       "15  1.235581       1.0  \n",
       "16  0.857577       1.0  \n",
       "17  1.129919       0.5  \n",
       "18  1.984906       0.0  \n",
       "19  1.767118       0.5  "
      ]
     },
     "execution_count": 183,
     "metadata": {},
     "output_type": "execute_result"
    }
   ],
   "source": [
    "df_pm.head(50)"
   ]
  },
  {
   "cell_type": "code",
   "execution_count": 166,
   "metadata": {},
   "outputs": [],
   "source": [
    "from prophet.plot import plot_cross_validation_metric"
   ]
  },
  {
   "cell_type": "code",
   "execution_count": 173,
   "metadata": {},
   "outputs": [
    {
     "data": {
      "image/png": "[encoded data removed]",
      "text/plain": [
       "<Figure size 720x432 with 1 Axes>"
      ]
     },
     "execution_count": 173,
     "metadata": {},
     "output_type": "execute_result"
    },
    {
     "data": {
      "image/png": "[encoded data removed]",
      "text/plain": [
       "<Figure size 720x432 with 1 Axes>"
      ]
     },
     "metadata": {},
     "output_type": "display_data"
    }
   ],
   "source": [
    "plot_cross_validation_metric(cv, metric='mape')"
   ]
  },
  {
   "cell_type": "code",
   "execution_count": null,
   "metadata": {},
   "outputs": [],
   "source": [
    "model = Prophet()\n",
    "\n",
    "df_.drop(df_.tail(2).index,inplace=True) \n",
    "df_.tail()"
   ]
  },
  {
   "cell_type": "code",
   "execution_count": null,
   "metadata": {},
   "outputs": [],
   "source": [
    "df_.head()"
   ]
  },
  {
   "cell_type": "code",
   "execution_count": null,
   "metadata": {},
   "outputs": [],
   "source": [
    "model.fit(df_)\n",
    "future = model.make_future_dataframe(periods=3, freq=\"Y\")\n",
    "# future.head()\n",
    "future.tail()"
   ]
  },
  {
   "cell_type": "code",
   "execution_count": null,
   "metadata": {},
   "outputs": [],
   "source": [
    "forecast = model.predict(future)\n",
    "forecast.tail()"
   ]
  },
  {
   "cell_type": "code",
   "execution_count": null,
   "metadata": {},
   "outputs": [],
   "source": [
    "forecast.head()\n"
   ]
  },
  {
   "cell_type": "code",
   "execution_count": null,
   "metadata": {},
   "outputs": [],
   "source": [
    "fig1_ = model.plot(forecast)\n"
   ]
  },
  {
   "cell_type": "code",
   "execution_count": null,
   "metadata": {},
   "outputs": [],
   "source": [
    "# group by categories . \n",
    "df_main[expenditure_type].unique()"
   ]
  },
  {
   "cell_type": "code",
   "execution_count": null,
   "metadata": {},
   "outputs": [],
   "source": [
    "df_main.replace({'RECURRENT (NON DEBT) EXPENDITURE':'RECURRENT (NON-DEBT) EXPENDITURE'}, inplace=True)\n",
    "df_main.replace({'RECURRENT(NON DEBT)  EXPENDITURE':'RECURRENT (NON-DEBT) EXPENDITURE'}, inplace=True)"
   ]
  },
  {
   "cell_type": "code",
   "execution_count": null,
   "metadata": {},
   "outputs": [],
   "source": [
    "df_main[expenditure_type].unique()"
   ]
  },
  {
   "cell_type": "code",
   "execution_count": null,
   "metadata": {},
   "outputs": [],
   "source": [
    "df_main.head()"
   ]
  },
  {
   "cell_type": "code",
   "execution_count": null,
   "metadata": {},
   "outputs": [],
   "source": [
    "df_expenditure = df_main[[budget_year, expenditure_type, budget_amount]]\n",
    "df_expenditure.head()"
   ]
  },
  {
   "cell_type": "code",
   "execution_count": null,
   "metadata": {},
   "outputs": [],
   "source": [
    "df_expenditure = df_expenditure.groupby(budget_year)\n",
    "# split the grouped dataframe into a list of dataframes by their year. \n",
    "all_expenditure_dfs = [df_expenditure.get_group(x) for x in df_expenditure.groups]"
   ]
  },
  {
   "cell_type": "code",
   "execution_count": null,
   "metadata": {},
   "outputs": [],
   "source": [
    "all_expenditure_dfs[0].head()"
   ]
  },
  {
   "cell_type": "code",
   "execution_count": null,
   "metadata": {},
   "outputs": [],
   "source": [
    "# use a for loop to acomplish this later \n",
    "new_df_expenditure = []\n",
    "df_expenditures = pd.DataFrame()\n",
    "\n",
    "for dataframe in all_expenditure_dfs:\n",
    "    dataframes_year = dataframe[budget_year].iloc[0]\n",
    "    dataframe = dataframe.groupby(expenditure_type).sum()\n",
    "    dataframe[\"year\"] = dataframes_year\n",
    "    df_expenditures =  df_expenditures.append(dataframe)\n",
    "\n"
   ]
  },
  {
   "cell_type": "code",
   "execution_count": null,
   "metadata": {},
   "outputs": [],
   "source": [
    "df_expenditures.head()"
   ]
  },
  {
   "cell_type": "code",
   "execution_count": null,
   "metadata": {},
   "outputs": [],
   "source": [
    "df_expenditures[expenditure_type] = df_expenditures.index\n",
    "df_expenditures.head()\n",
    "# drop the inxed or make values. "
   ]
  },
  {
   "cell_type": "code",
   "execution_count": null,
   "metadata": {},
   "outputs": [],
   "source": [
    "df_expenditures[expenditure_type].unique()"
   ]
  },
  {
   "cell_type": "code",
   "execution_count": null,
   "metadata": {},
   "outputs": [],
   "source": [
    "len(df_expenditures)"
   ]
  },
  {
   "cell_type": "code",
   "execution_count": null,
   "metadata": {},
   "outputs": [],
   "source": [
    "unique_expenditures = ['CAPITAL EXPENDITURE', 'NON RECURRENT  EXPENDITURE',\n",
    "       'RECURRENT  EXPENDITURE', 'RECURRENT (NON-DEBT) EXPENDITURE',\n",
    "       'SUBSIDY RE-INVESTMENT']       "
   ]
  },
  {
   "cell_type": "code",
   "execution_count": null,
   "metadata": {},
   "outputs": [],
   "source": [
    "list_of_unique_expenditures = []\n",
    "for unique_expenditure in unique_expenditures: \n",
    "    # filter by type \n",
    "    df_expenditure_ = df_expenditures[df_expenditures[expenditure_type] == unique_expenditure]\n",
    "    # make a plot \n",
    "    df_expenditure_.rename(columns={\"BUDGETYEAR\": \"Total Budget\"}, inplace=True)\n",
    "    list_of_unique_expenditures.append(df_expenditure_)\n",
    "    # add plot to a list. "
   ]
  },
  {
   "cell_type": "code",
   "execution_count": null,
   "metadata": {},
   "outputs": [],
   "source": [
    "# 1. Add header \n",
    "# 2. Add function \n",
    "# 3. Add plots. \n",
    "# 4. Plot all together\n",
    "for df in list_of_unique_expenditures:\n",
    "    header = df.index[0]\n",
    "    axes = df.plot.bar(\"year\", \"Total Budget\", color=\"green\", title=header)\n"
   ]
  },
  {
   "cell_type": "code",
   "execution_count": null,
   "metadata": {},
   "outputs": [],
   "source": [
    "def get_expenditure_by_year(year, df_expenditures=df_expenditures):\n",
    "    year = float(year)\n",
    "    return df_expenditures[df_expenditures[\"year\"] == year]"
   ]
  },
  {
   "cell_type": "code",
   "execution_count": null,
   "metadata": {},
   "outputs": [],
   "source": [
    "df_expenditure_2022 = get_expenditure_by_year(2022)\n",
    "df_expenditure_2022"
   ]
  },
  {
   "cell_type": "code",
   "execution_count": null,
   "metadata": {},
   "outputs": [],
   "source": [
    "df_main[budget_category].unique()"
   ]
  },
  {
   "cell_type": "code",
   "execution_count": null,
   "metadata": {},
   "outputs": [],
   "source": [
    "df_budget_categories = df_main[[budget_year, budget_category, budget_amount]]\n",
    "\n",
    "df_budget_categories = df_budget_categories.groupby(budget_year)\n",
    "# split the grouped dataframe into a list of dataframes by their year. \n",
    "all_category_dfs = [df_budget_categories.get_group(x) for x in df_budget_categories.groups]"
   ]
  },
  {
   "cell_type": "code",
   "execution_count": null,
   "metadata": {},
   "outputs": [],
   "source": [
    "# use a for loop to acomplish this later \n",
    "new_df_category = []\n",
    "df_budget_categories = pd.DataFrame()\n",
    "\n",
    "for dataframe in all_category_dfs:\n",
    "    dataframes_year = dataframe[budget_year].iloc[0]\n",
    "    dataframe = dataframe.groupby(budget_category).sum()\n",
    "    dataframe[\"year\"] = dataframes_year\n",
    "    df_budget_categories =  df_budget_categories.append(dataframe)"
   ]
  },
  {
   "cell_type": "code",
   "execution_count": null,
   "metadata": {},
   "outputs": [],
   "source": [
    "df_budget_categories[budget_category] = df_budget_categories.index\n",
    "df_budget_categories.head()"
   ]
  },
  {
   "cell_type": "code",
   "execution_count": null,
   "metadata": {},
   "outputs": [],
   "source": [
    "unique_categories = df_budget_categories[budget_category].unique()\n",
    "list_of_unique_categories = []\n",
    "for unique_category in unique_categories: \n",
    "    # filter by type \n",
    "    df_budget_category_ = df_budget_categories[df_budget_categories[budget_category] == unique_category]\n",
    "    # make a plot \n",
    "    df_budget_category_.rename(columns={\"BUDGETYEAR\": \"Total Budget\"}, inplace=True)\n",
    "    list_of_unique_categories.append(df_budget_category_)\n",
    "    # add plot to a list. "
   ]
  },
  {
   "cell_type": "code",
   "execution_count": null,
   "metadata": {},
   "outputs": [],
   "source": [
    "for df in list_of_unique_categories:\n",
    "    header = df.index[0]\n",
    "    axes = df.plot.bar(\"year\", \"Total Budget\", color=\"red\", title=header)"
   ]
  },
  {
   "cell_type": "code",
   "execution_count": null,
   "metadata": {},
   "outputs": [],
   "source": [
    "df_main[df_main[\"BUDGETYEAR\"] == 2020]\n"
   ]
  },
  {
   "cell_type": "code",
   "execution_count": null,
   "metadata": {},
   "outputs": [],
   "source": [
    "df_20 = df_main[df_main[\"BUDGETYEAR\"] == 2020]\n",
    "df_20.head()"
   ]
  },
  {
   "cell_type": "code",
   "execution_count": null,
   "metadata": {},
   "outputs": [],
   "source": [
    "df_20.info()"
   ]
  },
  {
   "cell_type": "code",
   "execution_count": null,
   "metadata": {},
   "outputs": [],
   "source": [
    "df_20[budget_amount] = df_20[budget_amount].astype(float)"
   ]
  },
  {
   "cell_type": "code",
   "execution_count": null,
   "metadata": {},
   "outputs": [],
   "source": []
  },
  {
   "cell_type": "code",
   "execution_count": null,
   "metadata": {},
   "outputs": [],
   "source": [
    "df_20_group = df_20.groupby([budget_category])[budget_amount].sum()"
   ]
  },
  {
   "cell_type": "code",
   "execution_count": null,
   "metadata": {},
   "outputs": [],
   "source": [
    "df_20_group"
   ]
  },
  {
   "cell_type": "code",
   "execution_count": null,
   "metadata": {},
   "outputs": [],
   "source": [
    "axes = df_20_group.plot.bar(budget_year, budget_category, color=\"green\")"
   ]
  },
  {
   "cell_type": "code",
   "execution_count": null,
   "metadata": {},
   "outputs": [],
   "source": []
  }
 ],
 "metadata": {
  "kernelspec": {
   "display_name": "Python 3.9.12 ('base')",
   "language": "python",
   "name": "python3"
  },
  "language_info": {
   "codemirror_mode": {
    "name": "ipython",
    "version": 3
   },
   "file_extension": ".py",
   "mimetype": "text/x-python",
   "name": "python",
   "nbconvert_exporter": "python",
   "pygments_lexer": "ipython3",
   "version": "3.9.12"
  },
  "orig_nbformat": 4,
  "vscode": {
   "interpreter": {
    "hash": "58d4557a09cb5d15e8b507fb5550c99abc0c9fab090e49118a1b9e9cbc8a6a3e"
   }
  }
 },
 "nbformat": 4,
 "nbformat_minor": 2
}
