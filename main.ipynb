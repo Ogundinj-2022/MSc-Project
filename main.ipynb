{
 "cells": [
  {
   "cell_type": "code",
   "execution_count": 3,
   "metadata": {},
   "outputs": [],
   "source": [
    "import pandas as pd\n",
    "import matplotlib.pyplot as plt\n",
    "#import matplotlib.colors as colors\n",
    "import numpy as np\n",
    "%matplotlib inline"
   ]
  },
  {
   "cell_type": "code",
   "execution_count": 4,
   "metadata": {},
   "outputs": [],
   "source": [
    "import os\n",
    "files = os.listdir(\"Data\")"
   ]
  },
  {
   "cell_type": "code",
   "execution_count": 5,
   "metadata": {},
   "outputs": [],
   "source": [
    "df_main = pd.DataFrame()\n"
   ]
  },
  {
   "cell_type": "code",
   "execution_count": 6,
   "metadata": {},
   "outputs": [],
   "source": [
    "def Cleaned (clean: str):\n",
    "    try:\n",
    "        clean = clean.replace(\",\", \"\")\n",
    "        clean = clean.replace(\" \", \"\")    \n",
    "    except AttributeError:\n",
    "        pass\n",
    "    return clean"
   ]
  },
  {
   "cell_type": "code",
   "execution_count": 7,
   "metadata": {},
   "outputs": [
    {
     "name": "stdout",
     "output_type": "stream",
     "text": [
      "False\n"
     ]
    },
    {
     "name": "stderr",
     "output_type": "stream",
     "text": [
      "C:\\Users\\joogu\\AppData\\Local\\Temp\\ipykernel_9680\\2289976599.py:4: FutureWarning: The frame.append method is deprecated and will be removed from pandas in a future version. Use pandas.concat instead.\n",
      "  df_main =  df_main.append(df, ignore_index=True)\n",
      "C:\\Users\\joogu\\AppData\\Local\\Temp\\ipykernel_9680\\2289976599.py:4: FutureWarning: The frame.append method is deprecated and will be removed from pandas in a future version. Use pandas.concat instead.\n",
      "  df_main =  df_main.append(df, ignore_index=True)\n",
      "C:\\Users\\joogu\\AppData\\Local\\Temp\\ipykernel_9680\\2289976599.py:4: FutureWarning: The frame.append method is deprecated and will be removed from pandas in a future version. Use pandas.concat instead.\n",
      "  df_main =  df_main.append(df, ignore_index=True)\n",
      "C:\\Users\\joogu\\AppData\\Local\\Temp\\ipykernel_9680\\2289976599.py:4: FutureWarning: The frame.append method is deprecated and will be removed from pandas in a future version. Use pandas.concat instead.\n",
      "  df_main =  df_main.append(df, ignore_index=True)\n",
      "C:\\Users\\joogu\\AppData\\Local\\Temp\\ipykernel_9680\\2289976599.py:4: FutureWarning: The frame.append method is deprecated and will be removed from pandas in a future version. Use pandas.concat instead.\n",
      "  df_main =  df_main.append(df, ignore_index=True)\n",
      "C:\\Users\\joogu\\AppData\\Local\\Temp\\ipykernel_9680\\2289976599.py:4: FutureWarning: The frame.append method is deprecated and will be removed from pandas in a future version. Use pandas.concat instead.\n",
      "  df_main =  df_main.append(df, ignore_index=True)\n",
      "C:\\Users\\joogu\\AppData\\Local\\Temp\\ipykernel_9680\\2289976599.py:4: FutureWarning: The frame.append method is deprecated and will be removed from pandas in a future version. Use pandas.concat instead.\n",
      "  df_main =  df_main.append(df, ignore_index=True)\n",
      "C:\\Users\\joogu\\AppData\\Local\\Temp\\ipykernel_9680\\2289976599.py:4: FutureWarning: The frame.append method is deprecated and will be removed from pandas in a future version. Use pandas.concat instead.\n",
      "  df_main =  df_main.append(df, ignore_index=True)\n",
      "C:\\Users\\joogu\\AppData\\Local\\Temp\\ipykernel_9680\\2289976599.py:4: FutureWarning: The frame.append method is deprecated and will be removed from pandas in a future version. Use pandas.concat instead.\n",
      "  df_main =  df_main.append(df, ignore_index=True)\n",
      "C:\\Users\\joogu\\AppData\\Local\\Temp\\ipykernel_9680\\2289976599.py:4: FutureWarning: The frame.append method is deprecated and will be removed from pandas in a future version. Use pandas.concat instead.\n",
      "  df_main =  df_main.append(df, ignore_index=True)\n",
      "C:\\Users\\joogu\\AppData\\Local\\Temp\\ipykernel_9680\\2289976599.py:4: FutureWarning: The frame.append method is deprecated and will be removed from pandas in a future version. Use pandas.concat instead.\n",
      "  df_main =  df_main.append(df, ignore_index=True)\n",
      "C:\\Users\\joogu\\AppData\\Local\\Temp\\ipykernel_9680\\2289976599.py:4: FutureWarning: The frame.append method is deprecated and will be removed from pandas in a future version. Use pandas.concat instead.\n",
      "  df_main =  df_main.append(df, ignore_index=True)\n",
      "C:\\Users\\joogu\\AppData\\Local\\Temp\\ipykernel_9680\\2289976599.py:4: FutureWarning: The frame.append method is deprecated and will be removed from pandas in a future version. Use pandas.concat instead.\n",
      "  df_main =  df_main.append(df, ignore_index=True)\n"
     ]
    },
    {
     "name": "stdout",
     "output_type": "stream",
     "text": [
      "False\n",
      "False\n",
      "False\n",
      "True\n",
      "False\n",
      "False\n",
      "False\n",
      "False\n",
      "False\n",
      "False\n",
      "False\n",
      "False\n",
      "False\n"
     ]
    },
    {
     "name": "stderr",
     "output_type": "stream",
     "text": [
      "C:\\Users\\joogu\\AppData\\Local\\Temp\\ipykernel_9680\\2289976599.py:4: FutureWarning: The frame.append method is deprecated and will be removed from pandas in a future version. Use pandas.concat instead.\n",
      "  df_main =  df_main.append(df, ignore_index=True)\n"
     ]
    }
   ],
   "source": [
    "for file in files:\n",
    "    df = pd.read_csv(f\"Data/{file}\")\n",
    "    print(df.isnull().values.any())\n",
    "    df_main =  df_main.append(df, ignore_index=True)"
   ]
  },
  {
   "cell_type": "code",
   "execution_count": 8,
   "metadata": {},
   "outputs": [
    {
     "data": {
      "text/plain": [
       "0         0.0\n",
       "1         1.0\n",
       "2         2.0\n",
       "3         3.0\n",
       "4         4.0\n",
       "        ...  \n",
       "2684    216.0\n",
       "2685    217.0\n",
       "2686    218.0\n",
       "2687    219.0\n",
       "2688    220.0\n",
       "Name: Unnamed: 0, Length: 2689, dtype: float64"
      ]
     },
     "execution_count": 8,
     "metadata": {},
     "output_type": "execute_result"
    }
   ],
   "source": [
    "df_main.pop(\"Unnamed: 0\")"
   ]
  },
  {
   "cell_type": "code",
   "execution_count": 9,
   "metadata": {},
   "outputs": [
    {
     "data": {
      "text/html": [
       "<div>\n",
       "<style scoped>\n",
       "    .dataframe tbody tr th:only-of-type {\n",
       "        vertical-align: middle;\n",
       "    }\n",
       "\n",
       "    .dataframe tbody tr th {\n",
       "        vertical-align: top;\n",
       "    }\n",
       "\n",
       "    .dataframe thead th {\n",
       "        text-align: right;\n",
       "    }\n",
       "</style>\n",
       "<table border=\"1\" class=\"dataframe\">\n",
       "  <thead>\n",
       "    <tr style=\"text-align: right;\">\n",
       "      <th></th>\n",
       "      <th>BUDGETYEAR</th>\n",
       "      <th>BUDGET CATEGORY</th>\n",
       "      <th>TYPE OF EXPENDITURE</th>\n",
       "      <th>GOVERNMENT AGENCY</th>\n",
       "      <th>ESTIMATED BUDGET</th>\n",
       "    </tr>\n",
       "  </thead>\n",
       "  <tbody>\n",
       "    <tr>\n",
       "      <th>0</th>\n",
       "      <td>2010.0</td>\n",
       "      <td>STATUTORY</td>\n",
       "      <td>NON RECURRENT  EXPENDITURE</td>\n",
       "      <td>NATIONAL JUDICIAL COUNCIL</td>\n",
       "      <td>91000000000.0</td>\n",
       "    </tr>\n",
       "    <tr>\n",
       "      <th>1</th>\n",
       "      <td>2010.0</td>\n",
       "      <td>STATUTORY</td>\n",
       "      <td>NON RECURRENT  EXPENDITURE</td>\n",
       "      <td>NIGER-DELTA DEVELOPMENT COMMISSION</td>\n",
       "      <td>35624771198.0</td>\n",
       "    </tr>\n",
       "    <tr>\n",
       "      <th>2</th>\n",
       "      <td>2010.0</td>\n",
       "      <td>STATUTORY</td>\n",
       "      <td>NON RECURRENT  EXPENDITURE</td>\n",
       "      <td>NDDC ARREARS OF SHARE OF EXCESS CRUDE DISTRIBU...</td>\n",
       "      <td>9312986292.0</td>\n",
       "    </tr>\n",
       "    <tr>\n",
       "      <th>3</th>\n",
       "      <td>2010.0</td>\n",
       "      <td>STATUTORY</td>\n",
       "      <td>NON RECURRENT  EXPENDITURE</td>\n",
       "      <td>UNIVERSAL BASIC EDUCATION</td>\n",
       "      <td>44341401504.0</td>\n",
       "    </tr>\n",
       "    <tr>\n",
       "      <th>4</th>\n",
       "      <td>2010.0</td>\n",
       "      <td>DEBT SERVICE</td>\n",
       "      <td>NON RECURRENT  EXPENDITURE</td>\n",
       "      <td>DOMESTIC DEBTS</td>\n",
       "      <td>478155330805.0</td>\n",
       "    </tr>\n",
       "  </tbody>\n",
       "</table>\n",
       "</div>"
      ],
      "text/plain": [
       "   BUDGETYEAR BUDGET CATEGORY         TYPE OF EXPENDITURE  \\\n",
       "0      2010.0       STATUTORY  NON RECURRENT  EXPENDITURE   \n",
       "1      2010.0       STATUTORY  NON RECURRENT  EXPENDITURE   \n",
       "2      2010.0       STATUTORY  NON RECURRENT  EXPENDITURE   \n",
       "3      2010.0       STATUTORY  NON RECURRENT  EXPENDITURE   \n",
       "4      2010.0    DEBT SERVICE  NON RECURRENT  EXPENDITURE   \n",
       "\n",
       "                                   GOVERNMENT AGENCY ESTIMATED BUDGET  \n",
       "0                          NATIONAL JUDICIAL COUNCIL    91000000000.0  \n",
       "1                 NIGER-DELTA DEVELOPMENT COMMISSION    35624771198.0  \n",
       "2  NDDC ARREARS OF SHARE OF EXCESS CRUDE DISTRIBU...     9312986292.0  \n",
       "3                          UNIVERSAL BASIC EDUCATION    44341401504.0  \n",
       "4                                     DOMESTIC DEBTS   478155330805.0  "
      ]
     },
     "execution_count": 9,
     "metadata": {},
     "output_type": "execute_result"
    }
   ],
   "source": [
    "df_main.head()"
   ]
  },
  {
   "cell_type": "code",
   "execution_count": 10,
   "metadata": {},
   "outputs": [
    {
     "data": {
      "text/html": [
       "<div>\n",
       "<style scoped>\n",
       "    .dataframe tbody tr th:only-of-type {\n",
       "        vertical-align: middle;\n",
       "    }\n",
       "\n",
       "    .dataframe tbody tr th {\n",
       "        vertical-align: top;\n",
       "    }\n",
       "\n",
       "    .dataframe thead th {\n",
       "        text-align: right;\n",
       "    }\n",
       "</style>\n",
       "<table border=\"1\" class=\"dataframe\">\n",
       "  <thead>\n",
       "    <tr style=\"text-align: right;\">\n",
       "      <th></th>\n",
       "      <th>BUDGETYEAR</th>\n",
       "      <th>BUDGET CATEGORY</th>\n",
       "      <th>TYPE OF EXPENDITURE</th>\n",
       "      <th>GOVERNMENT AGENCY</th>\n",
       "      <th>ESTIMATED BUDGET</th>\n",
       "    </tr>\n",
       "  </thead>\n",
       "  <tbody>\n",
       "    <tr>\n",
       "      <th>0</th>\n",
       "      <td>2010</td>\n",
       "      <td>STATUTORY</td>\n",
       "      <td>NON RECURRENT  EXPENDITURE</td>\n",
       "      <td>NATIONAL JUDICIAL COUNCIL</td>\n",
       "      <td>91000000000.0</td>\n",
       "    </tr>\n",
       "    <tr>\n",
       "      <th>1</th>\n",
       "      <td>2010</td>\n",
       "      <td>STATUTORY</td>\n",
       "      <td>NON RECURRENT  EXPENDITURE</td>\n",
       "      <td>NIGER-DELTA DEVELOPMENT COMMISSION</td>\n",
       "      <td>35624771198.0</td>\n",
       "    </tr>\n",
       "    <tr>\n",
       "      <th>2</th>\n",
       "      <td>2010</td>\n",
       "      <td>STATUTORY</td>\n",
       "      <td>NON RECURRENT  EXPENDITURE</td>\n",
       "      <td>NDDC ARREARS OF SHARE OF EXCESS CRUDE DISTRIBU...</td>\n",
       "      <td>9312986292.0</td>\n",
       "    </tr>\n",
       "    <tr>\n",
       "      <th>3</th>\n",
       "      <td>2010</td>\n",
       "      <td>STATUTORY</td>\n",
       "      <td>NON RECURRENT  EXPENDITURE</td>\n",
       "      <td>UNIVERSAL BASIC EDUCATION</td>\n",
       "      <td>44341401504.0</td>\n",
       "    </tr>\n",
       "    <tr>\n",
       "      <th>4</th>\n",
       "      <td>2010</td>\n",
       "      <td>DEBT SERVICE</td>\n",
       "      <td>NON RECURRENT  EXPENDITURE</td>\n",
       "      <td>DOMESTIC DEBTS</td>\n",
       "      <td>478155330805.0</td>\n",
       "    </tr>\n",
       "  </tbody>\n",
       "</table>\n",
       "</div>"
      ],
      "text/plain": [
       "   BUDGETYEAR BUDGET CATEGORY         TYPE OF EXPENDITURE  \\\n",
       "0        2010       STATUTORY  NON RECURRENT  EXPENDITURE   \n",
       "1        2010       STATUTORY  NON RECURRENT  EXPENDITURE   \n",
       "2        2010       STATUTORY  NON RECURRENT  EXPENDITURE   \n",
       "3        2010       STATUTORY  NON RECURRENT  EXPENDITURE   \n",
       "4        2010    DEBT SERVICE  NON RECURRENT  EXPENDITURE   \n",
       "\n",
       "                                   GOVERNMENT AGENCY ESTIMATED BUDGET  \n",
       "0                          NATIONAL JUDICIAL COUNCIL    91000000000.0  \n",
       "1                 NIGER-DELTA DEVELOPMENT COMMISSION    35624771198.0  \n",
       "2  NDDC ARREARS OF SHARE OF EXCESS CRUDE DISTRIBU...     9312986292.0  \n",
       "3                          UNIVERSAL BASIC EDUCATION    44341401504.0  \n",
       "4                                     DOMESTIC DEBTS   478155330805.0  "
      ]
     },
     "execution_count": 10,
     "metadata": {},
     "output_type": "execute_result"
    }
   ],
   "source": [
    "df_main['BUDGETYEAR'] = df_main['BUDGETYEAR'].astype(int)\n",
    "df_main.head()"
   ]
  },
  {
   "cell_type": "code",
   "execution_count": 11,
   "metadata": {},
   "outputs": [
    {
     "name": "stdout",
     "output_type": "stream",
     "text": [
      "BUDGETYEAR\n",
      "BUDGET CATEGORY\n",
      "TYPE OF EXPENDITURE\n",
      "GOVERNMENT AGENCY\n",
      "ESTIMATED BUDGET\n"
     ]
    }
   ],
   "source": [
    "df_main.tail()\n",
    "for coll in df_main.columns:\n",
    "    print(coll)\n",
    "df_main.rename(columns = {'ESTIMATED BUDGET':'TOTAL BUDGET'}, inplace=True)"
   ]
  },
  {
   "cell_type": "code",
   "execution_count": 12,
   "metadata": {},
   "outputs": [
    {
     "data": {
      "text/plain": [
       "BUDGETYEAR             0\n",
       "BUDGET CATEGORY        1\n",
       "TYPE OF EXPENDITURE    0\n",
       "GOVERNMENT AGENCY      0\n",
       "TOTAL BUDGET           0\n",
       "dtype: int64"
      ]
     },
     "execution_count": 12,
     "metadata": {},
     "output_type": "execute_result"
    }
   ],
   "source": [
    "df_main.isnull().sum()"
   ]
  },
  {
   "cell_type": "code",
   "execution_count": 13,
   "metadata": {},
   "outputs": [],
   "source": [
    "df_main = df_main.fillna(0)\n"
   ]
  },
  {
   "cell_type": "code",
   "execution_count": 14,
   "metadata": {},
   "outputs": [
    {
     "data": {
      "text/plain": [
       "BUDGETYEAR             0\n",
       "BUDGET CATEGORY        0\n",
       "TYPE OF EXPENDITURE    0\n",
       "GOVERNMENT AGENCY      0\n",
       "TOTAL BUDGET           0\n",
       "dtype: int64"
      ]
     },
     "execution_count": 14,
     "metadata": {},
     "output_type": "execute_result"
    }
   ],
   "source": [
    "df_main.isnull().sum()"
   ]
  },
  {
   "cell_type": "code",
   "execution_count": 15,
   "metadata": {},
   "outputs": [],
   "source": [
    "df_main[\"TOTAL BUDGET\"] = df_main[\"TOTAL BUDGET\"].apply(Cleaned)"
   ]
  },
  {
   "cell_type": "code",
   "execution_count": 16,
   "metadata": {},
   "outputs": [
    {
     "data": {
      "text/html": [
       "<div>\n",
       "<style scoped>\n",
       "    .dataframe tbody tr th:only-of-type {\n",
       "        vertical-align: middle;\n",
       "    }\n",
       "\n",
       "    .dataframe tbody tr th {\n",
       "        vertical-align: top;\n",
       "    }\n",
       "\n",
       "    .dataframe thead th {\n",
       "        text-align: right;\n",
       "    }\n",
       "</style>\n",
       "<table border=\"1\" class=\"dataframe\">\n",
       "  <thead>\n",
       "    <tr style=\"text-align: right;\">\n",
       "      <th></th>\n",
       "      <th>BUDGETYEAR</th>\n",
       "      <th>BUDGET CATEGORY</th>\n",
       "      <th>TYPE OF EXPENDITURE</th>\n",
       "      <th>GOVERNMENT AGENCY</th>\n",
       "      <th>TOTAL BUDGET</th>\n",
       "    </tr>\n",
       "  </thead>\n",
       "  <tbody>\n",
       "    <tr>\n",
       "      <th>0</th>\n",
       "      <td>2010</td>\n",
       "      <td>STATUTORY</td>\n",
       "      <td>NON RECURRENT  EXPENDITURE</td>\n",
       "      <td>NATIONAL JUDICIAL COUNCIL</td>\n",
       "      <td>91000000000.0</td>\n",
       "    </tr>\n",
       "    <tr>\n",
       "      <th>1</th>\n",
       "      <td>2010</td>\n",
       "      <td>STATUTORY</td>\n",
       "      <td>NON RECURRENT  EXPENDITURE</td>\n",
       "      <td>NIGER-DELTA DEVELOPMENT COMMISSION</td>\n",
       "      <td>35624771198.0</td>\n",
       "    </tr>\n",
       "    <tr>\n",
       "      <th>2</th>\n",
       "      <td>2010</td>\n",
       "      <td>STATUTORY</td>\n",
       "      <td>NON RECURRENT  EXPENDITURE</td>\n",
       "      <td>NDDC ARREARS OF SHARE OF EXCESS CRUDE DISTRIBU...</td>\n",
       "      <td>9312986292.0</td>\n",
       "    </tr>\n",
       "    <tr>\n",
       "      <th>3</th>\n",
       "      <td>2010</td>\n",
       "      <td>STATUTORY</td>\n",
       "      <td>NON RECURRENT  EXPENDITURE</td>\n",
       "      <td>UNIVERSAL BASIC EDUCATION</td>\n",
       "      <td>44341401504.0</td>\n",
       "    </tr>\n",
       "    <tr>\n",
       "      <th>4</th>\n",
       "      <td>2010</td>\n",
       "      <td>DEBT SERVICE</td>\n",
       "      <td>NON RECURRENT  EXPENDITURE</td>\n",
       "      <td>DOMESTIC DEBTS</td>\n",
       "      <td>478155330805.0</td>\n",
       "    </tr>\n",
       "  </tbody>\n",
       "</table>\n",
       "</div>"
      ],
      "text/plain": [
       "   BUDGETYEAR BUDGET CATEGORY         TYPE OF EXPENDITURE  \\\n",
       "0        2010       STATUTORY  NON RECURRENT  EXPENDITURE   \n",
       "1        2010       STATUTORY  NON RECURRENT  EXPENDITURE   \n",
       "2        2010       STATUTORY  NON RECURRENT  EXPENDITURE   \n",
       "3        2010       STATUTORY  NON RECURRENT  EXPENDITURE   \n",
       "4        2010    DEBT SERVICE  NON RECURRENT  EXPENDITURE   \n",
       "\n",
       "                                   GOVERNMENT AGENCY    TOTAL BUDGET  \n",
       "0                          NATIONAL JUDICIAL COUNCIL   91000000000.0  \n",
       "1                 NIGER-DELTA DEVELOPMENT COMMISSION   35624771198.0  \n",
       "2  NDDC ARREARS OF SHARE OF EXCESS CRUDE DISTRIBU...    9312986292.0  \n",
       "3                          UNIVERSAL BASIC EDUCATION   44341401504.0  \n",
       "4                                     DOMESTIC DEBTS  478155330805.0  "
      ]
     },
     "execution_count": 16,
     "metadata": {},
     "output_type": "execute_result"
    }
   ],
   "source": [
    "df_main.head()"
   ]
  },
  {
   "cell_type": "code",
   "execution_count": 17,
   "metadata": {},
   "outputs": [],
   "source": [
    "col = ['Unnamed: 0', 'BUDGETYEAR', 'BUDGET CATEGORY', 'TYPE OF EXPENDITURE',\n",
    "       'GOVERNMENT AGENCY', 'TOTAL BUDGET']\n",
    "government_agency = col[4]\n",
    "expenditure_type = col[3]\n",
    "budget_category = col[2]\n",
    "budget_year = col[1]\n",
    "budget_amount = col[5]\n"
   ]
  },
  {
   "cell_type": "code",
   "execution_count": 18,
   "metadata": {},
   "outputs": [
    {
     "data": {
      "text/plain": [
       "array([2010, 2011, 2012, 2013, 2014, 2015, 2016, 2017, 2018, 2019, 2020,\n",
       "       2021, 2022])"
      ]
     },
     "execution_count": 18,
     "metadata": {},
     "output_type": "execute_result"
    }
   ],
   "source": [
    "df_main[budget_year].unique()"
   ]
  },
  {
   "cell_type": "code",
   "execution_count": 19,
   "metadata": {},
   "outputs": [
    {
     "name": "stdout",
     "output_type": "stream",
     "text": [
      "<class 'pandas.core.frame.DataFrame'>\n",
      "RangeIndex: 2689 entries, 0 to 2688\n",
      "Data columns (total 2 columns):\n",
      " #   Column        Non-Null Count  Dtype \n",
      "---  ------        --------------  ----- \n",
      " 0   BUDGETYEAR    2689 non-null   int32 \n",
      " 1   TOTAL BUDGET  2689 non-null   object\n",
      "dtypes: int32(1), object(1)\n",
      "memory usage: 31.6+ KB\n"
     ]
    }
   ],
   "source": [
    "df_temp  = df_main[[budget_year, budget_amount]]\n",
    "# df_main.groupby([year]).sum()\n",
    "df_temp.info()"
   ]
  },
  {
   "cell_type": "code",
   "execution_count": 20,
   "metadata": {},
   "outputs": [
    {
     "name": "stderr",
     "output_type": "stream",
     "text": [
      "C:\\Users\\joogu\\AppData\\Local\\Temp\\ipykernel_9680\\269803411.py:1: SettingWithCopyWarning: \n",
      "A value is trying to be set on a copy of a slice from a DataFrame.\n",
      "Try using .loc[row_indexer,col_indexer] = value instead\n",
      "\n",
      "See the caveats in the documentation: https://pandas.pydata.org/pandas-docs/stable/user_guide/indexing.html#returning-a-view-versus-a-copy\n",
      "  df_temp[budget_year] = df_temp[budget_year].astype(int)\n"
     ]
    }
   ],
   "source": [
    "df_temp[budget_year] = df_temp[budget_year].astype(int)"
   ]
  },
  {
   "cell_type": "code",
   "execution_count": 21,
   "metadata": {},
   "outputs": [],
   "source": [
    "from math import floor\n",
    "\n",
    "def divide(val):\n",
    "    # val = float(val)\n",
    "    # print(val)\n",
    "    # divisor = 10000000000\n",
    "    # d = floor(val / divisor)\n",
    "    # return int(d)\n",
    "    return float(val)"
   ]
  },
  {
   "cell_type": "code",
   "execution_count": 22,
   "metadata": {},
   "outputs": [
    {
     "name": "stderr",
     "output_type": "stream",
     "text": [
      "C:\\Users\\joogu\\AppData\\Local\\Temp\\ipykernel_9680\\3575314723.py:1: SettingWithCopyWarning: \n",
      "A value is trying to be set on a copy of a slice from a DataFrame.\n",
      "Try using .loc[row_indexer,col_indexer] = value instead\n",
      "\n",
      "See the caveats in the documentation: https://pandas.pydata.org/pandas-docs/stable/user_guide/indexing.html#returning-a-view-versus-a-copy\n",
      "  df_temp[budget_amount] = df_temp[budget_amount].apply(divide)\n"
     ]
    }
   ],
   "source": [
    "df_temp[budget_amount] = df_temp[budget_amount].apply(divide)\n"
   ]
  },
  {
   "cell_type": "code",
   "execution_count": 23,
   "metadata": {},
   "outputs": [
    {
     "name": "stdout",
     "output_type": "stream",
     "text": [
      "<class 'pandas.core.frame.DataFrame'>\n",
      "RangeIndex: 2689 entries, 0 to 2688\n",
      "Data columns (total 2 columns):\n",
      " #   Column        Non-Null Count  Dtype  \n",
      "---  ------        --------------  -----  \n",
      " 0   BUDGETYEAR    2689 non-null   int32  \n",
      " 1   TOTAL BUDGET  2689 non-null   float64\n",
      "dtypes: float64(1), int32(1)\n",
      "memory usage: 31.6 KB\n"
     ]
    }
   ],
   "source": [
    "df_temp.info()"
   ]
  },
  {
   "cell_type": "code",
   "execution_count": 24,
   "metadata": {},
   "outputs": [
    {
     "data": {
      "text/html": [
       "<div>\n",
       "<style scoped>\n",
       "    .dataframe tbody tr th:only-of-type {\n",
       "        vertical-align: middle;\n",
       "    }\n",
       "\n",
       "    .dataframe tbody tr th {\n",
       "        vertical-align: top;\n",
       "    }\n",
       "\n",
       "    .dataframe thead th {\n",
       "        text-align: right;\n",
       "    }\n",
       "</style>\n",
       "<table border=\"1\" class=\"dataframe\">\n",
       "  <thead>\n",
       "    <tr style=\"text-align: right;\">\n",
       "      <th></th>\n",
       "      <th>TOTAL BUDGET</th>\n",
       "    </tr>\n",
       "    <tr>\n",
       "      <th>BUDGETYEAR</th>\n",
       "      <th></th>\n",
       "    </tr>\n",
       "  </thead>\n",
       "  <tbody>\n",
       "    <tr>\n",
       "      <th>2010</th>\n",
       "      <td>4.250801e+12</td>\n",
       "    </tr>\n",
       "    <tr>\n",
       "      <th>2011</th>\n",
       "      <td>7.948285e+12</td>\n",
       "    </tr>\n",
       "    <tr>\n",
       "      <th>2012</th>\n",
       "      <td>4.869293e+12</td>\n",
       "    </tr>\n",
       "    <tr>\n",
       "      <th>2013</th>\n",
       "      <td>5.150311e+12</td>\n",
       "    </tr>\n",
       "    <tr>\n",
       "      <th>2014</th>\n",
       "      <td>5.214118e+12</td>\n",
       "    </tr>\n",
       "    <tr>\n",
       "      <th>2015</th>\n",
       "      <td>5.161699e+12</td>\n",
       "    </tr>\n",
       "    <tr>\n",
       "      <th>2016</th>\n",
       "      <td>6.171679e+12</td>\n",
       "    </tr>\n",
       "    <tr>\n",
       "      <th>2017</th>\n",
       "      <td>8.439269e+12</td>\n",
       "    </tr>\n",
       "    <tr>\n",
       "      <th>2018</th>\n",
       "      <td>8.653561e+12</td>\n",
       "    </tr>\n",
       "    <tr>\n",
       "      <th>2019</th>\n",
       "      <td>9.250242e+12</td>\n",
       "    </tr>\n",
       "    <tr>\n",
       "      <th>2020</th>\n",
       "      <td>2.209607e+13</td>\n",
       "    </tr>\n",
       "    <tr>\n",
       "      <th>2021</th>\n",
       "      <td>1.388555e+13</td>\n",
       "    </tr>\n",
       "    <tr>\n",
       "      <th>2022</th>\n",
       "      <td>1.937012e+13</td>\n",
       "    </tr>\n",
       "  </tbody>\n",
       "</table>\n",
       "</div>"
      ],
      "text/plain": [
       "            TOTAL BUDGET\n",
       "BUDGETYEAR              \n",
       "2010        4.250801e+12\n",
       "2011        7.948285e+12\n",
       "2012        4.869293e+12\n",
       "2013        5.150311e+12\n",
       "2014        5.214118e+12\n",
       "2015        5.161699e+12\n",
       "2016        6.171679e+12\n",
       "2017        8.439269e+12\n",
       "2018        8.653561e+12\n",
       "2019        9.250242e+12\n",
       "2020        2.209607e+13\n",
       "2021        1.388555e+13\n",
       "2022        1.937012e+13"
      ]
     },
     "execution_count": 24,
     "metadata": {},
     "output_type": "execute_result"
    }
   ],
   "source": [
    "df_grouped = df_temp.groupby([budget_year]).sum()\n",
    "df_grouped\n"
   ]
  },
  {
   "cell_type": "code",
   "execution_count": 25,
   "metadata": {},
   "outputs": [],
   "source": [
    "df_grouped = pd.read_csv(\"allbudget.csv\")\n",
    "df_grouped.rename(columns = {'ESTIMATED BUDGET':'TOTAL BUDGET'}, inplace=True)"
   ]
  },
  {
   "cell_type": "code",
   "execution_count": 26,
   "metadata": {},
   "outputs": [
    {
     "data": {
      "text/plain": [
       "<AxesSubplot:title={'center':'Line Chart'}, xlabel='BUDGETYEAR'>"
      ]
     },
     "execution_count": 26,
     "metadata": {},
     "output_type": "execute_result"
    },
    {
     "data": {
      "image/png": "[encoded data removed]",
      "text/plain": [
       "<Figure size 432x288 with 1 Axes>"
      ]
     },
     "metadata": {
      "needs_background": "light"
     },
     "output_type": "display_data"
    }
   ],
   "source": [
    "from turtle import title\n",
    "\n",
    "\n",
    "df_grouped.head()\n",
    "df_grouped.plot(budget_year, budget_amount, color=\"red\", title = 'Line Chart')"
   ]
  },
  {
   "cell_type": "code",
   "execution_count": 27,
   "metadata": {},
   "outputs": [
    {
     "data": {
      "image/png": "[encoded data removed]",
      "text/plain": [
       "<Figure size 432x288 with 1 Axes>"
      ]
     },
     "metadata": {
      "needs_background": "light"
     },
     "output_type": "display_data"
    }
   ],
   "source": [
    "axes = df_grouped.plot.bar(budget_year, budget_amount, color=\"green\", title = 'Total Budget')"
   ]
  },
  {
   "cell_type": "code",
   "execution_count": 28,
   "metadata": {},
   "outputs": [
    {
     "data": {
      "image/png": "[encoded data removed]",
      "text/plain": [
       "<Figure size 432x288 with 1 Axes>"
      ]
     },
     "metadata": {
      "needs_background": "light"
     },
     "output_type": "display_data"
    }
   ],
   "source": [
    "from turtle import title\n",
    "\n",
    "\n",
    "df_grouped.plot(budget_year, budget_amount, kind = 'scatter', title = 'Scatter Graph')\n",
    "plt.show()"
   ]
  },
  {
   "cell_type": "code",
   "execution_count": 29,
   "metadata": {},
   "outputs": [
    {
     "data": {
      "image/png": "[encoded data removed]",
      "text/plain": [
       "<Figure size 432x288 with 1 Axes>"
      ]
     },
     "metadata": {},
     "output_type": "display_data"
    }
   ],
   "source": [
    "from turtle import color, title\n",
    "from matplotlib import colors\n",
    "df_grouped.plot(budget_year, budget_amount, kind = 'pie', autopct='%1.0f%%', startangle=100, title = 'Pie Chart')\n",
    "plt.show()"
   ]
  },
  {
   "cell_type": "code",
   "execution_count": 30,
   "metadata": {},
   "outputs": [
    {
     "data": {
      "text/plain": [
       "Index(['BUDGETYEAR', 'TOTAL BUDGET'], dtype='object')"
      ]
     },
     "execution_count": 30,
     "metadata": {},
     "output_type": "execute_result"
    }
   ],
   "source": [
    "df_grouped.columns"
   ]
  },
  {
   "cell_type": "code",
   "execution_count": 31,
   "metadata": {},
   "outputs": [
    {
     "data": {
      "text/plain": [
       "[<matplotlib.lines.Line2D at 0x1f2732e0610>]"
      ]
     },
     "execution_count": 31,
     "metadata": {},
     "output_type": "execute_result"
    },
    {
     "data": {
      "image/png": "[encoded data removed]",
      "text/plain": [
       "<Figure size 432x288 with 1 Axes>"
      ]
     },
     "metadata": {
      "needs_background": "light"
     },
     "output_type": "display_data"
    }
   ],
   "source": [
    "plt.plot(df_grouped[budget_year], df_grouped[budget_amount])"
   ]
  },
  {
   "cell_type": "code",
   "execution_count": 32,
   "metadata": {},
   "outputs": [
    {
     "data": {
      "text/plain": [
       "<AxesSubplot:>"
      ]
     },
     "execution_count": 32,
     "metadata": {},
     "output_type": "execute_result"
    },
    {
     "data": {
      "image/png": "[encoded data removed]",
      "text/plain": [
       "<Figure size 432x288 with 1 Axes>"
      ]
     },
     "metadata": {
      "needs_background": "light"
     },
     "output_type": "display_data"
    }
   ],
   "source": [
    "# yt = yt - y(t-1)\n",
    "df = df_grouped\n",
    "df['TOTAL BUDGET'] =  df['TOTAL BUDGET'] - df['TOTAL BUDGET'].shift(1)\n",
    "df.plot()"
   ]
  },
  {
   "cell_type": "code",
   "execution_count": 33,
   "metadata": {},
   "outputs": [],
   "source": [
    "from prophet import Prophet "
   ]
  },
  {
   "cell_type": "code",
   "execution_count": 34,
   "metadata": {},
   "outputs": [],
   "source": [
    "m = Prophet()\n",
    "# 2010-01-01"
   ]
  },
  {
   "cell_type": "code",
   "execution_count": 35,
   "metadata": {},
   "outputs": [],
   "source": [
    "def change_year_to_format(year):\n",
    "    year = str(year)\n",
    "    return year + \"-01-01\""
   ]
  },
  {
   "cell_type": "code",
   "execution_count": 36,
   "metadata": {},
   "outputs": [],
   "source": [
    "df_grouped[budget_year] = df_grouped[budget_year].apply(change_year_to_format)"
   ]
  },
  {
   "cell_type": "code",
   "execution_count": 37,
   "metadata": {},
   "outputs": [
    {
     "data": {
      "text/html": [
       "<div>\n",
       "<style scoped>\n",
       "    .dataframe tbody tr th:only-of-type {\n",
       "        vertical-align: middle;\n",
       "    }\n",
       "\n",
       "    .dataframe tbody tr th {\n",
       "        vertical-align: top;\n",
       "    }\n",
       "\n",
       "    .dataframe thead th {\n",
       "        text-align: right;\n",
       "    }\n",
       "</style>\n",
       "<table border=\"1\" class=\"dataframe\">\n",
       "  <thead>\n",
       "    <tr style=\"text-align: right;\">\n",
       "      <th></th>\n",
       "      <th>BUDGETYEAR</th>\n",
       "      <th>TOTAL BUDGET</th>\n",
       "    </tr>\n",
       "  </thead>\n",
       "  <tbody>\n",
       "    <tr>\n",
       "      <th>0</th>\n",
       "      <td>2010-01-01</td>\n",
       "      <td>NaN</td>\n",
       "    </tr>\n",
       "    <tr>\n",
       "      <th>1</th>\n",
       "      <td>2011-01-01</td>\n",
       "      <td>3.697484e+12</td>\n",
       "    </tr>\n",
       "    <tr>\n",
       "      <th>2</th>\n",
       "      <td>2012-01-01</td>\n",
       "      <td>-3.078991e+12</td>\n",
       "    </tr>\n",
       "    <tr>\n",
       "      <th>3</th>\n",
       "      <td>2013-01-01</td>\n",
       "      <td>2.810174e+11</td>\n",
       "    </tr>\n",
       "    <tr>\n",
       "      <th>4</th>\n",
       "      <td>2014-01-01</td>\n",
       "      <td>6.380703e+10</td>\n",
       "    </tr>\n",
       "  </tbody>\n",
       "</table>\n",
       "</div>"
      ],
      "text/plain": [
       "   BUDGETYEAR  TOTAL BUDGET\n",
       "0  2010-01-01           NaN\n",
       "1  2011-01-01  3.697484e+12\n",
       "2  2012-01-01 -3.078991e+12\n",
       "3  2013-01-01  2.810174e+11\n",
       "4  2014-01-01  6.380703e+10"
      ]
     },
     "execution_count": 37,
     "metadata": {},
     "output_type": "execute_result"
    }
   ],
   "source": [
    "df_grouped.head()"
   ]
  },
  {
   "cell_type": "code",
   "execution_count": 38,
   "metadata": {},
   "outputs": [],
   "source": [
    "df_grouped[budget_year] = pd.to_datetime(df_grouped[budget_year])"
   ]
  },
  {
   "cell_type": "code",
   "execution_count": 39,
   "metadata": {},
   "outputs": [
    {
     "data": {
      "text/html": [
       "<div>\n",
       "<style scoped>\n",
       "    .dataframe tbody tr th:only-of-type {\n",
       "        vertical-align: middle;\n",
       "    }\n",
       "\n",
       "    .dataframe tbody tr th {\n",
       "        vertical-align: top;\n",
       "    }\n",
       "\n",
       "    .dataframe thead th {\n",
       "        text-align: right;\n",
       "    }\n",
       "</style>\n",
       "<table border=\"1\" class=\"dataframe\">\n",
       "  <thead>\n",
       "    <tr style=\"text-align: right;\">\n",
       "      <th></th>\n",
       "      <th>BUDGETYEAR</th>\n",
       "      <th>TOTAL BUDGET</th>\n",
       "    </tr>\n",
       "  </thead>\n",
       "  <tbody>\n",
       "    <tr>\n",
       "      <th>0</th>\n",
       "      <td>2010-01-01</td>\n",
       "      <td>NaN</td>\n",
       "    </tr>\n",
       "    <tr>\n",
       "      <th>1</th>\n",
       "      <td>2011-01-01</td>\n",
       "      <td>3.697484e+12</td>\n",
       "    </tr>\n",
       "    <tr>\n",
       "      <th>2</th>\n",
       "      <td>2012-01-01</td>\n",
       "      <td>-3.078991e+12</td>\n",
       "    </tr>\n",
       "    <tr>\n",
       "      <th>3</th>\n",
       "      <td>2013-01-01</td>\n",
       "      <td>2.810174e+11</td>\n",
       "    </tr>\n",
       "    <tr>\n",
       "      <th>4</th>\n",
       "      <td>2014-01-01</td>\n",
       "      <td>6.380703e+10</td>\n",
       "    </tr>\n",
       "  </tbody>\n",
       "</table>\n",
       "</div>"
      ],
      "text/plain": [
       "  BUDGETYEAR  TOTAL BUDGET\n",
       "0 2010-01-01           NaN\n",
       "1 2011-01-01  3.697484e+12\n",
       "2 2012-01-01 -3.078991e+12\n",
       "3 2013-01-01  2.810174e+11\n",
       "4 2014-01-01  6.380703e+10"
      ]
     },
     "execution_count": 39,
     "metadata": {},
     "output_type": "execute_result"
    }
   ],
   "source": [
    "df_grouped.head()"
   ]
  },
  {
   "cell_type": "code",
   "execution_count": 40,
   "metadata": {},
   "outputs": [
    {
     "name": "stdout",
     "output_type": "stream",
     "text": [
      "<class 'pandas.core.frame.DataFrame'>\n",
      "RangeIndex: 13 entries, 0 to 12\n",
      "Data columns (total 2 columns):\n",
      " #   Column        Non-Null Count  Dtype         \n",
      "---  ------        --------------  -----         \n",
      " 0   BUDGETYEAR    13 non-null     datetime64[ns]\n",
      " 1   TOTAL BUDGET  12 non-null     float64       \n",
      "dtypes: datetime64[ns](1), float64(1)\n",
      "memory usage: 336.0 bytes\n"
     ]
    }
   ],
   "source": [
    "df_grouped.info()"
   ]
  },
  {
   "cell_type": "code",
   "execution_count": 41,
   "metadata": {},
   "outputs": [],
   "source": [
    "df_grouped.rename(columns = {budget_year:'ds', budget_amount:'y'}, inplace = True)"
   ]
  },
  {
   "cell_type": "code",
   "execution_count": 42,
   "metadata": {},
   "outputs": [],
   "source": [
    "df_grouped.fillna(0, inplace=True)"
   ]
  },
  {
   "cell_type": "code",
   "execution_count": 43,
   "metadata": {},
   "outputs": [],
   "source": [
    "df_ = df_grouped\n",
    "df = df_grouped"
   ]
  },
  {
   "cell_type": "code",
   "execution_count": 44,
   "metadata": {},
   "outputs": [
    {
     "data": {
      "text/html": [
       "<div>\n",
       "<style scoped>\n",
       "    .dataframe tbody tr th:only-of-type {\n",
       "        vertical-align: middle;\n",
       "    }\n",
       "\n",
       "    .dataframe tbody tr th {\n",
       "        vertical-align: top;\n",
       "    }\n",
       "\n",
       "    .dataframe thead th {\n",
       "        text-align: right;\n",
       "    }\n",
       "</style>\n",
       "<table border=\"1\" class=\"dataframe\">\n",
       "  <thead>\n",
       "    <tr style=\"text-align: right;\">\n",
       "      <th></th>\n",
       "      <th>ds</th>\n",
       "      <th>y</th>\n",
       "    </tr>\n",
       "  </thead>\n",
       "  <tbody>\n",
       "    <tr>\n",
       "      <th>0</th>\n",
       "      <td>2010-01-01</td>\n",
       "      <td>0.000000e+00</td>\n",
       "    </tr>\n",
       "    <tr>\n",
       "      <th>1</th>\n",
       "      <td>2011-01-01</td>\n",
       "      <td>3.697484e+12</td>\n",
       "    </tr>\n",
       "    <tr>\n",
       "      <th>2</th>\n",
       "      <td>2012-01-01</td>\n",
       "      <td>-3.078991e+12</td>\n",
       "    </tr>\n",
       "    <tr>\n",
       "      <th>3</th>\n",
       "      <td>2013-01-01</td>\n",
       "      <td>2.810174e+11</td>\n",
       "    </tr>\n",
       "    <tr>\n",
       "      <th>4</th>\n",
       "      <td>2014-01-01</td>\n",
       "      <td>6.380703e+10</td>\n",
       "    </tr>\n",
       "  </tbody>\n",
       "</table>\n",
       "</div>"
      ],
      "text/plain": [
       "          ds             y\n",
       "0 2010-01-01  0.000000e+00\n",
       "1 2011-01-01  3.697484e+12\n",
       "2 2012-01-01 -3.078991e+12\n",
       "3 2013-01-01  2.810174e+11\n",
       "4 2014-01-01  6.380703e+10"
      ]
     },
     "execution_count": 44,
     "metadata": {},
     "output_type": "execute_result"
    }
   ],
   "source": [
    "df.head()"
   ]
  },
  {
   "cell_type": "code",
   "execution_count": 45,
   "metadata": {},
   "outputs": [
    {
     "name": "stderr",
     "output_type": "stream",
     "text": [
      "04:57:41 - cmdstanpy - INFO - Chain [1] start processing\n",
      "04:57:41 - cmdstanpy - INFO - Chain [1] done processing\n"
     ]
    },
    {
     "data": {
      "text/plain": [
       "<prophet.forecaster.Prophet at 0x1f27356a4f0>"
      ]
     },
     "execution_count": 45,
     "metadata": {},
     "output_type": "execute_result"
    }
   ],
   "source": [
    "m.fit(df)"
   ]
  },
  {
   "cell_type": "code",
   "execution_count": 46,
   "metadata": {},
   "outputs": [
    {
     "data": {
      "text/html": [
       "<div>\n",
       "<style scoped>\n",
       "    .dataframe tbody tr th:only-of-type {\n",
       "        vertical-align: middle;\n",
       "    }\n",
       "\n",
       "    .dataframe tbody tr th {\n",
       "        vertical-align: top;\n",
       "    }\n",
       "\n",
       "    .dataframe thead th {\n",
       "        text-align: right;\n",
       "    }\n",
       "</style>\n",
       "<table border=\"1\" class=\"dataframe\">\n",
       "  <thead>\n",
       "    <tr style=\"text-align: right;\">\n",
       "      <th></th>\n",
       "      <th>ds</th>\n",
       "    </tr>\n",
       "  </thead>\n",
       "  <tbody>\n",
       "    <tr>\n",
       "      <th>11</th>\n",
       "      <td>2021-01-01</td>\n",
       "    </tr>\n",
       "    <tr>\n",
       "      <th>12</th>\n",
       "      <td>2022-01-01</td>\n",
       "    </tr>\n",
       "    <tr>\n",
       "      <th>13</th>\n",
       "      <td>2022-12-31</td>\n",
       "    </tr>\n",
       "    <tr>\n",
       "      <th>14</th>\n",
       "      <td>2023-12-31</td>\n",
       "    </tr>\n",
       "    <tr>\n",
       "      <th>15</th>\n",
       "      <td>2024-12-31</td>\n",
       "    </tr>\n",
       "  </tbody>\n",
       "</table>\n",
       "</div>"
      ],
      "text/plain": [
       "           ds\n",
       "11 2021-01-01\n",
       "12 2022-01-01\n",
       "13 2022-12-31\n",
       "14 2023-12-31\n",
       "15 2024-12-31"
      ]
     },
     "execution_count": 46,
     "metadata": {},
     "output_type": "execute_result"
    }
   ],
   "source": [
    "future = m.make_future_dataframe(periods=3, freq=\"Y\")\n",
    "# future.head()\n",
    "future.tail()"
   ]
  },
  {
   "cell_type": "code",
   "execution_count": 47,
   "metadata": {},
   "outputs": [
    {
     "data": {
      "text/html": [
       "<div>\n",
       "<style scoped>\n",
       "    .dataframe tbody tr th:only-of-type {\n",
       "        vertical-align: middle;\n",
       "    }\n",
       "\n",
       "    .dataframe tbody tr th {\n",
       "        vertical-align: top;\n",
       "    }\n",
       "\n",
       "    .dataframe thead th {\n",
       "        text-align: right;\n",
       "    }\n",
       "</style>\n",
       "<table border=\"1\" class=\"dataframe\">\n",
       "  <thead>\n",
       "    <tr style=\"text-align: right;\">\n",
       "      <th></th>\n",
       "      <th>ds</th>\n",
       "      <th>trend</th>\n",
       "      <th>yhat_lower</th>\n",
       "      <th>yhat_upper</th>\n",
       "      <th>trend_lower</th>\n",
       "      <th>trend_upper</th>\n",
       "      <th>additive_terms</th>\n",
       "      <th>additive_terms_lower</th>\n",
       "      <th>additive_terms_upper</th>\n",
       "      <th>yearly</th>\n",
       "      <th>yearly_lower</th>\n",
       "      <th>yearly_upper</th>\n",
       "      <th>multiplicative_terms</th>\n",
       "      <th>multiplicative_terms_lower</th>\n",
       "      <th>multiplicative_terms_upper</th>\n",
       "      <th>yhat</th>\n",
       "    </tr>\n",
       "  </thead>\n",
       "  <tbody>\n",
       "    <tr>\n",
       "      <th>11</th>\n",
       "      <td>2021-01-01</td>\n",
       "      <td>2.504930e+12</td>\n",
       "      <td>-4.923474e+12</td>\n",
       "      <td>5.171752e+12</td>\n",
       "      <td>2.504930e+12</td>\n",
       "      <td>2.504930e+12</td>\n",
       "      <td>-2.468942e+12</td>\n",
       "      <td>-2.468942e+12</td>\n",
       "      <td>-2.468942e+12</td>\n",
       "      <td>-2.468942e+12</td>\n",
       "      <td>-2.468942e+12</td>\n",
       "      <td>-2.468942e+12</td>\n",
       "      <td>0.0</td>\n",
       "      <td>0.0</td>\n",
       "      <td>0.0</td>\n",
       "      <td>3.598815e+10</td>\n",
       "    </tr>\n",
       "    <tr>\n",
       "      <th>12</th>\n",
       "      <td>2022-01-01</td>\n",
       "      <td>2.782011e+12</td>\n",
       "      <td>-2.992307e+12</td>\n",
       "      <td>7.330583e+12</td>\n",
       "      <td>2.782011e+12</td>\n",
       "      <td>2.782011e+12</td>\n",
       "      <td>-7.488877e+11</td>\n",
       "      <td>-7.488877e+11</td>\n",
       "      <td>-7.488877e+11</td>\n",
       "      <td>-7.488877e+11</td>\n",
       "      <td>-7.488877e+11</td>\n",
       "      <td>-7.488877e+11</td>\n",
       "      <td>0.0</td>\n",
       "      <td>0.0</td>\n",
       "      <td>0.0</td>\n",
       "      <td>2.033123e+12</td>\n",
       "    </tr>\n",
       "    <tr>\n",
       "      <th>13</th>\n",
       "      <td>2022-12-31</td>\n",
       "      <td>3.058331e+12</td>\n",
       "      <td>5.443077e+12</td>\n",
       "      <td>1.583279e+13</td>\n",
       "      <td>3.058331e+12</td>\n",
       "      <td>3.058331e+12</td>\n",
       "      <td>7.658670e+12</td>\n",
       "      <td>7.658670e+12</td>\n",
       "      <td>7.658670e+12</td>\n",
       "      <td>7.658670e+12</td>\n",
       "      <td>7.658670e+12</td>\n",
       "      <td>7.658670e+12</td>\n",
       "      <td>0.0</td>\n",
       "      <td>0.0</td>\n",
       "      <td>0.0</td>\n",
       "      <td>1.071700e+13</td>\n",
       "    </tr>\n",
       "    <tr>\n",
       "      <th>14</th>\n",
       "      <td>2023-12-31</td>\n",
       "      <td>3.335411e+12</td>\n",
       "      <td>7.467757e+12</td>\n",
       "      <td>1.756241e+13</td>\n",
       "      <td>3.335411e+12</td>\n",
       "      <td>3.335411e+12</td>\n",
       "      <td>9.287419e+12</td>\n",
       "      <td>9.287419e+12</td>\n",
       "      <td>9.287419e+12</td>\n",
       "      <td>9.287419e+12</td>\n",
       "      <td>9.287419e+12</td>\n",
       "      <td>9.287419e+12</td>\n",
       "      <td>0.0</td>\n",
       "      <td>0.0</td>\n",
       "      <td>0.0</td>\n",
       "      <td>1.262283e+13</td>\n",
       "    </tr>\n",
       "    <tr>\n",
       "      <th>15</th>\n",
       "      <td>2024-12-31</td>\n",
       "      <td>3.613251e+12</td>\n",
       "      <td>2.973634e+12</td>\n",
       "      <td>1.286973e+13</td>\n",
       "      <td>3.613251e+12</td>\n",
       "      <td>3.613251e+12</td>\n",
       "      <td>4.342392e+12</td>\n",
       "      <td>4.342392e+12</td>\n",
       "      <td>4.342392e+12</td>\n",
       "      <td>4.342392e+12</td>\n",
       "      <td>4.342392e+12</td>\n",
       "      <td>4.342392e+12</td>\n",
       "      <td>0.0</td>\n",
       "      <td>0.0</td>\n",
       "      <td>0.0</td>\n",
       "      <td>7.955643e+12</td>\n",
       "    </tr>\n",
       "  </tbody>\n",
       "</table>\n",
       "</div>"
      ],
      "text/plain": [
       "           ds         trend    yhat_lower    yhat_upper   trend_lower  \\\n",
       "11 2021-01-01  2.504930e+12 -4.923474e+12  5.171752e+12  2.504930e+12   \n",
       "12 2022-01-01  2.782011e+12 -2.992307e+12  7.330583e+12  2.782011e+12   \n",
       "13 2022-12-31  3.058331e+12  5.443077e+12  1.583279e+13  3.058331e+12   \n",
       "14 2023-12-31  3.335411e+12  7.467757e+12  1.756241e+13  3.335411e+12   \n",
       "15 2024-12-31  3.613251e+12  2.973634e+12  1.286973e+13  3.613251e+12   \n",
       "\n",
       "     trend_upper  additive_terms  additive_terms_lower  additive_terms_upper  \\\n",
       "11  2.504930e+12   -2.468942e+12         -2.468942e+12         -2.468942e+12   \n",
       "12  2.782011e+12   -7.488877e+11         -7.488877e+11         -7.488877e+11   \n",
       "13  3.058331e+12    7.658670e+12          7.658670e+12          7.658670e+12   \n",
       "14  3.335411e+12    9.287419e+12          9.287419e+12          9.287419e+12   \n",
       "15  3.613251e+12    4.342392e+12          4.342392e+12          4.342392e+12   \n",
       "\n",
       "          yearly  yearly_lower  yearly_upper  multiplicative_terms  \\\n",
       "11 -2.468942e+12 -2.468942e+12 -2.468942e+12                   0.0   \n",
       "12 -7.488877e+11 -7.488877e+11 -7.488877e+11                   0.0   \n",
       "13  7.658670e+12  7.658670e+12  7.658670e+12                   0.0   \n",
       "14  9.287419e+12  9.287419e+12  9.287419e+12                   0.0   \n",
       "15  4.342392e+12  4.342392e+12  4.342392e+12                   0.0   \n",
       "\n",
       "    multiplicative_terms_lower  multiplicative_terms_upper          yhat  \n",
       "11                         0.0                         0.0  3.598815e+10  \n",
       "12                         0.0                         0.0  2.033123e+12  \n",
       "13                         0.0                         0.0  1.071700e+13  \n",
       "14                         0.0                         0.0  1.262283e+13  \n",
       "15                         0.0                         0.0  7.955643e+12  "
      ]
     },
     "execution_count": 47,
     "metadata": {},
     "output_type": "execute_result"
    }
   ],
   "source": [
    "forecast = m.predict(future)\n",
    "forecast.tail()\n"
   ]
  },
  {
   "cell_type": "code",
   "execution_count": 48,
   "metadata": {},
   "outputs": [
    {
     "data": {
      "text/html": [
       "<div>\n",
       "<style scoped>\n",
       "    .dataframe tbody tr th:only-of-type {\n",
       "        vertical-align: middle;\n",
       "    }\n",
       "\n",
       "    .dataframe tbody tr th {\n",
       "        vertical-align: top;\n",
       "    }\n",
       "\n",
       "    .dataframe thead th {\n",
       "        text-align: right;\n",
       "    }\n",
       "</style>\n",
       "<table border=\"1\" class=\"dataframe\">\n",
       "  <thead>\n",
       "    <tr style=\"text-align: right;\">\n",
       "      <th></th>\n",
       "      <th>ds</th>\n",
       "      <th>trend</th>\n",
       "      <th>yhat_lower</th>\n",
       "      <th>yhat_upper</th>\n",
       "      <th>trend_lower</th>\n",
       "      <th>trend_upper</th>\n",
       "      <th>additive_terms</th>\n",
       "      <th>additive_terms_lower</th>\n",
       "      <th>additive_terms_upper</th>\n",
       "      <th>yearly</th>\n",
       "      <th>yearly_lower</th>\n",
       "      <th>yearly_upper</th>\n",
       "      <th>multiplicative_terms</th>\n",
       "      <th>multiplicative_terms_lower</th>\n",
       "      <th>multiplicative_terms_upper</th>\n",
       "      <th>yhat</th>\n",
       "    </tr>\n",
       "  </thead>\n",
       "  <tbody>\n",
       "    <tr>\n",
       "      <th>0</th>\n",
       "      <td>2010-01-01</td>\n",
       "      <td>-5.452273e+11</td>\n",
       "      <td>-6.771525e+12</td>\n",
       "      <td>3.770923e+12</td>\n",
       "      <td>-5.452273e+11</td>\n",
       "      <td>-5.452273e+11</td>\n",
       "      <td>-7.488877e+11</td>\n",
       "      <td>-7.488877e+11</td>\n",
       "      <td>-7.488877e+11</td>\n",
       "      <td>-7.488877e+11</td>\n",
       "      <td>-7.488877e+11</td>\n",
       "      <td>-7.488877e+11</td>\n",
       "      <td>0.0</td>\n",
       "      <td>0.0</td>\n",
       "      <td>0.0</td>\n",
       "      <td>-1.294115e+12</td>\n",
       "    </tr>\n",
       "    <tr>\n",
       "      <th>1</th>\n",
       "      <td>2011-01-01</td>\n",
       "      <td>-2.681472e+11</td>\n",
       "      <td>-4.770190e+12</td>\n",
       "      <td>6.125141e+12</td>\n",
       "      <td>-2.681472e+11</td>\n",
       "      <td>-2.681472e+11</td>\n",
       "      <td>9.610687e+11</td>\n",
       "      <td>9.610687e+11</td>\n",
       "      <td>9.610687e+11</td>\n",
       "      <td>9.610687e+11</td>\n",
       "      <td>9.610687e+11</td>\n",
       "      <td>9.610687e+11</td>\n",
       "      <td>0.0</td>\n",
       "      <td>0.0</td>\n",
       "      <td>0.0</td>\n",
       "      <td>6.929214e+11</td>\n",
       "    </tr>\n",
       "    <tr>\n",
       "      <th>2</th>\n",
       "      <td>2012-01-01</td>\n",
       "      <td>8.932811e+09</td>\n",
       "      <td>-2.590889e+12</td>\n",
       "      <td>8.247796e+12</td>\n",
       "      <td>8.932811e+09</td>\n",
       "      <td>8.932811e+09</td>\n",
       "      <td>2.658848e+12</td>\n",
       "      <td>2.658848e+12</td>\n",
       "      <td>2.658848e+12</td>\n",
       "      <td>2.658848e+12</td>\n",
       "      <td>2.658848e+12</td>\n",
       "      <td>2.658848e+12</td>\n",
       "      <td>0.0</td>\n",
       "      <td>0.0</td>\n",
       "      <td>0.0</td>\n",
       "      <td>2.667781e+12</td>\n",
       "    </tr>\n",
       "    <tr>\n",
       "      <th>3</th>\n",
       "      <td>2013-01-01</td>\n",
       "      <td>2.867720e+11</td>\n",
       "      <td>-7.026839e+12</td>\n",
       "      <td>2.856164e+12</td>\n",
       "      <td>2.867720e+11</td>\n",
       "      <td>2.867720e+11</td>\n",
       "      <td>-2.468942e+12</td>\n",
       "      <td>-2.468942e+12</td>\n",
       "      <td>-2.468942e+12</td>\n",
       "      <td>-2.468942e+12</td>\n",
       "      <td>-2.468942e+12</td>\n",
       "      <td>-2.468942e+12</td>\n",
       "      <td>0.0</td>\n",
       "      <td>0.0</td>\n",
       "      <td>0.0</td>\n",
       "      <td>-2.182170e+12</td>\n",
       "    </tr>\n",
       "    <tr>\n",
       "      <th>4</th>\n",
       "      <td>2014-01-01</td>\n",
       "      <td>5.638520e+11</td>\n",
       "      <td>-4.968456e+12</td>\n",
       "      <td>4.740593e+12</td>\n",
       "      <td>5.638520e+11</td>\n",
       "      <td>5.638520e+11</td>\n",
       "      <td>-7.488877e+11</td>\n",
       "      <td>-7.488877e+11</td>\n",
       "      <td>-7.488877e+11</td>\n",
       "      <td>-7.488877e+11</td>\n",
       "      <td>-7.488877e+11</td>\n",
       "      <td>-7.488877e+11</td>\n",
       "      <td>0.0</td>\n",
       "      <td>0.0</td>\n",
       "      <td>0.0</td>\n",
       "      <td>-1.850357e+11</td>\n",
       "    </tr>\n",
       "  </tbody>\n",
       "</table>\n",
       "</div>"
      ],
      "text/plain": [
       "          ds         trend    yhat_lower    yhat_upper   trend_lower  \\\n",
       "0 2010-01-01 -5.452273e+11 -6.771525e+12  3.770923e+12 -5.452273e+11   \n",
       "1 2011-01-01 -2.681472e+11 -4.770190e+12  6.125141e+12 -2.681472e+11   \n",
       "2 2012-01-01  8.932811e+09 -2.590889e+12  8.247796e+12  8.932811e+09   \n",
       "3 2013-01-01  2.867720e+11 -7.026839e+12  2.856164e+12  2.867720e+11   \n",
       "4 2014-01-01  5.638520e+11 -4.968456e+12  4.740593e+12  5.638520e+11   \n",
       "\n",
       "    trend_upper  additive_terms  additive_terms_lower  additive_terms_upper  \\\n",
       "0 -5.452273e+11   -7.488877e+11         -7.488877e+11         -7.488877e+11   \n",
       "1 -2.681472e+11    9.610687e+11          9.610687e+11          9.610687e+11   \n",
       "2  8.932811e+09    2.658848e+12          2.658848e+12          2.658848e+12   \n",
       "3  2.867720e+11   -2.468942e+12         -2.468942e+12         -2.468942e+12   \n",
       "4  5.638520e+11   -7.488877e+11         -7.488877e+11         -7.488877e+11   \n",
       "\n",
       "         yearly  yearly_lower  yearly_upper  multiplicative_terms  \\\n",
       "0 -7.488877e+11 -7.488877e+11 -7.488877e+11                   0.0   \n",
       "1  9.610687e+11  9.610687e+11  9.610687e+11                   0.0   \n",
       "2  2.658848e+12  2.658848e+12  2.658848e+12                   0.0   \n",
       "3 -2.468942e+12 -2.468942e+12 -2.468942e+12                   0.0   \n",
       "4 -7.488877e+11 -7.488877e+11 -7.488877e+11                   0.0   \n",
       "\n",
       "   multiplicative_terms_lower  multiplicative_terms_upper          yhat  \n",
       "0                         0.0                         0.0 -1.294115e+12  \n",
       "1                         0.0                         0.0  6.929214e+11  \n",
       "2                         0.0                         0.0  2.667781e+12  \n",
       "3                         0.0                         0.0 -2.182170e+12  \n",
       "4                         0.0                         0.0 -1.850357e+11  "
      ]
     },
     "execution_count": 48,
     "metadata": {},
     "output_type": "execute_result"
    }
   ],
   "source": [
    "forecast.head()"
   ]
  },
  {
   "cell_type": "code",
   "execution_count": 49,
   "metadata": {},
   "outputs": [
    {
     "data": {
      "image/png": "[encoded data removed]",
      "text/plain": [
       "<Figure size 720x432 with 1 Axes>"
      ]
     },
     "metadata": {},
     "output_type": "display_data"
    }
   ],
   "source": [
    "fig1 = m.plot(forecast)"
   ]
  },
  {
   "cell_type": "code",
   "execution_count": 50,
   "metadata": {},
   "outputs": [
    {
     "data": {
      "image/png": "[encoded data removed]",
      "text/plain": [
       "<Figure size 648x432 with 2 Axes>"
      ]
     },
     "metadata": {},
     "output_type": "display_data"
    }
   ],
   "source": [
    "fig2 = m.plot_components(forecast)"
   ]
  },
  {
   "cell_type": "code",
   "execution_count": 51,
   "metadata": {},
   "outputs": [],
   "source": [
    "from prophet.diagnostics import cross_validation"
   ]
  },
  {
   "cell_type": "code",
   "execution_count": 52,
   "metadata": {},
   "outputs": [
    {
     "name": "stderr",
     "output_type": "stream",
     "text": [
      "Seasonality has period of 365.25 days which is larger than initial window. Consider increasing initial.\n"
     ]
    },
    {
     "data": {
      "application/vnd.jupyter.widget-view+json": {
       "model_id": "a7a4654ecdad41e680a332f23156ef17",
       "version_major": 2,
       "version_minor": 0
      },
      "text/plain": [
       "  0%|          | 0/6 [00:00<?, ?it/s]"
      ]
     },
     "metadata": {},
     "output_type": "display_data"
    },
    {
     "name": "stderr",
     "output_type": "stream",
     "text": [
      "04:57:46 - cmdstanpy - INFO - Chain [1] start processing\n",
      "04:57:46 - cmdstanpy - INFO - Chain [1] done processing\n",
      "04:57:48 - cmdstanpy - INFO - Chain [1] start processing\n",
      "04:57:48 - cmdstanpy - INFO - Chain [1] done processing\n",
      "04:57:49 - cmdstanpy - INFO - Chain [1] start processing\n",
      "04:57:50 - cmdstanpy - INFO - Chain [1] done processing\n",
      "04:57:51 - cmdstanpy - INFO - Chain [1] start processing\n",
      "04:57:51 - cmdstanpy - INFO - Chain [1] done processing\n",
      "04:57:53 - cmdstanpy - INFO - Chain [1] start processing\n",
      "04:57:53 - cmdstanpy - INFO - Chain [1] done processing\n",
      "04:57:55 - cmdstanpy - INFO - Chain [1] start processing\n",
      "04:57:55 - cmdstanpy - INFO - Chain [1] done processing\n"
     ]
    }
   ],
   "source": [
    "cv = cross_validation(m, initial= '365 days', period='730 days', horizon='365 days')"
   ]
  },
  {
   "cell_type": "code",
   "execution_count": 90,
   "metadata": {},
   "outputs": [
    {
     "data": {
      "text/html": [
       "<div>\n",
       "<style scoped>\n",
       "    .dataframe tbody tr th:only-of-type {\n",
       "        vertical-align: middle;\n",
       "    }\n",
       "\n",
       "    .dataframe tbody tr th {\n",
       "        vertical-align: top;\n",
       "    }\n",
       "\n",
       "    .dataframe thead th {\n",
       "        text-align: right;\n",
       "    }\n",
       "</style>\n",
       "<table border=\"1\" class=\"dataframe\">\n",
       "  <thead>\n",
       "    <tr style=\"text-align: right;\">\n",
       "      <th></th>\n",
       "      <th>ds</th>\n",
       "      <th>yhat</th>\n",
       "      <th>yhat_lower</th>\n",
       "      <th>yhat_upper</th>\n",
       "      <th>y</th>\n",
       "      <th>cutoff</th>\n",
       "    </tr>\n",
       "  </thead>\n",
       "  <tbody>\n",
       "    <tr>\n",
       "      <th>0</th>\n",
       "      <td>2012-01-01</td>\n",
       "      <td>7.399360e+12</td>\n",
       "      <td>7.399360e+12</td>\n",
       "      <td>7.399360e+12</td>\n",
       "      <td>-3.078991e+12</td>\n",
       "      <td>2011-01-04</td>\n",
       "    </tr>\n",
       "    <tr>\n",
       "      <th>1</th>\n",
       "      <td>2014-01-01</td>\n",
       "      <td>-1.203123e+12</td>\n",
       "      <td>-3.627029e+12</td>\n",
       "      <td>1.288990e+12</td>\n",
       "      <td>6.380703e+10</td>\n",
       "      <td>2013-01-03</td>\n",
       "    </tr>\n",
       "    <tr>\n",
       "      <th>2</th>\n",
       "      <td>2016-01-01</td>\n",
       "      <td>-1.540824e+12</td>\n",
       "      <td>-3.401657e+12</td>\n",
       "      <td>7.905723e+11</td>\n",
       "      <td>1.009980e+12</td>\n",
       "      <td>2015-01-03</td>\n",
       "    </tr>\n",
       "    <tr>\n",
       "      <th>3</th>\n",
       "      <td>2018-01-01</td>\n",
       "      <td>1.276769e+12</td>\n",
       "      <td>-9.116734e+11</td>\n",
       "      <td>3.312303e+12</td>\n",
       "      <td>2.142922e+11</td>\n",
       "      <td>2017-01-02</td>\n",
       "    </tr>\n",
       "    <tr>\n",
       "      <th>4</th>\n",
       "      <td>2020-01-01</td>\n",
       "      <td>9.768750e+10</td>\n",
       "      <td>-1.824357e+12</td>\n",
       "      <td>2.029004e+12</td>\n",
       "      <td>1.284583e+13</td>\n",
       "      <td>2019-01-02</td>\n",
       "    </tr>\n",
       "    <tr>\n",
       "      <th>5</th>\n",
       "      <td>2022-01-01</td>\n",
       "      <td>7.227907e+11</td>\n",
       "      <td>-4.759632e+12</td>\n",
       "      <td>6.139990e+12</td>\n",
       "      <td>5.484574e+12</td>\n",
       "      <td>2021-01-01</td>\n",
       "    </tr>\n",
       "  </tbody>\n",
       "</table>\n",
       "</div>"
      ],
      "text/plain": [
       "          ds          yhat    yhat_lower    yhat_upper             y  \\\n",
       "0 2012-01-01  7.399360e+12  7.399360e+12  7.399360e+12 -3.078991e+12   \n",
       "1 2014-01-01 -1.203123e+12 -3.627029e+12  1.288990e+12  6.380703e+10   \n",
       "2 2016-01-01 -1.540824e+12 -3.401657e+12  7.905723e+11  1.009980e+12   \n",
       "3 2018-01-01  1.276769e+12 -9.116734e+11  3.312303e+12  2.142922e+11   \n",
       "4 2020-01-01  9.768750e+10 -1.824357e+12  2.029004e+12  1.284583e+13   \n",
       "5 2022-01-01  7.227907e+11 -4.759632e+12  6.139990e+12  5.484574e+12   \n",
       "\n",
       "      cutoff  \n",
       "0 2011-01-04  \n",
       "1 2013-01-03  \n",
       "2 2015-01-03  \n",
       "3 2017-01-02  \n",
       "4 2019-01-02  \n",
       "5 2021-01-01  "
      ]
     },
     "execution_count": 90,
     "metadata": {},
     "output_type": "execute_result"
    }
   ],
   "source": [
    "cv.head(14)"
   ]
  },
  {
   "cell_type": "code",
   "execution_count": 91,
   "metadata": {},
   "outputs": [],
   "source": [
    "from prophet.diagnostics import performance_metrics"
   ]
  },
  {
   "cell_type": "code",
   "execution_count": 93,
   "metadata": {},
   "outputs": [
    {
     "data": {
      "text/html": [
       "<div>\n",
       "<style scoped>\n",
       "    .dataframe tbody tr th:only-of-type {\n",
       "        vertical-align: middle;\n",
       "    }\n",
       "\n",
       "    .dataframe tbody tr th {\n",
       "        vertical-align: top;\n",
       "    }\n",
       "\n",
       "    .dataframe thead th {\n",
       "        text-align: right;\n",
       "    }\n",
       "</style>\n",
       "<table border=\"1\" class=\"dataframe\">\n",
       "  <thead>\n",
       "    <tr style=\"text-align: right;\">\n",
       "      <th></th>\n",
       "      <th>horizon</th>\n",
       "      <th>mse</th>\n",
       "      <th>rmse</th>\n",
       "      <th>mae</th>\n",
       "      <th>mape</th>\n",
       "      <th>mdape</th>\n",
       "      <th>smape</th>\n",
       "      <th>coverage</th>\n",
       "    </tr>\n",
       "  </thead>\n",
       "  <tbody>\n",
       "    <tr>\n",
       "      <th>0</th>\n",
       "      <td>362 days</td>\n",
       "      <td>1.097958e+26</td>\n",
       "      <td>1.047835e+13</td>\n",
       "      <td>1.047835e+13</td>\n",
       "      <td>3.403177</td>\n",
       "      <td>3.403177</td>\n",
       "      <td>2.000000</td>\n",
       "      <td>0.0</td>\n",
       "    </tr>\n",
       "    <tr>\n",
       "      <th>1</th>\n",
       "      <td>363 days</td>\n",
       "      <td>4.055855e+24</td>\n",
       "      <td>2.013915e+12</td>\n",
       "      <td>1.908867e+12</td>\n",
       "      <td>11.190626</td>\n",
       "      <td>11.190626</td>\n",
       "      <td>2.000000</td>\n",
       "      <td>0.5</td>\n",
       "    </tr>\n",
       "    <tr>\n",
       "      <th>2</th>\n",
       "      <td>364 days</td>\n",
       "      <td>8.182204e+25</td>\n",
       "      <td>9.045553e+12</td>\n",
       "      <td>6.905311e+12</td>\n",
       "      <td>2.975236</td>\n",
       "      <td>2.975236</td>\n",
       "      <td>1.697470</td>\n",
       "      <td>0.5</td>\n",
       "    </tr>\n",
       "    <tr>\n",
       "      <th>3</th>\n",
       "      <td>365 days</td>\n",
       "      <td>2.267458e+25</td>\n",
       "      <td>4.761783e+12</td>\n",
       "      <td>4.761783e+12</td>\n",
       "      <td>0.868214</td>\n",
       "      <td>0.868214</td>\n",
       "      <td>1.534237</td>\n",
       "      <td>1.0</td>\n",
       "    </tr>\n",
       "  </tbody>\n",
       "</table>\n",
       "</div>"
      ],
      "text/plain": [
       "   horizon           mse          rmse           mae       mape      mdape  \\\n",
       "0 362 days  1.097958e+26  1.047835e+13  1.047835e+13   3.403177   3.403177   \n",
       "1 363 days  4.055855e+24  2.013915e+12  1.908867e+12  11.190626  11.190626   \n",
       "2 364 days  8.182204e+25  9.045553e+12  6.905311e+12   2.975236   2.975236   \n",
       "3 365 days  2.267458e+25  4.761783e+12  4.761783e+12   0.868214   0.868214   \n",
       "\n",
       "      smape  coverage  \n",
       "0  2.000000       0.0  \n",
       "1  2.000000       0.5  \n",
       "2  1.697470       0.5  \n",
       "3  1.534237       1.0  "
      ]
     },
     "execution_count": 93,
     "metadata": {},
     "output_type": "execute_result"
    }
   ],
   "source": [
    "df_pm = performance_metrics(cv)\n",
    "df_pm"
   ]
  },
  {
   "cell_type": "code",
   "execution_count": 94,
   "metadata": {},
   "outputs": [],
   "source": [
    "from prophet.plot import plot_cross_validation_metric"
   ]
  },
  {
   "cell_type": "code",
   "execution_count": 96,
   "metadata": {},
   "outputs": [
    {
     "data": {
      "image/png": "[encoded data removed]",
      "text/plain": [
       "<Figure size 720x432 with 1 Axes>"
      ]
     },
     "execution_count": 96,
     "metadata": {},
     "output_type": "execute_result"
    },
    {
     "data": {
      "image/png": "[encoded data removed]",
      "text/plain": [
       "<Figure size 720x432 with 1 Axes>"
      ]
     },
     "metadata": {},
     "output_type": "display_data"
    }
   ],
   "source": [
    "plot_cross_validation_metric(cv , metric='rmse')"
   ]
  },
  {
   "cell_type": "code",
   "execution_count": 53,
   "metadata": {},
   "outputs": [
    {
     "data": {
      "text/html": [
       "<div>\n",
       "<style scoped>\n",
       "    .dataframe tbody tr th:only-of-type {\n",
       "        vertical-align: middle;\n",
       "    }\n",
       "\n",
       "    .dataframe tbody tr th {\n",
       "        vertical-align: top;\n",
       "    }\n",
       "\n",
       "    .dataframe thead th {\n",
       "        text-align: right;\n",
       "    }\n",
       "</style>\n",
       "<table border=\"1\" class=\"dataframe\">\n",
       "  <thead>\n",
       "    <tr style=\"text-align: right;\">\n",
       "      <th></th>\n",
       "      <th>ds</th>\n",
       "      <th>y</th>\n",
       "    </tr>\n",
       "  </thead>\n",
       "  <tbody>\n",
       "    <tr>\n",
       "      <th>6</th>\n",
       "      <td>2016-01-01</td>\n",
       "      <td>1.009980e+12</td>\n",
       "    </tr>\n",
       "    <tr>\n",
       "      <th>7</th>\n",
       "      <td>2017-01-01</td>\n",
       "      <td>2.267590e+12</td>\n",
       "    </tr>\n",
       "    <tr>\n",
       "      <th>8</th>\n",
       "      <td>2018-01-01</td>\n",
       "      <td>2.142922e+11</td>\n",
       "    </tr>\n",
       "    <tr>\n",
       "      <th>9</th>\n",
       "      <td>2019-01-01</td>\n",
       "      <td>5.966806e+11</td>\n",
       "    </tr>\n",
       "    <tr>\n",
       "      <th>10</th>\n",
       "      <td>2020-01-01</td>\n",
       "      <td>1.284583e+13</td>\n",
       "    </tr>\n",
       "  </tbody>\n",
       "</table>\n",
       "</div>"
      ],
      "text/plain": [
       "           ds             y\n",
       "6  2016-01-01  1.009980e+12\n",
       "7  2017-01-01  2.267590e+12\n",
       "8  2018-01-01  2.142922e+11\n",
       "9  2019-01-01  5.966806e+11\n",
       "10 2020-01-01  1.284583e+13"
      ]
     },
     "execution_count": 53,
     "metadata": {},
     "output_type": "execute_result"
    }
   ],
   "source": [
    "model = Prophet()\n",
    "\n",
    "df_.drop(df_.tail(2).index,inplace=True) \n",
    "df_.tail()"
   ]
  },
  {
   "cell_type": "code",
   "execution_count": 54,
   "metadata": {},
   "outputs": [
    {
     "data": {
      "text/html": [
       "<div>\n",
       "<style scoped>\n",
       "    .dataframe tbody tr th:only-of-type {\n",
       "        vertical-align: middle;\n",
       "    }\n",
       "\n",
       "    .dataframe tbody tr th {\n",
       "        vertical-align: top;\n",
       "    }\n",
       "\n",
       "    .dataframe thead th {\n",
       "        text-align: right;\n",
       "    }\n",
       "</style>\n",
       "<table border=\"1\" class=\"dataframe\">\n",
       "  <thead>\n",
       "    <tr style=\"text-align: right;\">\n",
       "      <th></th>\n",
       "      <th>ds</th>\n",
       "      <th>y</th>\n",
       "    </tr>\n",
       "  </thead>\n",
       "  <tbody>\n",
       "    <tr>\n",
       "      <th>0</th>\n",
       "      <td>2010-01-01</td>\n",
       "      <td>0.000000e+00</td>\n",
       "    </tr>\n",
       "    <tr>\n",
       "      <th>1</th>\n",
       "      <td>2011-01-01</td>\n",
       "      <td>3.697484e+12</td>\n",
       "    </tr>\n",
       "    <tr>\n",
       "      <th>2</th>\n",
       "      <td>2012-01-01</td>\n",
       "      <td>-3.078991e+12</td>\n",
       "    </tr>\n",
       "    <tr>\n",
       "      <th>3</th>\n",
       "      <td>2013-01-01</td>\n",
       "      <td>2.810174e+11</td>\n",
       "    </tr>\n",
       "    <tr>\n",
       "      <th>4</th>\n",
       "      <td>2014-01-01</td>\n",
       "      <td>6.380703e+10</td>\n",
       "    </tr>\n",
       "  </tbody>\n",
       "</table>\n",
       "</div>"
      ],
      "text/plain": [
       "          ds             y\n",
       "0 2010-01-01  0.000000e+00\n",
       "1 2011-01-01  3.697484e+12\n",
       "2 2012-01-01 -3.078991e+12\n",
       "3 2013-01-01  2.810174e+11\n",
       "4 2014-01-01  6.380703e+10"
      ]
     },
     "execution_count": 54,
     "metadata": {},
     "output_type": "execute_result"
    }
   ],
   "source": [
    "df_.head()"
   ]
  },
  {
   "cell_type": "code",
   "execution_count": 55,
   "metadata": {},
   "outputs": [
    {
     "name": "stderr",
     "output_type": "stream",
     "text": [
      "04:57:57 - cmdstanpy - INFO - Chain [1] start processing\n",
      "04:57:57 - cmdstanpy - INFO - Chain [1] done processing\n"
     ]
    },
    {
     "data": {
      "text/html": [
       "<div>\n",
       "<style scoped>\n",
       "    .dataframe tbody tr th:only-of-type {\n",
       "        vertical-align: middle;\n",
       "    }\n",
       "\n",
       "    .dataframe tbody tr th {\n",
       "        vertical-align: top;\n",
       "    }\n",
       "\n",
       "    .dataframe thead th {\n",
       "        text-align: right;\n",
       "    }\n",
       "</style>\n",
       "<table border=\"1\" class=\"dataframe\">\n",
       "  <thead>\n",
       "    <tr style=\"text-align: right;\">\n",
       "      <th></th>\n",
       "      <th>ds</th>\n",
       "    </tr>\n",
       "  </thead>\n",
       "  <tbody>\n",
       "    <tr>\n",
       "      <th>9</th>\n",
       "      <td>2019-01-01</td>\n",
       "    </tr>\n",
       "    <tr>\n",
       "      <th>10</th>\n",
       "      <td>2020-01-01</td>\n",
       "    </tr>\n",
       "    <tr>\n",
       "      <th>11</th>\n",
       "      <td>2020-12-31</td>\n",
       "    </tr>\n",
       "    <tr>\n",
       "      <th>12</th>\n",
       "      <td>2021-12-31</td>\n",
       "    </tr>\n",
       "    <tr>\n",
       "      <th>13</th>\n",
       "      <td>2022-12-31</td>\n",
       "    </tr>\n",
       "  </tbody>\n",
       "</table>\n",
       "</div>"
      ],
      "text/plain": [
       "           ds\n",
       "9  2019-01-01\n",
       "10 2020-01-01\n",
       "11 2020-12-31\n",
       "12 2021-12-31\n",
       "13 2022-12-31"
      ]
     },
     "execution_count": 55,
     "metadata": {},
     "output_type": "execute_result"
    }
   ],
   "source": [
    "model.fit(df_)\n",
    "future = model.make_future_dataframe(periods=3, freq=\"Y\")\n",
    "# future.head()\n",
    "future.tail()"
   ]
  },
  {
   "cell_type": "code",
   "execution_count": 56,
   "metadata": {},
   "outputs": [
    {
     "data": {
      "text/html": [
       "<div>\n",
       "<style scoped>\n",
       "    .dataframe tbody tr th:only-of-type {\n",
       "        vertical-align: middle;\n",
       "    }\n",
       "\n",
       "    .dataframe tbody tr th {\n",
       "        vertical-align: top;\n",
       "    }\n",
       "\n",
       "    .dataframe thead th {\n",
       "        text-align: right;\n",
       "    }\n",
       "</style>\n",
       "<table border=\"1\" class=\"dataframe\">\n",
       "  <thead>\n",
       "    <tr style=\"text-align: right;\">\n",
       "      <th></th>\n",
       "      <th>ds</th>\n",
       "      <th>trend</th>\n",
       "      <th>yhat_lower</th>\n",
       "      <th>yhat_upper</th>\n",
       "      <th>trend_lower</th>\n",
       "      <th>trend_upper</th>\n",
       "      <th>additive_terms</th>\n",
       "      <th>additive_terms_lower</th>\n",
       "      <th>additive_terms_upper</th>\n",
       "      <th>yearly</th>\n",
       "      <th>yearly_lower</th>\n",
       "      <th>yearly_upper</th>\n",
       "      <th>multiplicative_terms</th>\n",
       "      <th>multiplicative_terms_lower</th>\n",
       "      <th>multiplicative_terms_upper</th>\n",
       "      <th>yhat</th>\n",
       "    </tr>\n",
       "  </thead>\n",
       "  <tbody>\n",
       "    <tr>\n",
       "      <th>9</th>\n",
       "      <td>2019-01-01</td>\n",
       "      <td>5.858948e+12</td>\n",
       "      <td>1.435486e+11</td>\n",
       "      <td>8.354969e+12</td>\n",
       "      <td>5.858948e+12</td>\n",
       "      <td>5.858948e+12</td>\n",
       "      <td>-1.732314e+12</td>\n",
       "      <td>-1.732314e+12</td>\n",
       "      <td>-1.732314e+12</td>\n",
       "      <td>-1.732314e+12</td>\n",
       "      <td>-1.732314e+12</td>\n",
       "      <td>-1.732314e+12</td>\n",
       "      <td>0.0</td>\n",
       "      <td>0.0</td>\n",
       "      <td>0.0</td>\n",
       "      <td>4.126634e+12</td>\n",
       "    </tr>\n",
       "    <tr>\n",
       "      <th>10</th>\n",
       "      <td>2020-01-01</td>\n",
       "      <td>6.425886e+12</td>\n",
       "      <td>1.046010e+12</td>\n",
       "      <td>9.535325e+12</td>\n",
       "      <td>6.425886e+12</td>\n",
       "      <td>6.425886e+12</td>\n",
       "      <td>-1.043939e+12</td>\n",
       "      <td>-1.043939e+12</td>\n",
       "      <td>-1.043939e+12</td>\n",
       "      <td>-1.043939e+12</td>\n",
       "      <td>-1.043939e+12</td>\n",
       "      <td>-1.043939e+12</td>\n",
       "      <td>0.0</td>\n",
       "      <td>0.0</td>\n",
       "      <td>0.0</td>\n",
       "      <td>5.381948e+12</td>\n",
       "    </tr>\n",
       "    <tr>\n",
       "      <th>11</th>\n",
       "      <td>2020-12-31</td>\n",
       "      <td>6.992825e+12</td>\n",
       "      <td>2.287287e+12</td>\n",
       "      <td>1.074293e+13</td>\n",
       "      <td>6.992825e+12</td>\n",
       "      <td>6.992825e+12</td>\n",
       "      <td>-3.390909e+11</td>\n",
       "      <td>-3.390909e+11</td>\n",
       "      <td>-3.390909e+11</td>\n",
       "      <td>-3.390909e+11</td>\n",
       "      <td>-3.390909e+11</td>\n",
       "      <td>-3.390909e+11</td>\n",
       "      <td>0.0</td>\n",
       "      <td>0.0</td>\n",
       "      <td>0.0</td>\n",
       "      <td>6.653734e+12</td>\n",
       "    </tr>\n",
       "    <tr>\n",
       "      <th>12</th>\n",
       "      <td>2021-12-31</td>\n",
       "      <td>7.559763e+12</td>\n",
       "      <td>3.874391e+12</td>\n",
       "      <td>1.217069e+13</td>\n",
       "      <td>7.559763e+12</td>\n",
       "      <td>7.559763e+12</td>\n",
       "      <td>3.813540e+11</td>\n",
       "      <td>3.813540e+11</td>\n",
       "      <td>3.813540e+11</td>\n",
       "      <td>3.813540e+11</td>\n",
       "      <td>3.813540e+11</td>\n",
       "      <td>3.813540e+11</td>\n",
       "      <td>0.0</td>\n",
       "      <td>0.0</td>\n",
       "      <td>0.0</td>\n",
       "      <td>7.941117e+12</td>\n",
       "    </tr>\n",
       "    <tr>\n",
       "      <th>13</th>\n",
       "      <td>2022-12-31</td>\n",
       "      <td>8.126701e+12</td>\n",
       "      <td>5.137701e+12</td>\n",
       "      <td>1.339510e+13</td>\n",
       "      <td>8.126701e+12</td>\n",
       "      <td>8.126701e+12</td>\n",
       "      <td>1.116494e+12</td>\n",
       "      <td>1.116494e+12</td>\n",
       "      <td>1.116494e+12</td>\n",
       "      <td>1.116494e+12</td>\n",
       "      <td>1.116494e+12</td>\n",
       "      <td>1.116494e+12</td>\n",
       "      <td>0.0</td>\n",
       "      <td>0.0</td>\n",
       "      <td>0.0</td>\n",
       "      <td>9.243195e+12</td>\n",
       "    </tr>\n",
       "  </tbody>\n",
       "</table>\n",
       "</div>"
      ],
      "text/plain": [
       "           ds         trend    yhat_lower    yhat_upper   trend_lower  \\\n",
       "9  2019-01-01  5.858948e+12  1.435486e+11  8.354969e+12  5.858948e+12   \n",
       "10 2020-01-01  6.425886e+12  1.046010e+12  9.535325e+12  6.425886e+12   \n",
       "11 2020-12-31  6.992825e+12  2.287287e+12  1.074293e+13  6.992825e+12   \n",
       "12 2021-12-31  7.559763e+12  3.874391e+12  1.217069e+13  7.559763e+12   \n",
       "13 2022-12-31  8.126701e+12  5.137701e+12  1.339510e+13  8.126701e+12   \n",
       "\n",
       "     trend_upper  additive_terms  additive_terms_lower  additive_terms_upper  \\\n",
       "9   5.858948e+12   -1.732314e+12         -1.732314e+12         -1.732314e+12   \n",
       "10  6.425886e+12   -1.043939e+12         -1.043939e+12         -1.043939e+12   \n",
       "11  6.992825e+12   -3.390909e+11         -3.390909e+11         -3.390909e+11   \n",
       "12  7.559763e+12    3.813540e+11          3.813540e+11          3.813540e+11   \n",
       "13  8.126701e+12    1.116494e+12          1.116494e+12          1.116494e+12   \n",
       "\n",
       "          yearly  yearly_lower  yearly_upper  multiplicative_terms  \\\n",
       "9  -1.732314e+12 -1.732314e+12 -1.732314e+12                   0.0   \n",
       "10 -1.043939e+12 -1.043939e+12 -1.043939e+12                   0.0   \n",
       "11 -3.390909e+11 -3.390909e+11 -3.390909e+11                   0.0   \n",
       "12  3.813540e+11  3.813540e+11  3.813540e+11                   0.0   \n",
       "13  1.116494e+12  1.116494e+12  1.116494e+12                   0.0   \n",
       "\n",
       "    multiplicative_terms_lower  multiplicative_terms_upper          yhat  \n",
       "9                          0.0                         0.0  4.126634e+12  \n",
       "10                         0.0                         0.0  5.381948e+12  \n",
       "11                         0.0                         0.0  6.653734e+12  \n",
       "12                         0.0                         0.0  7.941117e+12  \n",
       "13                         0.0                         0.0  9.243195e+12  "
      ]
     },
     "execution_count": 56,
     "metadata": {},
     "output_type": "execute_result"
    }
   ],
   "source": [
    "forecast = model.predict(future)\n",
    "forecast.tail()"
   ]
  },
  {
   "cell_type": "code",
   "execution_count": 57,
   "metadata": {},
   "outputs": [
    {
     "data": {
      "text/html": [
       "<div>\n",
       "<style scoped>\n",
       "    .dataframe tbody tr th:only-of-type {\n",
       "        vertical-align: middle;\n",
       "    }\n",
       "\n",
       "    .dataframe tbody tr th {\n",
       "        vertical-align: top;\n",
       "    }\n",
       "\n",
       "    .dataframe thead th {\n",
       "        text-align: right;\n",
       "    }\n",
       "</style>\n",
       "<table border=\"1\" class=\"dataframe\">\n",
       "  <thead>\n",
       "    <tr style=\"text-align: right;\">\n",
       "      <th></th>\n",
       "      <th>ds</th>\n",
       "      <th>trend</th>\n",
       "      <th>yhat_lower</th>\n",
       "      <th>yhat_upper</th>\n",
       "      <th>trend_lower</th>\n",
       "      <th>trend_upper</th>\n",
       "      <th>additive_terms</th>\n",
       "      <th>additive_terms_lower</th>\n",
       "      <th>additive_terms_upper</th>\n",
       "      <th>yearly</th>\n",
       "      <th>yearly_lower</th>\n",
       "      <th>yearly_upper</th>\n",
       "      <th>multiplicative_terms</th>\n",
       "      <th>multiplicative_terms_lower</th>\n",
       "      <th>multiplicative_terms_upper</th>\n",
       "      <th>yhat</th>\n",
       "    </tr>\n",
       "  </thead>\n",
       "  <tbody>\n",
       "    <tr>\n",
       "      <th>0</th>\n",
       "      <td>2010-01-01</td>\n",
       "      <td>7.533978e+11</td>\n",
       "      <td>-5.726579e+12</td>\n",
       "      <td>2.567060e+12</td>\n",
       "      <td>7.533978e+11</td>\n",
       "      <td>7.533978e+11</td>\n",
       "      <td>-2.403370e+12</td>\n",
       "      <td>-2.403370e+12</td>\n",
       "      <td>-2.403370e+12</td>\n",
       "      <td>-2.403370e+12</td>\n",
       "      <td>-2.403370e+12</td>\n",
       "      <td>-2.403370e+12</td>\n",
       "      <td>0.0</td>\n",
       "      <td>0.0</td>\n",
       "      <td>0.0</td>\n",
       "      <td>-1.649972e+12</td>\n",
       "    </tr>\n",
       "    <tr>\n",
       "      <th>1</th>\n",
       "      <td>2011-01-01</td>\n",
       "      <td>1.320336e+12</td>\n",
       "      <td>-4.932907e+12</td>\n",
       "      <td>3.527087e+12</td>\n",
       "      <td>1.320336e+12</td>\n",
       "      <td>1.320336e+12</td>\n",
       "      <td>-1.732314e+12</td>\n",
       "      <td>-1.732314e+12</td>\n",
       "      <td>-1.732314e+12</td>\n",
       "      <td>-1.732314e+12</td>\n",
       "      <td>-1.732314e+12</td>\n",
       "      <td>-1.732314e+12</td>\n",
       "      <td>0.0</td>\n",
       "      <td>0.0</td>\n",
       "      <td>0.0</td>\n",
       "      <td>-4.119778e+11</td>\n",
       "    </tr>\n",
       "    <tr>\n",
       "      <th>2</th>\n",
       "      <td>2012-01-01</td>\n",
       "      <td>1.887274e+12</td>\n",
       "      <td>-3.384243e+12</td>\n",
       "      <td>5.079532e+12</td>\n",
       "      <td>1.887274e+12</td>\n",
       "      <td>1.887274e+12</td>\n",
       "      <td>-1.043939e+12</td>\n",
       "      <td>-1.043939e+12</td>\n",
       "      <td>-1.043939e+12</td>\n",
       "      <td>-1.043939e+12</td>\n",
       "      <td>-1.043939e+12</td>\n",
       "      <td>-1.043939e+12</td>\n",
       "      <td>0.0</td>\n",
       "      <td>0.0</td>\n",
       "      <td>0.0</td>\n",
       "      <td>8.433357e+11</td>\n",
       "    </tr>\n",
       "    <tr>\n",
       "      <th>3</th>\n",
       "      <td>2013-01-01</td>\n",
       "      <td>2.455766e+12</td>\n",
       "      <td>-4.887650e+12</td>\n",
       "      <td>3.851705e+12</td>\n",
       "      <td>2.455766e+12</td>\n",
       "      <td>2.455766e+12</td>\n",
       "      <td>-3.056291e+12</td>\n",
       "      <td>-3.056291e+12</td>\n",
       "      <td>-3.056291e+12</td>\n",
       "      <td>-3.056291e+12</td>\n",
       "      <td>-3.056291e+12</td>\n",
       "      <td>-3.056291e+12</td>\n",
       "      <td>0.0</td>\n",
       "      <td>0.0</td>\n",
       "      <td>0.0</td>\n",
       "      <td>-6.005253e+11</td>\n",
       "    </tr>\n",
       "    <tr>\n",
       "      <th>4</th>\n",
       "      <td>2014-01-01</td>\n",
       "      <td>3.022704e+12</td>\n",
       "      <td>-3.430923e+12</td>\n",
       "      <td>4.693971e+12</td>\n",
       "      <td>3.022704e+12</td>\n",
       "      <td>3.022704e+12</td>\n",
       "      <td>-2.403370e+12</td>\n",
       "      <td>-2.403370e+12</td>\n",
       "      <td>-2.403370e+12</td>\n",
       "      <td>-2.403370e+12</td>\n",
       "      <td>-2.403370e+12</td>\n",
       "      <td>-2.403370e+12</td>\n",
       "      <td>0.0</td>\n",
       "      <td>0.0</td>\n",
       "      <td>0.0</td>\n",
       "      <td>6.193337e+11</td>\n",
       "    </tr>\n",
       "  </tbody>\n",
       "</table>\n",
       "</div>"
      ],
      "text/plain": [
       "          ds         trend    yhat_lower    yhat_upper   trend_lower  \\\n",
       "0 2010-01-01  7.533978e+11 -5.726579e+12  2.567060e+12  7.533978e+11   \n",
       "1 2011-01-01  1.320336e+12 -4.932907e+12  3.527087e+12  1.320336e+12   \n",
       "2 2012-01-01  1.887274e+12 -3.384243e+12  5.079532e+12  1.887274e+12   \n",
       "3 2013-01-01  2.455766e+12 -4.887650e+12  3.851705e+12  2.455766e+12   \n",
       "4 2014-01-01  3.022704e+12 -3.430923e+12  4.693971e+12  3.022704e+12   \n",
       "\n",
       "    trend_upper  additive_terms  additive_terms_lower  additive_terms_upper  \\\n",
       "0  7.533978e+11   -2.403370e+12         -2.403370e+12         -2.403370e+12   \n",
       "1  1.320336e+12   -1.732314e+12         -1.732314e+12         -1.732314e+12   \n",
       "2  1.887274e+12   -1.043939e+12         -1.043939e+12         -1.043939e+12   \n",
       "3  2.455766e+12   -3.056291e+12         -3.056291e+12         -3.056291e+12   \n",
       "4  3.022704e+12   -2.403370e+12         -2.403370e+12         -2.403370e+12   \n",
       "\n",
       "         yearly  yearly_lower  yearly_upper  multiplicative_terms  \\\n",
       "0 -2.403370e+12 -2.403370e+12 -2.403370e+12                   0.0   \n",
       "1 -1.732314e+12 -1.732314e+12 -1.732314e+12                   0.0   \n",
       "2 -1.043939e+12 -1.043939e+12 -1.043939e+12                   0.0   \n",
       "3 -3.056291e+12 -3.056291e+12 -3.056291e+12                   0.0   \n",
       "4 -2.403370e+12 -2.403370e+12 -2.403370e+12                   0.0   \n",
       "\n",
       "   multiplicative_terms_lower  multiplicative_terms_upper          yhat  \n",
       "0                         0.0                         0.0 -1.649972e+12  \n",
       "1                         0.0                         0.0 -4.119778e+11  \n",
       "2                         0.0                         0.0  8.433357e+11  \n",
       "3                         0.0                         0.0 -6.005253e+11  \n",
       "4                         0.0                         0.0  6.193337e+11  "
      ]
     },
     "execution_count": 57,
     "metadata": {},
     "output_type": "execute_result"
    }
   ],
   "source": [
    "forecast.head()\n"
   ]
  },
  {
   "cell_type": "code",
   "execution_count": 58,
   "metadata": {},
   "outputs": [
    {
     "data": {
      "image/png": "[encoded data removed]",
      "text/plain": [
       "<Figure size 720x432 with 1 Axes>"
      ]
     },
     "metadata": {},
     "output_type": "display_data"
    }
   ],
   "source": [
    "fig1_ = model.plot(forecast)\n"
   ]
  },
  {
   "cell_type": "code",
   "execution_count": 59,
   "metadata": {},
   "outputs": [
    {
     "data": {
      "text/plain": [
       "array(['NON RECURRENT  EXPENDITURE', 'RECURRENT  EXPENDITURE',\n",
       "       'CAPITAL EXPENDITURE', 'RECURRENT (NON-DEBT) EXPENDITURE',\n",
       "       'RECURRENT (NON DEBT) EXPENDITURE',\n",
       "       'RECURRENT(NON DEBT)  EXPENDITURE', 'SUBSIDY RE-INVESTMENT'],\n",
       "      dtype=object)"
      ]
     },
     "execution_count": 59,
     "metadata": {},
     "output_type": "execute_result"
    }
   ],
   "source": [
    "# group by categories . \n",
    "df_main[expenditure_type].unique()"
   ]
  },
  {
   "cell_type": "code",
   "execution_count": 60,
   "metadata": {},
   "outputs": [],
   "source": [
    "df_main.replace({'RECURRENT (NON DEBT) EXPENDITURE':'RECURRENT (NON-DEBT) EXPENDITURE'}, inplace=True)\n",
    "df_main.replace({'RECURRENT(NON DEBT)  EXPENDITURE':'RECURRENT (NON-DEBT) EXPENDITURE'}, inplace=True)"
   ]
  },
  {
   "cell_type": "code",
   "execution_count": 61,
   "metadata": {},
   "outputs": [
    {
     "data": {
      "text/plain": [
       "array(['NON RECURRENT  EXPENDITURE', 'RECURRENT  EXPENDITURE',\n",
       "       'CAPITAL EXPENDITURE', 'RECURRENT (NON-DEBT) EXPENDITURE',\n",
       "       'SUBSIDY RE-INVESTMENT'], dtype=object)"
      ]
     },
     "execution_count": 61,
     "metadata": {},
     "output_type": "execute_result"
    }
   ],
   "source": [
    "df_main[expenditure_type].unique()"
   ]
  },
  {
   "cell_type": "code",
   "execution_count": 62,
   "metadata": {},
   "outputs": [
    {
     "data": {
      "text/html": [
       "<div>\n",
       "<style scoped>\n",
       "    .dataframe tbody tr th:only-of-type {\n",
       "        vertical-align: middle;\n",
       "    }\n",
       "\n",
       "    .dataframe tbody tr th {\n",
       "        vertical-align: top;\n",
       "    }\n",
       "\n",
       "    .dataframe thead th {\n",
       "        text-align: right;\n",
       "    }\n",
       "</style>\n",
       "<table border=\"1\" class=\"dataframe\">\n",
       "  <thead>\n",
       "    <tr style=\"text-align: right;\">\n",
       "      <th></th>\n",
       "      <th>BUDGETYEAR</th>\n",
       "      <th>BUDGET CATEGORY</th>\n",
       "      <th>TYPE OF EXPENDITURE</th>\n",
       "      <th>GOVERNMENT AGENCY</th>\n",
       "      <th>TOTAL BUDGET</th>\n",
       "    </tr>\n",
       "  </thead>\n",
       "  <tbody>\n",
       "    <tr>\n",
       "      <th>0</th>\n",
       "      <td>2010</td>\n",
       "      <td>STATUTORY</td>\n",
       "      <td>NON RECURRENT  EXPENDITURE</td>\n",
       "      <td>NATIONAL JUDICIAL COUNCIL</td>\n",
       "      <td>91000000000.0</td>\n",
       "    </tr>\n",
       "    <tr>\n",
       "      <th>1</th>\n",
       "      <td>2010</td>\n",
       "      <td>STATUTORY</td>\n",
       "      <td>NON RECURRENT  EXPENDITURE</td>\n",
       "      <td>NIGER-DELTA DEVELOPMENT COMMISSION</td>\n",
       "      <td>35624771198.0</td>\n",
       "    </tr>\n",
       "    <tr>\n",
       "      <th>2</th>\n",
       "      <td>2010</td>\n",
       "      <td>STATUTORY</td>\n",
       "      <td>NON RECURRENT  EXPENDITURE</td>\n",
       "      <td>NDDC ARREARS OF SHARE OF EXCESS CRUDE DISTRIBU...</td>\n",
       "      <td>9312986292.0</td>\n",
       "    </tr>\n",
       "    <tr>\n",
       "      <th>3</th>\n",
       "      <td>2010</td>\n",
       "      <td>STATUTORY</td>\n",
       "      <td>NON RECURRENT  EXPENDITURE</td>\n",
       "      <td>UNIVERSAL BASIC EDUCATION</td>\n",
       "      <td>44341401504.0</td>\n",
       "    </tr>\n",
       "    <tr>\n",
       "      <th>4</th>\n",
       "      <td>2010</td>\n",
       "      <td>DEBT SERVICE</td>\n",
       "      <td>NON RECURRENT  EXPENDITURE</td>\n",
       "      <td>DOMESTIC DEBTS</td>\n",
       "      <td>478155330805.0</td>\n",
       "    </tr>\n",
       "  </tbody>\n",
       "</table>\n",
       "</div>"
      ],
      "text/plain": [
       "   BUDGETYEAR BUDGET CATEGORY         TYPE OF EXPENDITURE  \\\n",
       "0        2010       STATUTORY  NON RECURRENT  EXPENDITURE   \n",
       "1        2010       STATUTORY  NON RECURRENT  EXPENDITURE   \n",
       "2        2010       STATUTORY  NON RECURRENT  EXPENDITURE   \n",
       "3        2010       STATUTORY  NON RECURRENT  EXPENDITURE   \n",
       "4        2010    DEBT SERVICE  NON RECURRENT  EXPENDITURE   \n",
       "\n",
       "                                   GOVERNMENT AGENCY    TOTAL BUDGET  \n",
       "0                          NATIONAL JUDICIAL COUNCIL   91000000000.0  \n",
       "1                 NIGER-DELTA DEVELOPMENT COMMISSION   35624771198.0  \n",
       "2  NDDC ARREARS OF SHARE OF EXCESS CRUDE DISTRIBU...    9312986292.0  \n",
       "3                          UNIVERSAL BASIC EDUCATION   44341401504.0  \n",
       "4                                     DOMESTIC DEBTS  478155330805.0  "
      ]
     },
     "execution_count": 62,
     "metadata": {},
     "output_type": "execute_result"
    }
   ],
   "source": [
    "df_main.head()"
   ]
  },
  {
   "cell_type": "code",
   "execution_count": 63,
   "metadata": {},
   "outputs": [
    {
     "data": {
      "text/html": [
       "<div>\n",
       "<style scoped>\n",
       "    .dataframe tbody tr th:only-of-type {\n",
       "        vertical-align: middle;\n",
       "    }\n",
       "\n",
       "    .dataframe tbody tr th {\n",
       "        vertical-align: top;\n",
       "    }\n",
       "\n",
       "    .dataframe thead th {\n",
       "        text-align: right;\n",
       "    }\n",
       "</style>\n",
       "<table border=\"1\" class=\"dataframe\">\n",
       "  <thead>\n",
       "    <tr style=\"text-align: right;\">\n",
       "      <th></th>\n",
       "      <th>BUDGETYEAR</th>\n",
       "      <th>TYPE OF EXPENDITURE</th>\n",
       "      <th>TOTAL BUDGET</th>\n",
       "    </tr>\n",
       "  </thead>\n",
       "  <tbody>\n",
       "    <tr>\n",
       "      <th>0</th>\n",
       "      <td>2010</td>\n",
       "      <td>NON RECURRENT  EXPENDITURE</td>\n",
       "      <td>91000000000.0</td>\n",
       "    </tr>\n",
       "    <tr>\n",
       "      <th>1</th>\n",
       "      <td>2010</td>\n",
       "      <td>NON RECURRENT  EXPENDITURE</td>\n",
       "      <td>35624771198.0</td>\n",
       "    </tr>\n",
       "    <tr>\n",
       "      <th>2</th>\n",
       "      <td>2010</td>\n",
       "      <td>NON RECURRENT  EXPENDITURE</td>\n",
       "      <td>9312986292.0</td>\n",
       "    </tr>\n",
       "    <tr>\n",
       "      <th>3</th>\n",
       "      <td>2010</td>\n",
       "      <td>NON RECURRENT  EXPENDITURE</td>\n",
       "      <td>44341401504.0</td>\n",
       "    </tr>\n",
       "    <tr>\n",
       "      <th>4</th>\n",
       "      <td>2010</td>\n",
       "      <td>NON RECURRENT  EXPENDITURE</td>\n",
       "      <td>478155330805.0</td>\n",
       "    </tr>\n",
       "  </tbody>\n",
       "</table>\n",
       "</div>"
      ],
      "text/plain": [
       "   BUDGETYEAR         TYPE OF EXPENDITURE    TOTAL BUDGET\n",
       "0        2010  NON RECURRENT  EXPENDITURE   91000000000.0\n",
       "1        2010  NON RECURRENT  EXPENDITURE   35624771198.0\n",
       "2        2010  NON RECURRENT  EXPENDITURE    9312986292.0\n",
       "3        2010  NON RECURRENT  EXPENDITURE   44341401504.0\n",
       "4        2010  NON RECURRENT  EXPENDITURE  478155330805.0"
      ]
     },
     "execution_count": 63,
     "metadata": {},
     "output_type": "execute_result"
    }
   ],
   "source": [
    "df_expenditure = df_main[[budget_year, expenditure_type, budget_amount]]\n",
    "df_expenditure.head()"
   ]
  },
  {
   "cell_type": "code",
   "execution_count": 64,
   "metadata": {},
   "outputs": [],
   "source": [
    "df_expenditure = df_expenditure.groupby(budget_year)\n",
    "# split the grouped dataframe into a list of dataframes by their year. \n",
    "all_expenditure_dfs = [df_expenditure.get_group(x) for x in df_expenditure.groups]"
   ]
  },
  {
   "cell_type": "code",
   "execution_count": 65,
   "metadata": {},
   "outputs": [
    {
     "data": {
      "text/html": [
       "<div>\n",
       "<style scoped>\n",
       "    .dataframe tbody tr th:only-of-type {\n",
       "        vertical-align: middle;\n",
       "    }\n",
       "\n",
       "    .dataframe tbody tr th {\n",
       "        vertical-align: top;\n",
       "    }\n",
       "\n",
       "    .dataframe thead th {\n",
       "        text-align: right;\n",
       "    }\n",
       "</style>\n",
       "<table border=\"1\" class=\"dataframe\">\n",
       "  <thead>\n",
       "    <tr style=\"text-align: right;\">\n",
       "      <th></th>\n",
       "      <th>BUDGETYEAR</th>\n",
       "      <th>TYPE OF EXPENDITURE</th>\n",
       "      <th>TOTAL BUDGET</th>\n",
       "    </tr>\n",
       "  </thead>\n",
       "  <tbody>\n",
       "    <tr>\n",
       "      <th>0</th>\n",
       "      <td>2010</td>\n",
       "      <td>NON RECURRENT  EXPENDITURE</td>\n",
       "      <td>91000000000.0</td>\n",
       "    </tr>\n",
       "    <tr>\n",
       "      <th>1</th>\n",
       "      <td>2010</td>\n",
       "      <td>NON RECURRENT  EXPENDITURE</td>\n",
       "      <td>35624771198.0</td>\n",
       "    </tr>\n",
       "    <tr>\n",
       "      <th>2</th>\n",
       "      <td>2010</td>\n",
       "      <td>NON RECURRENT  EXPENDITURE</td>\n",
       "      <td>9312986292.0</td>\n",
       "    </tr>\n",
       "    <tr>\n",
       "      <th>3</th>\n",
       "      <td>2010</td>\n",
       "      <td>NON RECURRENT  EXPENDITURE</td>\n",
       "      <td>44341401504.0</td>\n",
       "    </tr>\n",
       "    <tr>\n",
       "      <th>4</th>\n",
       "      <td>2010</td>\n",
       "      <td>NON RECURRENT  EXPENDITURE</td>\n",
       "      <td>478155330805.0</td>\n",
       "    </tr>\n",
       "  </tbody>\n",
       "</table>\n",
       "</div>"
      ],
      "text/plain": [
       "   BUDGETYEAR         TYPE OF EXPENDITURE    TOTAL BUDGET\n",
       "0        2010  NON RECURRENT  EXPENDITURE   91000000000.0\n",
       "1        2010  NON RECURRENT  EXPENDITURE   35624771198.0\n",
       "2        2010  NON RECURRENT  EXPENDITURE    9312986292.0\n",
       "3        2010  NON RECURRENT  EXPENDITURE   44341401504.0\n",
       "4        2010  NON RECURRENT  EXPENDITURE  478155330805.0"
      ]
     },
     "execution_count": 65,
     "metadata": {},
     "output_type": "execute_result"
    }
   ],
   "source": [
    "all_expenditure_dfs[0].head()"
   ]
  },
  {
   "cell_type": "code",
   "execution_count": 66,
   "metadata": {},
   "outputs": [
    {
     "name": "stderr",
     "output_type": "stream",
     "text": [
      "C:\\Users\\joogu\\AppData\\Local\\Temp\\ipykernel_9680\\1045912956.py:9: FutureWarning: The frame.append method is deprecated and will be removed from pandas in a future version. Use pandas.concat instead.\n",
      "  df_expenditures =  df_expenditures.append(dataframe)\n",
      "C:\\Users\\joogu\\AppData\\Local\\Temp\\ipykernel_9680\\1045912956.py:9: FutureWarning: The frame.append method is deprecated and will be removed from pandas in a future version. Use pandas.concat instead.\n",
      "  df_expenditures =  df_expenditures.append(dataframe)\n",
      "C:\\Users\\joogu\\AppData\\Local\\Temp\\ipykernel_9680\\1045912956.py:9: FutureWarning: The frame.append method is deprecated and will be removed from pandas in a future version. Use pandas.concat instead.\n",
      "  df_expenditures =  df_expenditures.append(dataframe)\n",
      "C:\\Users\\joogu\\AppData\\Local\\Temp\\ipykernel_9680\\1045912956.py:9: FutureWarning: The frame.append method is deprecated and will be removed from pandas in a future version. Use pandas.concat instead.\n",
      "  df_expenditures =  df_expenditures.append(dataframe)\n",
      "C:\\Users\\joogu\\AppData\\Local\\Temp\\ipykernel_9680\\1045912956.py:9: FutureWarning: The frame.append method is deprecated and will be removed from pandas in a future version. Use pandas.concat instead.\n",
      "  df_expenditures =  df_expenditures.append(dataframe)\n",
      "C:\\Users\\joogu\\AppData\\Local\\Temp\\ipykernel_9680\\1045912956.py:9: FutureWarning: The frame.append method is deprecated and will be removed from pandas in a future version. Use pandas.concat instead.\n",
      "  df_expenditures =  df_expenditures.append(dataframe)\n",
      "C:\\Users\\joogu\\AppData\\Local\\Temp\\ipykernel_9680\\1045912956.py:9: FutureWarning: The frame.append method is deprecated and will be removed from pandas in a future version. Use pandas.concat instead.\n",
      "  df_expenditures =  df_expenditures.append(dataframe)\n",
      "C:\\Users\\joogu\\AppData\\Local\\Temp\\ipykernel_9680\\1045912956.py:9: FutureWarning: The frame.append method is deprecated and will be removed from pandas in a future version. Use pandas.concat instead.\n",
      "  df_expenditures =  df_expenditures.append(dataframe)\n",
      "C:\\Users\\joogu\\AppData\\Local\\Temp\\ipykernel_9680\\1045912956.py:9: FutureWarning: The frame.append method is deprecated and will be removed from pandas in a future version. Use pandas.concat instead.\n",
      "  df_expenditures =  df_expenditures.append(dataframe)\n",
      "C:\\Users\\joogu\\AppData\\Local\\Temp\\ipykernel_9680\\1045912956.py:9: FutureWarning: The frame.append method is deprecated and will be removed from pandas in a future version. Use pandas.concat instead.\n",
      "  df_expenditures =  df_expenditures.append(dataframe)\n",
      "C:\\Users\\joogu\\AppData\\Local\\Temp\\ipykernel_9680\\1045912956.py:9: FutureWarning: The frame.append method is deprecated and will be removed from pandas in a future version. Use pandas.concat instead.\n",
      "  df_expenditures =  df_expenditures.append(dataframe)\n",
      "C:\\Users\\joogu\\AppData\\Local\\Temp\\ipykernel_9680\\1045912956.py:9: FutureWarning: The frame.append method is deprecated and will be removed from pandas in a future version. Use pandas.concat instead.\n",
      "  df_expenditures =  df_expenditures.append(dataframe)\n",
      "C:\\Users\\joogu\\AppData\\Local\\Temp\\ipykernel_9680\\1045912956.py:9: FutureWarning: The frame.append method is deprecated and will be removed from pandas in a future version. Use pandas.concat instead.\n",
      "  df_expenditures =  df_expenditures.append(dataframe)\n"
     ]
    }
   ],
   "source": [
    "# use a for loop to acomplish this later \n",
    "new_df_expenditure = []\n",
    "df_expenditures = pd.DataFrame()\n",
    "\n",
    "for dataframe in all_expenditure_dfs:\n",
    "    dataframes_year = dataframe[budget_year].iloc[0]\n",
    "    dataframe = dataframe.groupby(expenditure_type).sum()\n",
    "    dataframe[\"year\"] = dataframes_year\n",
    "    df_expenditures =  df_expenditures.append(dataframe)\n",
    "\n"
   ]
  },
  {
   "cell_type": "code",
   "execution_count": 67,
   "metadata": {},
   "outputs": [
    {
     "data": {
      "text/html": [
       "<div>\n",
       "<style scoped>\n",
       "    .dataframe tbody tr th:only-of-type {\n",
       "        vertical-align: middle;\n",
       "    }\n",
       "\n",
       "    .dataframe tbody tr th {\n",
       "        vertical-align: top;\n",
       "    }\n",
       "\n",
       "    .dataframe thead th {\n",
       "        text-align: right;\n",
       "    }\n",
       "</style>\n",
       "<table border=\"1\" class=\"dataframe\">\n",
       "  <thead>\n",
       "    <tr style=\"text-align: right;\">\n",
       "      <th></th>\n",
       "      <th>BUDGETYEAR</th>\n",
       "      <th>year</th>\n",
       "    </tr>\n",
       "    <tr>\n",
       "      <th>TYPE OF EXPENDITURE</th>\n",
       "      <th></th>\n",
       "      <th></th>\n",
       "    </tr>\n",
       "  </thead>\n",
       "  <tbody>\n",
       "    <tr>\n",
       "      <th>CAPITAL EXPENDITURE</th>\n",
       "      <td>138690</td>\n",
       "      <td>2010</td>\n",
       "    </tr>\n",
       "    <tr>\n",
       "      <th>NON RECURRENT  EXPENDITURE</th>\n",
       "      <td>12060</td>\n",
       "      <td>2010</td>\n",
       "    </tr>\n",
       "    <tr>\n",
       "      <th>RECURRENT  EXPENDITURE</th>\n",
       "      <td>221100</td>\n",
       "      <td>2010</td>\n",
       "    </tr>\n",
       "    <tr>\n",
       "      <th>CAPITAL EXPENDITURE</th>\n",
       "      <td>180990</td>\n",
       "      <td>2011</td>\n",
       "    </tr>\n",
       "    <tr>\n",
       "      <th>NON RECURRENT  EXPENDITURE</th>\n",
       "      <td>10055</td>\n",
       "      <td>2011</td>\n",
       "    </tr>\n",
       "  </tbody>\n",
       "</table>\n",
       "</div>"
      ],
      "text/plain": [
       "                            BUDGETYEAR  year\n",
       "TYPE OF EXPENDITURE                         \n",
       "CAPITAL EXPENDITURE             138690  2010\n",
       "NON RECURRENT  EXPENDITURE       12060  2010\n",
       "RECURRENT  EXPENDITURE          221100  2010\n",
       "CAPITAL EXPENDITURE             180990  2011\n",
       "NON RECURRENT  EXPENDITURE       10055  2011"
      ]
     },
     "execution_count": 67,
     "metadata": {},
     "output_type": "execute_result"
    }
   ],
   "source": [
    "df_expenditures.head()"
   ]
  },
  {
   "cell_type": "code",
   "execution_count": 68,
   "metadata": {},
   "outputs": [
    {
     "data": {
      "text/html": [
       "<div>\n",
       "<style scoped>\n",
       "    .dataframe tbody tr th:only-of-type {\n",
       "        vertical-align: middle;\n",
       "    }\n",
       "\n",
       "    .dataframe tbody tr th {\n",
       "        vertical-align: top;\n",
       "    }\n",
       "\n",
       "    .dataframe thead th {\n",
       "        text-align: right;\n",
       "    }\n",
       "</style>\n",
       "<table border=\"1\" class=\"dataframe\">\n",
       "  <thead>\n",
       "    <tr style=\"text-align: right;\">\n",
       "      <th></th>\n",
       "      <th>BUDGETYEAR</th>\n",
       "      <th>year</th>\n",
       "      <th>TYPE OF EXPENDITURE</th>\n",
       "    </tr>\n",
       "    <tr>\n",
       "      <th>TYPE OF EXPENDITURE</th>\n",
       "      <th></th>\n",
       "      <th></th>\n",
       "      <th></th>\n",
       "    </tr>\n",
       "  </thead>\n",
       "  <tbody>\n",
       "    <tr>\n",
       "      <th>CAPITAL EXPENDITURE</th>\n",
       "      <td>138690</td>\n",
       "      <td>2010</td>\n",
       "      <td>CAPITAL EXPENDITURE</td>\n",
       "    </tr>\n",
       "    <tr>\n",
       "      <th>NON RECURRENT  EXPENDITURE</th>\n",
       "      <td>12060</td>\n",
       "      <td>2010</td>\n",
       "      <td>NON RECURRENT  EXPENDITURE</td>\n",
       "    </tr>\n",
       "    <tr>\n",
       "      <th>RECURRENT  EXPENDITURE</th>\n",
       "      <td>221100</td>\n",
       "      <td>2010</td>\n",
       "      <td>RECURRENT  EXPENDITURE</td>\n",
       "    </tr>\n",
       "    <tr>\n",
       "      <th>CAPITAL EXPENDITURE</th>\n",
       "      <td>180990</td>\n",
       "      <td>2011</td>\n",
       "      <td>CAPITAL EXPENDITURE</td>\n",
       "    </tr>\n",
       "    <tr>\n",
       "      <th>NON RECURRENT  EXPENDITURE</th>\n",
       "      <td>10055</td>\n",
       "      <td>2011</td>\n",
       "      <td>NON RECURRENT  EXPENDITURE</td>\n",
       "    </tr>\n",
       "  </tbody>\n",
       "</table>\n",
       "</div>"
      ],
      "text/plain": [
       "                            BUDGETYEAR  year         TYPE OF EXPENDITURE\n",
       "TYPE OF EXPENDITURE                                                     \n",
       "CAPITAL EXPENDITURE             138690  2010         CAPITAL EXPENDITURE\n",
       "NON RECURRENT  EXPENDITURE       12060  2010  NON RECURRENT  EXPENDITURE\n",
       "RECURRENT  EXPENDITURE          221100  2010      RECURRENT  EXPENDITURE\n",
       "CAPITAL EXPENDITURE             180990  2011         CAPITAL EXPENDITURE\n",
       "NON RECURRENT  EXPENDITURE       10055  2011  NON RECURRENT  EXPENDITURE"
      ]
     },
     "execution_count": 68,
     "metadata": {},
     "output_type": "execute_result"
    }
   ],
   "source": [
    "df_expenditures[expenditure_type] = df_expenditures.index\n",
    "df_expenditures.head()\n",
    "# drop the inxed or make values. "
   ]
  },
  {
   "cell_type": "code",
   "execution_count": 69,
   "metadata": {},
   "outputs": [
    {
     "data": {
      "text/plain": [
       "array(['CAPITAL EXPENDITURE', 'NON RECURRENT  EXPENDITURE',\n",
       "       'RECURRENT  EXPENDITURE', 'RECURRENT (NON-DEBT) EXPENDITURE',\n",
       "       'SUBSIDY RE-INVESTMENT'], dtype=object)"
      ]
     },
     "execution_count": 69,
     "metadata": {},
     "output_type": "execute_result"
    }
   ],
   "source": [
    "df_expenditures[expenditure_type].unique()"
   ]
  },
  {
   "cell_type": "code",
   "execution_count": 70,
   "metadata": {},
   "outputs": [
    {
     "data": {
      "text/plain": [
       "51"
      ]
     },
     "execution_count": 70,
     "metadata": {},
     "output_type": "execute_result"
    }
   ],
   "source": [
    "len(df_expenditures)"
   ]
  },
  {
   "cell_type": "code",
   "execution_count": 71,
   "metadata": {},
   "outputs": [],
   "source": [
    "unique_expenditures = ['CAPITAL EXPENDITURE', 'NON RECURRENT  EXPENDITURE',\n",
    "       'RECURRENT  EXPENDITURE', 'RECURRENT (NON-DEBT) EXPENDITURE',\n",
    "       'SUBSIDY RE-INVESTMENT']       "
   ]
  },
  {
   "cell_type": "code",
   "execution_count": 72,
   "metadata": {},
   "outputs": [
    {
     "name": "stderr",
     "output_type": "stream",
     "text": [
      "C:\\Users\\joogu\\AppData\\Local\\Temp\\ipykernel_9680\\329697344.py:6: SettingWithCopyWarning: \n",
      "A value is trying to be set on a copy of a slice from a DataFrame\n",
      "\n",
      "See the caveats in the documentation: https://pandas.pydata.org/pandas-docs/stable/user_guide/indexing.html#returning-a-view-versus-a-copy\n",
      "  df_expenditure_.rename(columns={\"BUDGETYEAR\": \"Total Budget\"}, inplace=True)\n",
      "C:\\Users\\joogu\\AppData\\Local\\Temp\\ipykernel_9680\\329697344.py:6: SettingWithCopyWarning: \n",
      "A value is trying to be set on a copy of a slice from a DataFrame\n",
      "\n",
      "See the caveats in the documentation: https://pandas.pydata.org/pandas-docs/stable/user_guide/indexing.html#returning-a-view-versus-a-copy\n",
      "  df_expenditure_.rename(columns={\"BUDGETYEAR\": \"Total Budget\"}, inplace=True)\n",
      "C:\\Users\\joogu\\AppData\\Local\\Temp\\ipykernel_9680\\329697344.py:6: SettingWithCopyWarning: \n",
      "A value is trying to be set on a copy of a slice from a DataFrame\n",
      "\n",
      "See the caveats in the documentation: https://pandas.pydata.org/pandas-docs/stable/user_guide/indexing.html#returning-a-view-versus-a-copy\n",
      "  df_expenditure_.rename(columns={\"BUDGETYEAR\": \"Total Budget\"}, inplace=True)\n",
      "C:\\Users\\joogu\\AppData\\Local\\Temp\\ipykernel_9680\\329697344.py:6: SettingWithCopyWarning: \n",
      "A value is trying to be set on a copy of a slice from a DataFrame\n",
      "\n",
      "See the caveats in the documentation: https://pandas.pydata.org/pandas-docs/stable/user_guide/indexing.html#returning-a-view-versus-a-copy\n",
      "  df_expenditure_.rename(columns={\"BUDGETYEAR\": \"Total Budget\"}, inplace=True)\n",
      "C:\\Users\\joogu\\AppData\\Local\\Temp\\ipykernel_9680\\329697344.py:6: SettingWithCopyWarning: \n",
      "A value is trying to be set on a copy of a slice from a DataFrame\n",
      "\n",
      "See the caveats in the documentation: https://pandas.pydata.org/pandas-docs/stable/user_guide/indexing.html#returning-a-view-versus-a-copy\n",
      "  df_expenditure_.rename(columns={\"BUDGETYEAR\": \"Total Budget\"}, inplace=True)\n"
     ]
    }
   ],
   "source": [
    "list_of_unique_expenditures = []\n",
    "for unique_expenditure in unique_expenditures: \n",
    "    # filter by type \n",
    "    df_expenditure_ = df_expenditures[df_expenditures[expenditure_type] == unique_expenditure]\n",
    "    # make a plot \n",
    "    df_expenditure_.rename(columns={\"BUDGETYEAR\": \"Total Budget\"}, inplace=True)\n",
    "    list_of_unique_expenditures.append(df_expenditure_)\n",
    "    # add plot to a list. "
   ]
  },
  {
   "cell_type": "code",
   "execution_count": 73,
   "metadata": {},
   "outputs": [
    {
     "data": {
      "image/png": "[encoded data removed]",
      "text/plain": [
       "<Figure size 432x288 with 1 Axes>"
      ]
     },
     "metadata": {
      "needs_background": "light"
     },
     "output_type": "display_data"
    },
    {
     "data": {
      "image/png": "[encoded data removed]",
      "text/plain": [
       "<Figure size 432x288 with 1 Axes>"
      ]
     },
     "metadata": {
      "needs_background": "light"
     },
     "output_type": "display_data"
    },
    {
     "data": {
      "image/png": "[encoded data removed]",
      "text/plain": [
       "<Figure size 432x288 with 1 Axes>"
      ]
     },
     "metadata": {
      "needs_background": "light"
     },
     "output_type": "display_data"
    },
    {
     "data": {
      "image/png": "[encoded data removed]",
      "text/plain": [
       "<Figure size 432x288 with 1 Axes>"
      ]
     },
     "metadata": {
      "needs_background": "light"
     },
     "output_type": "display_data"
    },
    {
     "data": {
      "image/png": "[encoded data removed]",
      "text/plain": [
       "<Figure size 432x288 with 1 Axes>"
      ]
     },
     "metadata": {
      "needs_background": "light"
     },
     "output_type": "display_data"
    }
   ],
   "source": [
    "# 1. Add header \n",
    "# 2. Add function \n",
    "# 3. Add plots. \n",
    "# 4. Plot all together\n",
    "for df in list_of_unique_expenditures:\n",
    "    header = df.index[0]\n",
    "    axes = df.plot.bar(\"year\", \"Total Budget\", color=\"green\", title=header)\n"
   ]
  },
  {
   "cell_type": "code",
   "execution_count": 74,
   "metadata": {},
   "outputs": [],
   "source": [
    "def get_expenditure_by_year(year, df_expenditures=df_expenditures):\n",
    "    year = float(year)\n",
    "    return df_expenditures[df_expenditures[\"year\"] == year]"
   ]
  },
  {
   "cell_type": "code",
   "execution_count": 75,
   "metadata": {},
   "outputs": [
    {
     "data": {
      "text/html": [
       "<div>\n",
       "<style scoped>\n",
       "    .dataframe tbody tr th:only-of-type {\n",
       "        vertical-align: middle;\n",
       "    }\n",
       "\n",
       "    .dataframe tbody tr th {\n",
       "        vertical-align: top;\n",
       "    }\n",
       "\n",
       "    .dataframe thead th {\n",
       "        text-align: right;\n",
       "    }\n",
       "</style>\n",
       "<table border=\"1\" class=\"dataframe\">\n",
       "  <thead>\n",
       "    <tr style=\"text-align: right;\">\n",
       "      <th></th>\n",
       "      <th>BUDGETYEAR</th>\n",
       "      <th>year</th>\n",
       "      <th>TYPE OF EXPENDITURE</th>\n",
       "    </tr>\n",
       "    <tr>\n",
       "      <th>TYPE OF EXPENDITURE</th>\n",
       "      <th></th>\n",
       "      <th></th>\n",
       "      <th></th>\n",
       "    </tr>\n",
       "  </thead>\n",
       "  <tbody>\n",
       "    <tr>\n",
       "      <th>CAPITAL EXPENDITURE</th>\n",
       "      <td>153672</td>\n",
       "      <td>2022</td>\n",
       "      <td>CAPITAL EXPENDITURE</td>\n",
       "    </tr>\n",
       "    <tr>\n",
       "      <th>NON RECURRENT  EXPENDITURE</th>\n",
       "      <td>38418</td>\n",
       "      <td>2022</td>\n",
       "      <td>NON RECURRENT  EXPENDITURE</td>\n",
       "    </tr>\n",
       "    <tr>\n",
       "      <th>RECURRENT  EXPENDITURE</th>\n",
       "      <td>6066</td>\n",
       "      <td>2022</td>\n",
       "      <td>RECURRENT  EXPENDITURE</td>\n",
       "    </tr>\n",
       "    <tr>\n",
       "      <th>RECURRENT (NON-DEBT) EXPENDITURE</th>\n",
       "      <td>234552</td>\n",
       "      <td>2022</td>\n",
       "      <td>RECURRENT (NON-DEBT) EXPENDITURE</td>\n",
       "    </tr>\n",
       "  </tbody>\n",
       "</table>\n",
       "</div>"
      ],
      "text/plain": [
       "                                  BUDGETYEAR  year  \\\n",
       "TYPE OF EXPENDITURE                                  \n",
       "CAPITAL EXPENDITURE                   153672  2022   \n",
       "NON RECURRENT  EXPENDITURE             38418  2022   \n",
       "RECURRENT  EXPENDITURE                  6066  2022   \n",
       "RECURRENT (NON-DEBT) EXPENDITURE      234552  2022   \n",
       "\n",
       "                                               TYPE OF EXPENDITURE  \n",
       "TYPE OF EXPENDITURE                                                 \n",
       "CAPITAL EXPENDITURE                            CAPITAL EXPENDITURE  \n",
       "NON RECURRENT  EXPENDITURE              NON RECURRENT  EXPENDITURE  \n",
       "RECURRENT  EXPENDITURE                      RECURRENT  EXPENDITURE  \n",
       "RECURRENT (NON-DEBT) EXPENDITURE  RECURRENT (NON-DEBT) EXPENDITURE  "
      ]
     },
     "execution_count": 75,
     "metadata": {},
     "output_type": "execute_result"
    }
   ],
   "source": [
    "df_expenditure_2022 = get_expenditure_by_year(2022)\n",
    "df_expenditure_2022"
   ]
  },
  {
   "cell_type": "code",
   "execution_count": 76,
   "metadata": {},
   "outputs": [
    {
     "data": {
      "text/plain": [
       "array(['STATUTORY', 'DEBT SERVICE', 'EXECUTIVE ARM', 'LEGISLATIVE ARM',\n",
       "       'OTHERS', 'STATUTORY TRANSFER', 0], dtype=object)"
      ]
     },
     "execution_count": 76,
     "metadata": {},
     "output_type": "execute_result"
    }
   ],
   "source": [
    "df_main[budget_category].unique()"
   ]
  },
  {
   "cell_type": "code",
   "execution_count": 77,
   "metadata": {},
   "outputs": [],
   "source": [
    "df_budget_categories = df_main[[budget_year, budget_category, budget_amount]]\n",
    "\n",
    "df_budget_categories = df_budget_categories.groupby(budget_year)\n",
    "# split the grouped dataframe into a list of dataframes by their year. \n",
    "all_category_dfs = [df_budget_categories.get_group(x) for x in df_budget_categories.groups]"
   ]
  },
  {
   "cell_type": "code",
   "execution_count": 78,
   "metadata": {},
   "outputs": [
    {
     "name": "stderr",
     "output_type": "stream",
     "text": [
      "C:\\Users\\joogu\\AppData\\Local\\Temp\\ipykernel_9680\\1911603292.py:9: FutureWarning: The frame.append method is deprecated and will be removed from pandas in a future version. Use pandas.concat instead.\n",
      "  df_budget_categories =  df_budget_categories.append(dataframe)\n",
      "C:\\Users\\joogu\\AppData\\Local\\Temp\\ipykernel_9680\\1911603292.py:9: FutureWarning: The frame.append method is deprecated and will be removed from pandas in a future version. Use pandas.concat instead.\n",
      "  df_budget_categories =  df_budget_categories.append(dataframe)\n",
      "C:\\Users\\joogu\\AppData\\Local\\Temp\\ipykernel_9680\\1911603292.py:9: FutureWarning: The frame.append method is deprecated and will be removed from pandas in a future version. Use pandas.concat instead.\n",
      "  df_budget_categories =  df_budget_categories.append(dataframe)\n",
      "C:\\Users\\joogu\\AppData\\Local\\Temp\\ipykernel_9680\\1911603292.py:9: FutureWarning: The frame.append method is deprecated and will be removed from pandas in a future version. Use pandas.concat instead.\n",
      "  df_budget_categories =  df_budget_categories.append(dataframe)\n",
      "C:\\Users\\joogu\\AppData\\Local\\Temp\\ipykernel_9680\\1911603292.py:9: FutureWarning: The frame.append method is deprecated and will be removed from pandas in a future version. Use pandas.concat instead.\n",
      "  df_budget_categories =  df_budget_categories.append(dataframe)\n",
      "C:\\Users\\joogu\\AppData\\Local\\Temp\\ipykernel_9680\\1911603292.py:9: FutureWarning: The frame.append method is deprecated and will be removed from pandas in a future version. Use pandas.concat instead.\n",
      "  df_budget_categories =  df_budget_categories.append(dataframe)\n",
      "C:\\Users\\joogu\\AppData\\Local\\Temp\\ipykernel_9680\\1911603292.py:9: FutureWarning: The frame.append method is deprecated and will be removed from pandas in a future version. Use pandas.concat instead.\n",
      "  df_budget_categories =  df_budget_categories.append(dataframe)\n",
      "C:\\Users\\joogu\\AppData\\Local\\Temp\\ipykernel_9680\\1911603292.py:9: FutureWarning: The frame.append method is deprecated and will be removed from pandas in a future version. Use pandas.concat instead.\n",
      "  df_budget_categories =  df_budget_categories.append(dataframe)\n",
      "C:\\Users\\joogu\\AppData\\Local\\Temp\\ipykernel_9680\\1911603292.py:9: FutureWarning: The frame.append method is deprecated and will be removed from pandas in a future version. Use pandas.concat instead.\n",
      "  df_budget_categories =  df_budget_categories.append(dataframe)\n",
      "C:\\Users\\joogu\\AppData\\Local\\Temp\\ipykernel_9680\\1911603292.py:9: FutureWarning: The frame.append method is deprecated and will be removed from pandas in a future version. Use pandas.concat instead.\n",
      "  df_budget_categories =  df_budget_categories.append(dataframe)\n",
      "C:\\Users\\joogu\\AppData\\Local\\Temp\\ipykernel_9680\\1911603292.py:9: FutureWarning: The frame.append method is deprecated and will be removed from pandas in a future version. Use pandas.concat instead.\n",
      "  df_budget_categories =  df_budget_categories.append(dataframe)\n",
      "C:\\Users\\joogu\\AppData\\Local\\Temp\\ipykernel_9680\\1911603292.py:9: FutureWarning: The frame.append method is deprecated and will be removed from pandas in a future version. Use pandas.concat instead.\n",
      "  df_budget_categories =  df_budget_categories.append(dataframe)\n",
      "C:\\Users\\joogu\\AppData\\Local\\Temp\\ipykernel_9680\\1911603292.py:9: FutureWarning: The frame.append method is deprecated and will be removed from pandas in a future version. Use pandas.concat instead.\n",
      "  df_budget_categories =  df_budget_categories.append(dataframe)\n"
     ]
    }
   ],
   "source": [
    "# use a for loop to acomplish this later \n",
    "new_df_category = []\n",
    "df_budget_categories = pd.DataFrame()\n",
    "\n",
    "for dataframe in all_category_dfs:\n",
    "    dataframes_year = dataframe[budget_year].iloc[0]\n",
    "    dataframe = dataframe.groupby(budget_category).sum()\n",
    "    dataframe[\"year\"] = dataframes_year\n",
    "    df_budget_categories =  df_budget_categories.append(dataframe)"
   ]
  },
  {
   "cell_type": "code",
   "execution_count": 79,
   "metadata": {},
   "outputs": [
    {
     "data": {
      "text/html": [
       "<div>\n",
       "<style scoped>\n",
       "    .dataframe tbody tr th:only-of-type {\n",
       "        vertical-align: middle;\n",
       "    }\n",
       "\n",
       "    .dataframe tbody tr th {\n",
       "        vertical-align: top;\n",
       "    }\n",
       "\n",
       "    .dataframe thead th {\n",
       "        text-align: right;\n",
       "    }\n",
       "</style>\n",
       "<table border=\"1\" class=\"dataframe\">\n",
       "  <thead>\n",
       "    <tr style=\"text-align: right;\">\n",
       "      <th></th>\n",
       "      <th>BUDGETYEAR</th>\n",
       "      <th>year</th>\n",
       "      <th>BUDGET CATEGORY</th>\n",
       "    </tr>\n",
       "    <tr>\n",
       "      <th>BUDGET CATEGORY</th>\n",
       "      <th></th>\n",
       "      <th></th>\n",
       "      <th></th>\n",
       "    </tr>\n",
       "  </thead>\n",
       "  <tbody>\n",
       "    <tr>\n",
       "      <th>DEBT SERVICE</th>\n",
       "      <td>4020</td>\n",
       "      <td>2010</td>\n",
       "      <td>DEBT SERVICE</td>\n",
       "    </tr>\n",
       "    <tr>\n",
       "      <th>EXECUTIVE ARM</th>\n",
       "      <td>188940</td>\n",
       "      <td>2010</td>\n",
       "      <td>EXECUTIVE ARM</td>\n",
       "    </tr>\n",
       "    <tr>\n",
       "      <th>LEGISLATIVE ARM</th>\n",
       "      <td>32160</td>\n",
       "      <td>2010</td>\n",
       "      <td>LEGISLATIVE ARM</td>\n",
       "    </tr>\n",
       "    <tr>\n",
       "      <th>OTHERS</th>\n",
       "      <td>138690</td>\n",
       "      <td>2010</td>\n",
       "      <td>OTHERS</td>\n",
       "    </tr>\n",
       "    <tr>\n",
       "      <th>STATUTORY</th>\n",
       "      <td>8040</td>\n",
       "      <td>2010</td>\n",
       "      <td>STATUTORY</td>\n",
       "    </tr>\n",
       "  </tbody>\n",
       "</table>\n",
       "</div>"
      ],
      "text/plain": [
       "                 BUDGETYEAR  year  BUDGET CATEGORY\n",
       "BUDGET CATEGORY                                   \n",
       "DEBT SERVICE           4020  2010     DEBT SERVICE\n",
       "EXECUTIVE ARM        188940  2010    EXECUTIVE ARM\n",
       "LEGISLATIVE ARM       32160  2010  LEGISLATIVE ARM\n",
       "OTHERS               138690  2010           OTHERS\n",
       "STATUTORY              8040  2010        STATUTORY"
      ]
     },
     "execution_count": 79,
     "metadata": {},
     "output_type": "execute_result"
    }
   ],
   "source": [
    "df_budget_categories[budget_category] = df_budget_categories.index\n",
    "df_budget_categories.head()"
   ]
  },
  {
   "cell_type": "code",
   "execution_count": 80,
   "metadata": {},
   "outputs": [
    {
     "name": "stderr",
     "output_type": "stream",
     "text": [
      "C:\\Users\\joogu\\AppData\\Local\\Temp\\ipykernel_9680\\1646206142.py:7: SettingWithCopyWarning: \n",
      "A value is trying to be set on a copy of a slice from a DataFrame\n",
      "\n",
      "See the caveats in the documentation: https://pandas.pydata.org/pandas-docs/stable/user_guide/indexing.html#returning-a-view-versus-a-copy\n",
      "  df_budget_category_.rename(columns={\"BUDGETYEAR\": \"Total Budget\"}, inplace=True)\n",
      "C:\\Users\\joogu\\AppData\\Local\\Temp\\ipykernel_9680\\1646206142.py:7: SettingWithCopyWarning: \n",
      "A value is trying to be set on a copy of a slice from a DataFrame\n",
      "\n",
      "See the caveats in the documentation: https://pandas.pydata.org/pandas-docs/stable/user_guide/indexing.html#returning-a-view-versus-a-copy\n",
      "  df_budget_category_.rename(columns={\"BUDGETYEAR\": \"Total Budget\"}, inplace=True)\n",
      "C:\\Users\\joogu\\AppData\\Local\\Temp\\ipykernel_9680\\1646206142.py:7: SettingWithCopyWarning: \n",
      "A value is trying to be set on a copy of a slice from a DataFrame\n",
      "\n",
      "See the caveats in the documentation: https://pandas.pydata.org/pandas-docs/stable/user_guide/indexing.html#returning-a-view-versus-a-copy\n",
      "  df_budget_category_.rename(columns={\"BUDGETYEAR\": \"Total Budget\"}, inplace=True)\n",
      "C:\\Users\\joogu\\AppData\\Local\\Temp\\ipykernel_9680\\1646206142.py:7: SettingWithCopyWarning: \n",
      "A value is trying to be set on a copy of a slice from a DataFrame\n",
      "\n",
      "See the caveats in the documentation: https://pandas.pydata.org/pandas-docs/stable/user_guide/indexing.html#returning-a-view-versus-a-copy\n",
      "  df_budget_category_.rename(columns={\"BUDGETYEAR\": \"Total Budget\"}, inplace=True)\n",
      "C:\\Users\\joogu\\AppData\\Local\\Temp\\ipykernel_9680\\1646206142.py:7: SettingWithCopyWarning: \n",
      "A value is trying to be set on a copy of a slice from a DataFrame\n",
      "\n",
      "See the caveats in the documentation: https://pandas.pydata.org/pandas-docs/stable/user_guide/indexing.html#returning-a-view-versus-a-copy\n",
      "  df_budget_category_.rename(columns={\"BUDGETYEAR\": \"Total Budget\"}, inplace=True)\n",
      "C:\\Users\\joogu\\AppData\\Local\\Temp\\ipykernel_9680\\1646206142.py:7: SettingWithCopyWarning: \n",
      "A value is trying to be set on a copy of a slice from a DataFrame\n",
      "\n",
      "See the caveats in the documentation: https://pandas.pydata.org/pandas-docs/stable/user_guide/indexing.html#returning-a-view-versus-a-copy\n",
      "  df_budget_category_.rename(columns={\"BUDGETYEAR\": \"Total Budget\"}, inplace=True)\n",
      "C:\\Users\\joogu\\AppData\\Local\\Temp\\ipykernel_9680\\1646206142.py:7: SettingWithCopyWarning: \n",
      "A value is trying to be set on a copy of a slice from a DataFrame\n",
      "\n",
      "See the caveats in the documentation: https://pandas.pydata.org/pandas-docs/stable/user_guide/indexing.html#returning-a-view-versus-a-copy\n",
      "  df_budget_category_.rename(columns={\"BUDGETYEAR\": \"Total Budget\"}, inplace=True)\n"
     ]
    }
   ],
   "source": [
    "unique_categories = df_budget_categories[budget_category].unique()\n",
    "list_of_unique_categories = []\n",
    "for unique_category in unique_categories: \n",
    "    # filter by type \n",
    "    df_budget_category_ = df_budget_categories[df_budget_categories[budget_category] == unique_category]\n",
    "    # make a plot \n",
    "    df_budget_category_.rename(columns={\"BUDGETYEAR\": \"Total Budget\"}, inplace=True)\n",
    "    list_of_unique_categories.append(df_budget_category_)\n",
    "    # add plot to a list. "
   ]
  },
  {
   "cell_type": "code",
   "execution_count": 81,
   "metadata": {},
   "outputs": [
    {
     "data": {
      "image/png": "[encoded data removed]",
      "text/plain": [
       "<Figure size 432x288 with 1 Axes>"
      ]
     },
     "metadata": {
      "needs_background": "light"
     },
     "output_type": "display_data"
    },
    {
     "data": {
      "image/png": "[encoded data removed]",
      "text/plain": [
       "<Figure size 432x288 with 1 Axes>"
      ]
     },
     "metadata": {
      "needs_background": "light"
     },
     "output_type": "display_data"
    },
    {
     "data": {
      "image/png": "[encoded data removed]",
      "text/plain": [
       "<Figure size 432x288 with 1 Axes>"
      ]
     },
     "metadata": {
      "needs_background": "light"
     },
     "output_type": "display_data"
    },
    {
     "data": {
      "image/png": "[encoded data removed]",
      "text/plain": [
       "<Figure size 432x288 with 1 Axes>"
      ]
     },
     "metadata": {
      "needs_background": "light"
     },
     "output_type": "display_data"
    },
    {
     "data": {
      "image/png": "[encoded data removed]",
      "text/plain": [
       "<Figure size 432x288 with 1 Axes>"
      ]
     },
     "metadata": {
      "needs_background": "light"
     },
     "output_type": "display_data"
    },
    {
     "data": {
      "image/png": "[encoded data removed]",
      "text/plain": [
       "<Figure size 432x288 with 1 Axes>"
      ]
     },
     "metadata": {
      "needs_background": "light"
     },
     "output_type": "display_data"
    },
    {
     "data": {
      "image/png": "[encoded data removed]",
      "text/plain": [
       "<Figure size 432x288 with 1 Axes>"
      ]
     },
     "metadata": {
      "needs_background": "light"
     },
     "output_type": "display_data"
    }
   ],
   "source": [
    "for df in list_of_unique_categories:\n",
    "    header = df.index[0]\n",
    "    axes = df.plot.bar(\"year\", \"Total Budget\", color=\"red\", title=header)"
   ]
  },
  {
   "cell_type": "code",
   "execution_count": 82,
   "metadata": {},
   "outputs": [
    {
     "data": {
      "text/html": [
       "<div>\n",
       "<style scoped>\n",
       "    .dataframe tbody tr th:only-of-type {\n",
       "        vertical-align: middle;\n",
       "    }\n",
       "\n",
       "    .dataframe tbody tr th {\n",
       "        vertical-align: top;\n",
       "    }\n",
       "\n",
       "    .dataframe thead th {\n",
       "        text-align: right;\n",
       "    }\n",
       "</style>\n",
       "<table border=\"1\" class=\"dataframe\">\n",
       "  <thead>\n",
       "    <tr style=\"text-align: right;\">\n",
       "      <th></th>\n",
       "      <th>BUDGETYEAR</th>\n",
       "      <th>BUDGET CATEGORY</th>\n",
       "      <th>TYPE OF EXPENDITURE</th>\n",
       "      <th>GOVERNMENT AGENCY</th>\n",
       "      <th>TOTAL BUDGET</th>\n",
       "    </tr>\n",
       "  </thead>\n",
       "  <tbody>\n",
       "    <tr>\n",
       "      <th>1875</th>\n",
       "      <td>2020</td>\n",
       "      <td>STATUTORY TRANSFER</td>\n",
       "      <td>NON RECURRENT  EXPENDITURE</td>\n",
       "      <td>NATIONAL JUDICIAL COUNCIL</td>\n",
       "      <td>99000000000</td>\n",
       "    </tr>\n",
       "    <tr>\n",
       "      <th>1876</th>\n",
       "      <td>2020</td>\n",
       "      <td>STATUTORY TRANSFER</td>\n",
       "      <td>NON RECURRENT  EXPENDITURE</td>\n",
       "      <td>NIGER-DELTA DEVELOPMENT COMMISSION</td>\n",
       "      <td>44200986326</td>\n",
       "    </tr>\n",
       "    <tr>\n",
       "      <th>1877</th>\n",
       "      <td>2020</td>\n",
       "      <td>STATUTORY TRANSFER</td>\n",
       "      <td>NON RECURRENT  EXPENDITURE</td>\n",
       "      <td>UNIVERSAL BASIC EDUCATION</td>\n",
       "      <td>51120202624</td>\n",
       "    </tr>\n",
       "    <tr>\n",
       "      <th>1878</th>\n",
       "      <td>2020</td>\n",
       "      <td>STATUTORY TRANSFER</td>\n",
       "      <td>NON RECURRENT  EXPENDITURE</td>\n",
       "      <td>NATIONAL ASSEMBLY</td>\n",
       "      <td>115200000000</td>\n",
       "    </tr>\n",
       "    <tr>\n",
       "      <th>1879</th>\n",
       "      <td>2020</td>\n",
       "      <td>STATUTORY TRANSFER</td>\n",
       "      <td>NON RECURRENT  EXPENDITURE</td>\n",
       "      <td>PUBLIC COMPLAINTS COMMISSION</td>\n",
       "      <td>4230000000</td>\n",
       "    </tr>\n",
       "    <tr>\n",
       "      <th>...</th>\n",
       "      <td>...</td>\n",
       "      <td>...</td>\n",
       "      <td>...</td>\n",
       "      <td>...</td>\n",
       "      <td>...</td>\n",
       "    </tr>\n",
       "    <tr>\n",
       "      <th>2271</th>\n",
       "      <td>2020</td>\n",
       "      <td>EXECUTIVE ARM</td>\n",
       "      <td>CAPITAL EXPENDITURE</td>\n",
       "      <td>FGN INTERVENTION IN ZAMFARA/KATSINA/BORNO</td>\n",
       "      <td>1500000000.0</td>\n",
       "    </tr>\n",
       "    <tr>\n",
       "      <th>2272</th>\n",
       "      <td>2020</td>\n",
       "      <td>EXECUTIVE ARM</td>\n",
       "      <td>CAPITAL EXPENDITURE</td>\n",
       "      <td>FALCON EYE PROJECT (OFFICE OF THE NATIONAL SEC...</td>\n",
       "      <td>10000000000.0</td>\n",
       "    </tr>\n",
       "    <tr>\n",
       "      <th>2273</th>\n",
       "      <td>2020</td>\n",
       "      <td>EXECUTIVE ARM</td>\n",
       "      <td>CAPITAL EXPENDITURE</td>\n",
       "      <td>CONSTRUCTION OF NATIONAL ASSEMBLY LIBRARY (NLIDS)</td>\n",
       "      <td>2000000000.0</td>\n",
       "    </tr>\n",
       "    <tr>\n",
       "      <th>2274</th>\n",
       "      <td>2020</td>\n",
       "      <td>EXECUTIVE ARM</td>\n",
       "      <td>CAPITAL EXPENDITURE</td>\n",
       "      <td>DIGITIZATION ARCHIVAL FOR SUPREME COURT PROCEE...</td>\n",
       "      <td>2500000000.0</td>\n",
       "    </tr>\n",
       "    <tr>\n",
       "      <th>2275</th>\n",
       "      <td>2020</td>\n",
       "      <td>EXECUTIVE ARM</td>\n",
       "      <td>CAPITAL EXPENDITURE</td>\n",
       "      <td>COVID-19 CRISIS INTERVENTION FUND - INCREMENTA...</td>\n",
       "      <td>100032119333.0</td>\n",
       "    </tr>\n",
       "  </tbody>\n",
       "</table>\n",
       "<p>399 rows × 5 columns</p>\n",
       "</div>"
      ],
      "text/plain": [
       "      BUDGETYEAR     BUDGET CATEGORY         TYPE OF EXPENDITURE  \\\n",
       "1875        2020  STATUTORY TRANSFER  NON RECURRENT  EXPENDITURE   \n",
       "1876        2020  STATUTORY TRANSFER  NON RECURRENT  EXPENDITURE   \n",
       "1877        2020  STATUTORY TRANSFER  NON RECURRENT  EXPENDITURE   \n",
       "1878        2020  STATUTORY TRANSFER  NON RECURRENT  EXPENDITURE   \n",
       "1879        2020  STATUTORY TRANSFER  NON RECURRENT  EXPENDITURE   \n",
       "...          ...                 ...                         ...   \n",
       "2271        2020       EXECUTIVE ARM         CAPITAL EXPENDITURE   \n",
       "2272        2020       EXECUTIVE ARM         CAPITAL EXPENDITURE   \n",
       "2273        2020       EXECUTIVE ARM         CAPITAL EXPENDITURE   \n",
       "2274        2020       EXECUTIVE ARM         CAPITAL EXPENDITURE   \n",
       "2275        2020       EXECUTIVE ARM         CAPITAL EXPENDITURE   \n",
       "\n",
       "                                      GOVERNMENT AGENCY    TOTAL BUDGET  \n",
       "1875                          NATIONAL JUDICIAL COUNCIL     99000000000  \n",
       "1876                 NIGER-DELTA DEVELOPMENT COMMISSION     44200986326  \n",
       "1877                          UNIVERSAL BASIC EDUCATION     51120202624  \n",
       "1878                                  NATIONAL ASSEMBLY    115200000000  \n",
       "1879                       PUBLIC COMPLAINTS COMMISSION      4230000000  \n",
       "...                                                 ...             ...  \n",
       "2271          FGN INTERVENTION IN ZAMFARA/KATSINA/BORNO    1500000000.0  \n",
       "2272  FALCON EYE PROJECT (OFFICE OF THE NATIONAL SEC...   10000000000.0  \n",
       "2273  CONSTRUCTION OF NATIONAL ASSEMBLY LIBRARY (NLIDS)    2000000000.0  \n",
       "2274  DIGITIZATION ARCHIVAL FOR SUPREME COURT PROCEE...    2500000000.0  \n",
       "2275  COVID-19 CRISIS INTERVENTION FUND - INCREMENTA...  100032119333.0  \n",
       "\n",
       "[399 rows x 5 columns]"
      ]
     },
     "execution_count": 82,
     "metadata": {},
     "output_type": "execute_result"
    }
   ],
   "source": [
    "df_main[df_main[\"BUDGETYEAR\"] == 2020]\n"
   ]
  },
  {
   "cell_type": "code",
   "execution_count": 83,
   "metadata": {},
   "outputs": [
    {
     "data": {
      "text/html": [
       "<div>\n",
       "<style scoped>\n",
       "    .dataframe tbody tr th:only-of-type {\n",
       "        vertical-align: middle;\n",
       "    }\n",
       "\n",
       "    .dataframe tbody tr th {\n",
       "        vertical-align: top;\n",
       "    }\n",
       "\n",
       "    .dataframe thead th {\n",
       "        text-align: right;\n",
       "    }\n",
       "</style>\n",
       "<table border=\"1\" class=\"dataframe\">\n",
       "  <thead>\n",
       "    <tr style=\"text-align: right;\">\n",
       "      <th></th>\n",
       "      <th>BUDGETYEAR</th>\n",
       "      <th>BUDGET CATEGORY</th>\n",
       "      <th>TYPE OF EXPENDITURE</th>\n",
       "      <th>GOVERNMENT AGENCY</th>\n",
       "      <th>TOTAL BUDGET</th>\n",
       "    </tr>\n",
       "  </thead>\n",
       "  <tbody>\n",
       "    <tr>\n",
       "      <th>1875</th>\n",
       "      <td>2020</td>\n",
       "      <td>STATUTORY TRANSFER</td>\n",
       "      <td>NON RECURRENT  EXPENDITURE</td>\n",
       "      <td>NATIONAL JUDICIAL COUNCIL</td>\n",
       "      <td>99000000000</td>\n",
       "    </tr>\n",
       "    <tr>\n",
       "      <th>1876</th>\n",
       "      <td>2020</td>\n",
       "      <td>STATUTORY TRANSFER</td>\n",
       "      <td>NON RECURRENT  EXPENDITURE</td>\n",
       "      <td>NIGER-DELTA DEVELOPMENT COMMISSION</td>\n",
       "      <td>44200986326</td>\n",
       "    </tr>\n",
       "    <tr>\n",
       "      <th>1877</th>\n",
       "      <td>2020</td>\n",
       "      <td>STATUTORY TRANSFER</td>\n",
       "      <td>NON RECURRENT  EXPENDITURE</td>\n",
       "      <td>UNIVERSAL BASIC EDUCATION</td>\n",
       "      <td>51120202624</td>\n",
       "    </tr>\n",
       "    <tr>\n",
       "      <th>1878</th>\n",
       "      <td>2020</td>\n",
       "      <td>STATUTORY TRANSFER</td>\n",
       "      <td>NON RECURRENT  EXPENDITURE</td>\n",
       "      <td>NATIONAL ASSEMBLY</td>\n",
       "      <td>115200000000</td>\n",
       "    </tr>\n",
       "    <tr>\n",
       "      <th>1879</th>\n",
       "      <td>2020</td>\n",
       "      <td>STATUTORY TRANSFER</td>\n",
       "      <td>NON RECURRENT  EXPENDITURE</td>\n",
       "      <td>PUBLIC COMPLAINTS COMMISSION</td>\n",
       "      <td>4230000000</td>\n",
       "    </tr>\n",
       "  </tbody>\n",
       "</table>\n",
       "</div>"
      ],
      "text/plain": [
       "      BUDGETYEAR     BUDGET CATEGORY         TYPE OF EXPENDITURE  \\\n",
       "1875        2020  STATUTORY TRANSFER  NON RECURRENT  EXPENDITURE   \n",
       "1876        2020  STATUTORY TRANSFER  NON RECURRENT  EXPENDITURE   \n",
       "1877        2020  STATUTORY TRANSFER  NON RECURRENT  EXPENDITURE   \n",
       "1878        2020  STATUTORY TRANSFER  NON RECURRENT  EXPENDITURE   \n",
       "1879        2020  STATUTORY TRANSFER  NON RECURRENT  EXPENDITURE   \n",
       "\n",
       "                       GOVERNMENT AGENCY  TOTAL BUDGET  \n",
       "1875           NATIONAL JUDICIAL COUNCIL   99000000000  \n",
       "1876  NIGER-DELTA DEVELOPMENT COMMISSION   44200986326  \n",
       "1877           UNIVERSAL BASIC EDUCATION   51120202624  \n",
       "1878                   NATIONAL ASSEMBLY  115200000000  \n",
       "1879        PUBLIC COMPLAINTS COMMISSION    4230000000  "
      ]
     },
     "execution_count": 83,
     "metadata": {},
     "output_type": "execute_result"
    }
   ],
   "source": [
    "df_20 = df_main[df_main[\"BUDGETYEAR\"] == 2020]\n",
    "df_20.head()"
   ]
  },
  {
   "cell_type": "code",
   "execution_count": 84,
   "metadata": {},
   "outputs": [
    {
     "name": "stdout",
     "output_type": "stream",
     "text": [
      "<class 'pandas.core.frame.DataFrame'>\n",
      "Int64Index: 399 entries, 1875 to 2275\n",
      "Data columns (total 5 columns):\n",
      " #   Column               Non-Null Count  Dtype \n",
      "---  ------               --------------  ----- \n",
      " 0   BUDGETYEAR           399 non-null    int32 \n",
      " 1   BUDGET CATEGORY      399 non-null    object\n",
      " 2   TYPE OF EXPENDITURE  399 non-null    object\n",
      " 3   GOVERNMENT AGENCY    399 non-null    object\n",
      " 4   TOTAL BUDGET         399 non-null    object\n",
      "dtypes: int32(1), object(4)\n",
      "memory usage: 17.1+ KB\n"
     ]
    }
   ],
   "source": [
    "df_20.info()"
   ]
  },
  {
   "cell_type": "code",
   "execution_count": 85,
   "metadata": {},
   "outputs": [
    {
     "name": "stderr",
     "output_type": "stream",
     "text": [
      "C:\\Users\\joogu\\AppData\\Local\\Temp\\ipykernel_9680\\2400429503.py:1: SettingWithCopyWarning: \n",
      "A value is trying to be set on a copy of a slice from a DataFrame.\n",
      "Try using .loc[row_indexer,col_indexer] = value instead\n",
      "\n",
      "See the caveats in the documentation: https://pandas.pydata.org/pandas-docs/stable/user_guide/indexing.html#returning-a-view-versus-a-copy\n",
      "  df_20[budget_amount] = df_20[budget_amount].astype(float)\n"
     ]
    }
   ],
   "source": [
    "df_20[budget_amount] = df_20[budget_amount].astype(float)"
   ]
  },
  {
   "cell_type": "code",
   "execution_count": null,
   "metadata": {},
   "outputs": [],
   "source": []
  },
  {
   "cell_type": "code",
   "execution_count": 86,
   "metadata": {},
   "outputs": [],
   "source": [
    "df_20_group = df_20.groupby([budget_category])[budget_amount].sum()"
   ]
  },
  {
   "cell_type": "code",
   "execution_count": 87,
   "metadata": {},
   "outputs": [
    {
     "data": {
      "text/plain": [
       "BUDGET CATEGORY\n",
       "DEBT SERVICE          5.903420e+12\n",
       "EXECUTIVE ARM         1.539564e+13\n",
       "STATUTORY TRANSFER    7.970120e+11\n",
       "Name: TOTAL BUDGET, dtype: float64"
      ]
     },
     "execution_count": 87,
     "metadata": {},
     "output_type": "execute_result"
    }
   ],
   "source": [
    "df_20_group"
   ]
  },
  {
   "cell_type": "code",
   "execution_count": 88,
   "metadata": {},
   "outputs": [
    {
     "data": {
      "image/png": "[encoded data removed]",
      "text/plain": [
       "<Figure size 432x288 with 1 Axes>"
      ]
     },
     "metadata": {
      "needs_background": "light"
     },
     "output_type": "display_data"
    }
   ],
   "source": [
    "axes = df_20_group.plot.bar(budget_year, budget_category, color=\"green\")"
   ]
  },
  {
   "cell_type": "code",
   "execution_count": null,
   "metadata": {},
   "outputs": [],
   "source": []
  }
 ],
 "metadata": {
  "kernelspec": {
   "display_name": "Python 3.9.12 ('base')",
   "language": "python",
   "name": "python3"
  },
  "language_info": {
   "codemirror_mode": {
    "name": "ipython",
    "version": 3
   },
   "file_extension": ".py",
   "mimetype": "text/x-python",
   "name": "python",
   "nbconvert_exporter": "python",
   "pygments_lexer": "ipython3",
   "version": "3.9.12"
  },
  "orig_nbformat": 4,
  "vscode": {
   "interpreter": {
    "hash": "58d4557a09cb5d15e8b507fb5550c99abc0c9fab090e49118a1b9e9cbc8a6a3e"
   }
  }
 },
 "nbformat": 4,
 "nbformat_minor": 2
}
